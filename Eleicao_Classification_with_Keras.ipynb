{
  "cells": [
    {
      "cell_type": "markdown",
      "metadata": {
        "id": "DJyh_BfHNz1_"
      },
      "source": [
        "# Etapa 1: Importação das bibliotecas"
      ]
    },
    {
      "cell_type": "code",
      "execution_count": null,
      "metadata": {
        "id": "xMDVkEEdN2e-"
      },
      "outputs": [],
      "source": [
        "# Imports\n",
        "import numpy as np\n",
        "import pandas as pd\n",
        "from sklearn import preprocessing\n",
        "from sklearn.model_selection import train_test_split\n",
        "import tensorflow as tf\n",
        "from tensorflow.keras import utils as np_utils\n",
        "from tensorflow import keras\n",
        "from keras.models import Sequential\n",
        "from keras.layers import Dense\n",
        "import os\n",
        "from keras.wrappers.scikit_learn import KerasClassifier\n",
        "from keras.utils import np_utils\n",
        "from sklearn.model_selection import cross_val_score\n",
        "from sklearn.model_selection import KFold\n",
        "from sklearn.preprocessing import LabelEncoder\n",
        "from sklearn.pipeline import Pipeline"
      ]
    },
    {
      "cell_type": "markdown",
      "metadata": {
        "id": "kDYFw_DlOKH_"
      },
      "source": [
        "# Etapa 2: Carregamento e exploração da base de dados\n"
      ]
    },
    {
      "cell_type": "markdown",
      "metadata": {
        "id": "slvRbuL1tfTd"
      },
      "source": [
        "## Ler base de dados"
      ]
    },
    {
      "cell_type": "code",
      "execution_count": null,
      "metadata": {
        "colab": {
          "base_uri": "https://localhost:8080/"
        },
        "id": "rqldhqgdOLxc",
        "outputId": "b7c19553-2951-4750-f091-6e0153b874ed"
      },
      "outputs": [
        {
          "name": "stdout",
          "output_type": "stream",
          "text": [
            "Mounted at /content/drive\n"
          ]
        }
      ],
      "source": [
        "from google.colab import drive\n",
        "drive.mount('/content/drive')"
      ]
    },
    {
      "cell_type": "code",
      "execution_count": null,
      "metadata": {
        "id": "n00rRLpyOwEg"
      },
      "outputs": [],
      "source": [
        "candidatos = pd.read_csv('/content/drive/MyDrive/P2/consulta_cand_2020_RJ.csv',sep=';',encoding = \"ISO-8859-1\")\n",
        "receitas = pd.read_csv('/content/drive/MyDrive/P2/receitas_candidatos_2020_RJ.csv',sep=';',encoding = \"ISO-8859-1\")\n",
        "despesas = pd.read_csv('/content/drive/MyDrive/P2/despesas_contratadas_candidatos_2020_RJ.csv',sep=';',encoding = \"ISO-8859-1\")\n"
      ]
    },
    {
      "cell_type": "markdown",
      "metadata": {
        "id": "xvRVBhzAriIw"
      },
      "source": [
        "## Percebi que o dataset realmente ficará grande, então vou deixar algumas infos comentadas."
      ]
    },
    {
      "cell_type": "markdown",
      "metadata": {},
      "source": [
        "### Explorando o DataFrame de Candidatos"
      ]
    },
    {
      "cell_type": "code",
      "execution_count": 20,
      "metadata": {
        "id": "PUG_AuWazeXP"
      },
      "outputs": [
        {
          "data": {
            "text/html": [
              "<div>\n",
              "<style scoped>\n",
              "    .dataframe tbody tr th:only-of-type {\n",
              "        vertical-align: middle;\n",
              "    }\n",
              "\n",
              "    .dataframe tbody tr th {\n",
              "        vertical-align: top;\n",
              "    }\n",
              "\n",
              "    .dataframe thead th {\n",
              "        text-align: right;\n",
              "    }\n",
              "</style>\n",
              "<table border=\"1\" class=\"dataframe\">\n",
              "  <thead>\n",
              "    <tr style=\"text-align: right;\">\n",
              "      <th></th>\n",
              "      <th>SG_UE</th>\n",
              "      <th>NM_UE</th>\n",
              "      <th>CD_CARGO</th>\n",
              "      <th>DS_CARGO</th>\n",
              "      <th>NR_CANDIDATO</th>\n",
              "      <th>NM_CANDIDATO</th>\n",
              "      <th>NM_URNA_CANDIDATO</th>\n",
              "      <th>NR_CPF_CANDIDATO</th>\n",
              "      <th>NM_EMAIL</th>\n",
              "      <th>TP_AGREMIACAO</th>\n",
              "      <th>...</th>\n",
              "      <th>DS_SIT_TOT_TURNO</th>\n",
              "      <th>ST_REELEICAO</th>\n",
              "      <th>ST_DECLARAR_BENS</th>\n",
              "      <th>NR_PROTOCOLO_CANDIDATURA</th>\n",
              "      <th>NR_PROCESSO</th>\n",
              "      <th>CD_SITUACAO_CANDIDATO_PLEITO</th>\n",
              "      <th>DS_SITUACAO_CANDIDATO_PLEITO</th>\n",
              "      <th>CD_SITUACAO_CANDIDATO_URNA</th>\n",
              "      <th>DS_SITUACAO_CANDIDATO_URNA</th>\n",
              "      <th>ST_CANDIDATO_INSERIDO_URNA,,,,</th>\n",
              "    </tr>\n",
              "  </thead>\n",
              "  <tbody>\n",
              "    <tr>\n",
              "      <th>0</th>\n",
              "      <td>58246</td>\n",
              "      <td>PINHEIRAL</td>\n",
              "      <td>13</td>\n",
              "      <td>VEREADOR</td>\n",
              "      <td>51321</td>\n",
              "      <td>ELIVELTON DE ALMEIDA SILVA</td>\n",
              "      <td>ELIVELTON ALMEIDA</td>\n",
              "      <td>4175260757</td>\n",
              "      <td>ELIVELTON.ALMEIDA@YAHOO.COM.BR</td>\n",
              "      <td>PARTIDO ISOLADO</td>\n",
              "      <td>...</td>\n",
              "      <td>NÃO ELEITO</td>\n",
              "      <td>N</td>\n",
              "      <td>S</td>\n",
              "      <td>-1</td>\n",
              "      <td>6,00367E+18</td>\n",
              "      <td>2</td>\n",
              "      <td>DEFERIDO</td>\n",
              "      <td>2</td>\n",
              "      <td>DEFERIDO</td>\n",
              "      <td>SIM,,,</td>\n",
              "    </tr>\n",
              "    <tr>\n",
              "      <th>1</th>\n",
              "      <td>58491</td>\n",
              "      <td>MAGÃ</td>\n",
              "      <td>13</td>\n",
              "      <td>VEREADOR</td>\n",
              "      <td>27566</td>\n",
              "      <td>LAÃS SEPULVEDA MENESES</td>\n",
              "      <td>LALÃ MENESES</td>\n",
              "      <td>13642617743</td>\n",
              "      <td>LASEPULVEDA.03@GMAIL.COM</td>\n",
              "      <td>PARTIDO ISOLADO</td>\n",
              "      <td>...</td>\n",
              "      <td>SUPLENTE</td>\n",
              "      <td>N</td>\n",
              "      <td>N</td>\n",
              "      <td>-1</td>\n",
              "      <td>6,00854E+18</td>\n",
              "      <td>2</td>\n",
              "      <td>DEFERIDO</td>\n",
              "      <td>2</td>\n",
              "      <td>DEFERIDO</td>\n",
              "      <td>SIM,</td>\n",
              "    </tr>\n",
              "    <tr>\n",
              "      <th>2</th>\n",
              "      <td>58467</td>\n",
              "      <td>MESQUITA</td>\n",
              "      <td>13</td>\n",
              "      <td>VEREADOR</td>\n",
              "      <td>55100</td>\n",
              "      <td>ALEXANDRE JOSÃ DE LIRA</td>\n",
              "      <td>ALEXANDRE LIRA</td>\n",
              "      <td>2300609789</td>\n",
              "      <td>ALEXANDREAGAPE3@GMAIL.COM</td>\n",
              "      <td>PARTIDO ISOLADO</td>\n",
              "      <td>...</td>\n",
              "      <td>SUPLENTE</td>\n",
              "      <td>N</td>\n",
              "      <td>N</td>\n",
              "      <td>-1</td>\n",
              "      <td>6,00252E+18</td>\n",
              "      <td>2</td>\n",
              "      <td>DEFERIDO</td>\n",
              "      <td>2</td>\n",
              "      <td>DEFERIDO</td>\n",
              "      <td>SIM,,,</td>\n",
              "    </tr>\n",
              "    <tr>\n",
              "      <th>3</th>\n",
              "      <td>58122</td>\n",
              "      <td>QUEIMADOS</td>\n",
              "      <td>13</td>\n",
              "      <td>VEREADOR</td>\n",
              "      <td>33777</td>\n",
              "      <td>ALEXANDER TEIXEIRA DA SILVA</td>\n",
              "      <td>PASTOR ALEXANDER TEIXEIRA</td>\n",
              "      <td>7769437741</td>\n",
              "      <td>PRALEXANDERTEIXEIRA@GMAIL.COM</td>\n",
              "      <td>PARTIDO ISOLADO</td>\n",
              "      <td>...</td>\n",
              "      <td>NÃO ELEITO</td>\n",
              "      <td>N</td>\n",
              "      <td>S</td>\n",
              "      <td>-1</td>\n",
              "      <td>6,00331E+18</td>\n",
              "      <td>2</td>\n",
              "      <td>DEFERIDO</td>\n",
              "      <td>2</td>\n",
              "      <td>DEFERIDO</td>\n",
              "      <td>SIM,,,</td>\n",
              "    </tr>\n",
              "    <tr>\n",
              "      <th>4</th>\n",
              "      <td>58599</td>\n",
              "      <td>MIRACEMA</td>\n",
              "      <td>13</td>\n",
              "      <td>VEREADOR</td>\n",
              "      <td>35222</td>\n",
              "      <td>FLAVIO JOSÃ CRUZ FRANCO</td>\n",
              "      <td>FLAVIO PISPIA</td>\n",
              "      <td>73696757772</td>\n",
              "      <td>PMBMIRACEMA35@GMAIL.COM</td>\n",
              "      <td>PARTIDO ISOLADO</td>\n",
              "      <td>...</td>\n",
              "      <td>NÃO ELEITO</td>\n",
              "      <td>N</td>\n",
              "      <td>S</td>\n",
              "      <td>-1</td>\n",
              "      <td>6,00347E+18</td>\n",
              "      <td>2</td>\n",
              "      <td>DEFERIDO</td>\n",
              "      <td>2</td>\n",
              "      <td>DEFERIDO</td>\n",
              "      <td>SIM,,,</td>\n",
              "    </tr>\n",
              "  </tbody>\n",
              "</table>\n",
              "<p>5 rows × 32 columns</p>\n",
              "</div>"
            ],
            "text/plain": [
              "   SG_UE      NM_UE  CD_CARGO  DS_CARGO  NR_CANDIDATO  \\\n",
              "0  58246  PINHEIRAL        13  VEREADOR         51321   \n",
              "1  58491      MAGÃ        13  VEREADOR         27566   \n",
              "2  58467   MESQUITA        13  VEREADOR         55100   \n",
              "3  58122  QUEIMADOS        13  VEREADOR         33777   \n",
              "4  58599   MIRACEMA        13  VEREADOR         35222   \n",
              "\n",
              "                  NM_CANDIDATO          NM_URNA_CANDIDATO  NR_CPF_CANDIDATO  \\\n",
              "0   ELIVELTON DE ALMEIDA SILVA          ELIVELTON ALMEIDA        4175260757   \n",
              "1      LAÃS SEPULVEDA MENESES              LALÃ MENESES       13642617743   \n",
              "2      ALEXANDRE JOSÃ DE LIRA             ALEXANDRE LIRA        2300609789   \n",
              "3  ALEXANDER TEIXEIRA DA SILVA  PASTOR ALEXANDER TEIXEIRA        7769437741   \n",
              "4     FLAVIO JOSÃ CRUZ FRANCO              FLAVIO PISPIA       73696757772   \n",
              "\n",
              "                         NM_EMAIL    TP_AGREMIACAO  ...  DS_SIT_TOT_TURNO  \\\n",
              "0  ELIVELTON.ALMEIDA@YAHOO.COM.BR  PARTIDO ISOLADO  ...       NÃO ELEITO   \n",
              "1        LASEPULVEDA.03@GMAIL.COM  PARTIDO ISOLADO  ...          SUPLENTE   \n",
              "2       ALEXANDREAGAPE3@GMAIL.COM  PARTIDO ISOLADO  ...          SUPLENTE   \n",
              "3   PRALEXANDERTEIXEIRA@GMAIL.COM  PARTIDO ISOLADO  ...       NÃO ELEITO   \n",
              "4         PMBMIRACEMA35@GMAIL.COM  PARTIDO ISOLADO  ...       NÃO ELEITO   \n",
              "\n",
              "  ST_REELEICAO ST_DECLARAR_BENS NR_PROTOCOLO_CANDIDATURA  NR_PROCESSO  \\\n",
              "0            N                S                       -1  6,00367E+18   \n",
              "1            N                N                       -1  6,00854E+18   \n",
              "2            N                N                       -1  6,00252E+18   \n",
              "3            N                S                       -1  6,00331E+18   \n",
              "4            N                S                       -1  6,00347E+18   \n",
              "\n",
              "   CD_SITUACAO_CANDIDATO_PLEITO DS_SITUACAO_CANDIDATO_PLEITO  \\\n",
              "0                             2                     DEFERIDO   \n",
              "1                             2                     DEFERIDO   \n",
              "2                             2                     DEFERIDO   \n",
              "3                             2                     DEFERIDO   \n",
              "4                             2                     DEFERIDO   \n",
              "\n",
              "  CD_SITUACAO_CANDIDATO_URNA DS_SITUACAO_CANDIDATO_URNA  \\\n",
              "0                          2                   DEFERIDO   \n",
              "1                          2                   DEFERIDO   \n",
              "2                          2                   DEFERIDO   \n",
              "3                          2                   DEFERIDO   \n",
              "4                          2                   DEFERIDO   \n",
              "\n",
              "  ST_CANDIDATO_INSERIDO_URNA,,,,  \n",
              "0                         SIM,,,  \n",
              "1                           SIM,  \n",
              "2                         SIM,,,  \n",
              "3                         SIM,,,  \n",
              "4                         SIM,,,  \n",
              "\n",
              "[5 rows x 32 columns]"
            ]
          },
          "execution_count": 20,
          "metadata": {},
          "output_type": "execute_result"
        }
      ],
      "source": [
        "candidatos.head()"
      ]
    },
    {
      "cell_type": "code",
      "execution_count": 21,
      "metadata": {
        "id": "02eP_6FJOENu"
      },
      "outputs": [
        {
          "name": "stdout",
          "output_type": "stream",
          "text": [
            "<class 'pandas.core.frame.DataFrame'>\n",
            "RangeIndex: 26510 entries, 0 to 26509\n",
            "Data columns (total 32 columns):\n",
            " #   Column                          Non-Null Count  Dtype  \n",
            "---  ------                          --------------  -----  \n",
            " 0   SG_UE                           26510 non-null  int64  \n",
            " 1   NM_UE                           26510 non-null  object \n",
            " 2   CD_CARGO                        26510 non-null  int64  \n",
            " 3   DS_CARGO                        26510 non-null  object \n",
            " 4   NR_CANDIDATO                    26510 non-null  int64  \n",
            " 5   NM_CANDIDATO                    26510 non-null  object \n",
            " 6   NM_URNA_CANDIDATO               26510 non-null  object \n",
            " 7   NR_CPF_CANDIDATO                26510 non-null  int64  \n",
            " 8   NM_EMAIL                        26510 non-null  object \n",
            " 9   TP_AGREMIACAO                   26510 non-null  object \n",
            " 10  NR_PARTIDO                      26510 non-null  int64  \n",
            " 11  SG_PARTIDO                      26510 non-null  object \n",
            " 12  NM_PARTIDO                      26510 non-null  object \n",
            " 13  DS_COMPOSICAO_COLIGACAO         26510 non-null  object \n",
            " 14  CD_NACIONALIDADE                26510 non-null  int64  \n",
            " 15  NR_IDADE_DATA_POSSE             26510 non-null  int64  \n",
            " 16  DS_GENERO                       26510 non-null  object \n",
            " 17  DS_GRAU_INSTRUCAO               26510 non-null  object \n",
            " 18  DS_ESTADO_CIVIL                 26510 non-null  object \n",
            " 19  DS_COR_RACA                     26510 non-null  object \n",
            " 20  DS_OCUPACAO                     26510 non-null  object \n",
            " 21  VR_DESPESA_MAX_CAMPANHA         26510 non-null  float64\n",
            " 22  DS_SIT_TOT_TURNO                26510 non-null  object \n",
            " 23  ST_REELEICAO                    26510 non-null  object \n",
            " 24  ST_DECLARAR_BENS                26510 non-null  object \n",
            " 25  NR_PROTOCOLO_CANDIDATURA        26510 non-null  int64  \n",
            " 26  NR_PROCESSO                     26510 non-null  object \n",
            " 27  CD_SITUACAO_CANDIDATO_PLEITO    26510 non-null  int64  \n",
            " 28  DS_SITUACAO_CANDIDATO_PLEITO    26510 non-null  object \n",
            " 29  CD_SITUACAO_CANDIDATO_URNA      26510 non-null  int64  \n",
            " 30  DS_SITUACAO_CANDIDATO_URNA      26510 non-null  object \n",
            " 31  ST_CANDIDATO_INSERIDO_URNA,,,,  26510 non-null  object \n",
            "dtypes: float64(1), int64(10), object(21)\n",
            "memory usage: 6.5+ MB\n"
          ]
        }
      ],
      "source": [
        "candidatos.info()"
      ]
    },
    {
      "cell_type": "code",
      "execution_count": 23,
      "metadata": {},
      "outputs": [
        {
          "data": {
            "text/plain": [
              "Index(['SG_UE', 'NM_UE', 'CD_CARGO', 'DS_CARGO', 'NR_CANDIDATO',\n",
              "       'NM_CANDIDATO', 'NM_URNA_CANDIDATO', 'NR_CPF_CANDIDATO', 'NM_EMAIL',\n",
              "       'TP_AGREMIACAO', 'NR_PARTIDO', 'SG_PARTIDO', 'NM_PARTIDO',\n",
              "       'DS_COMPOSICAO_COLIGACAO', 'CD_NACIONALIDADE', 'NR_IDADE_DATA_POSSE',\n",
              "       'DS_GENERO', 'DS_GRAU_INSTRUCAO', 'DS_ESTADO_CIVIL', 'DS_COR_RACA',\n",
              "       'DS_OCUPACAO', 'VR_DESPESA_MAX_CAMPANHA', 'DS_SIT_TOT_TURNO',\n",
              "       'ST_REELEICAO', 'ST_DECLARAR_BENS', 'NR_PROTOCOLO_CANDIDATURA',\n",
              "       'NR_PROCESSO', 'CD_SITUACAO_CANDIDATO_PLEITO',\n",
              "       'DS_SITUACAO_CANDIDATO_PLEITO', 'CD_SITUACAO_CANDIDATO_URNA',\n",
              "       'DS_SITUACAO_CANDIDATO_URNA', 'ST_CANDIDATO_INSERIDO_URNA,,,,'],\n",
              "      dtype='object')"
            ]
          },
          "execution_count": 23,
          "metadata": {},
          "output_type": "execute_result"
        }
      ],
      "source": [
        "candidatos.columns"
      ]
    },
    {
      "cell_type": "code",
      "execution_count": 24,
      "metadata": {},
      "outputs": [
        {
          "data": {
            "text/plain": [
              "SG_UE                             0\n",
              "NM_UE                             0\n",
              "CD_CARGO                          0\n",
              "DS_CARGO                          0\n",
              "NR_CANDIDATO                      0\n",
              "NM_CANDIDATO                      0\n",
              "NM_URNA_CANDIDATO                 0\n",
              "NR_CPF_CANDIDATO                  0\n",
              "NM_EMAIL                          0\n",
              "TP_AGREMIACAO                     0\n",
              "NR_PARTIDO                        0\n",
              "SG_PARTIDO                        0\n",
              "NM_PARTIDO                        0\n",
              "DS_COMPOSICAO_COLIGACAO           0\n",
              "CD_NACIONALIDADE                  0\n",
              "NR_IDADE_DATA_POSSE               0\n",
              "DS_GENERO                         0\n",
              "DS_GRAU_INSTRUCAO                 0\n",
              "DS_ESTADO_CIVIL                   0\n",
              "DS_COR_RACA                       0\n",
              "DS_OCUPACAO                       0\n",
              "VR_DESPESA_MAX_CAMPANHA           0\n",
              "DS_SIT_TOT_TURNO                  0\n",
              "ST_REELEICAO                      0\n",
              "ST_DECLARAR_BENS                  0\n",
              "NR_PROTOCOLO_CANDIDATURA          0\n",
              "NR_PROCESSO                       0\n",
              "CD_SITUACAO_CANDIDATO_PLEITO      0\n",
              "DS_SITUACAO_CANDIDATO_PLEITO      0\n",
              "CD_SITUACAO_CANDIDATO_URNA        0\n",
              "DS_SITUACAO_CANDIDATO_URNA        0\n",
              "ST_CANDIDATO_INSERIDO_URNA,,,,    0\n",
              "dtype: int64"
            ]
          },
          "execution_count": 24,
          "metadata": {},
          "output_type": "execute_result"
        }
      ],
      "source": [
        "candidatos.isnull().sum()"
      ]
    },
    {
      "cell_type": "markdown",
      "metadata": {},
      "source": [
        "### Explorando o DataFrame de Receitas"
      ]
    },
    {
      "cell_type": "code",
      "execution_count": 26,
      "metadata": {},
      "outputs": [
        {
          "data": {
            "text/html": [
              "<div>\n",
              "<style scoped>\n",
              "    .dataframe tbody tr th:only-of-type {\n",
              "        vertical-align: middle;\n",
              "    }\n",
              "\n",
              "    .dataframe tbody tr th {\n",
              "        vertical-align: top;\n",
              "    }\n",
              "\n",
              "    .dataframe thead th {\n",
              "        text-align: right;\n",
              "    }\n",
              "</style>\n",
              "<table border=\"1\" class=\"dataframe\">\n",
              "  <thead>\n",
              "    <tr style=\"text-align: right;\">\n",
              "      <th></th>\n",
              "      <th>DT_GERACAO</th>\n",
              "      <th>HH_GERACAO</th>\n",
              "      <th>ANO_ELEICAO</th>\n",
              "      <th>CD_TIPO_ELEICAO</th>\n",
              "      <th>NM_TIPO_ELEICAO</th>\n",
              "      <th>CD_ELEICAO</th>\n",
              "      <th>DS_ELEICAO</th>\n",
              "      <th>DT_ELEICAO</th>\n",
              "      <th>ST_TURNO</th>\n",
              "      <th>TP_PRESTACAO_CONTAS</th>\n",
              "      <th>...</th>\n",
              "      <th>DS_CARGO_CANDIDATO_DOADOR</th>\n",
              "      <th>NR_PARTIDO_DOADOR</th>\n",
              "      <th>SG_PARTIDO_DOADOR</th>\n",
              "      <th>NM_PARTIDO_DOADOR</th>\n",
              "      <th>NR_RECIBO_DOACAO</th>\n",
              "      <th>NR_DOCUMENTO_DOACAO</th>\n",
              "      <th>SQ_RECEITA</th>\n",
              "      <th>DT_RECEITA</th>\n",
              "      <th>DS_RECEITA</th>\n",
              "      <th>VR_RECEITA</th>\n",
              "    </tr>\n",
              "  </thead>\n",
              "  <tbody>\n",
              "    <tr>\n",
              "      <th>0</th>\n",
              "      <td>08/12/2021</td>\n",
              "      <td>22:20:30</td>\n",
              "      <td>2020</td>\n",
              "      <td>2</td>\n",
              "      <td>Ordinária</td>\n",
              "      <td>426</td>\n",
              "      <td>Eleições Municipais 2020</td>\n",
              "      <td>15/11/2020</td>\n",
              "      <td>1</td>\n",
              "      <td>Final</td>\n",
              "      <td>...</td>\n",
              "      <td>#NULO#</td>\n",
              "      <td>-1</td>\n",
              "      <td>#NULO#</td>\n",
              "      <td>#NULO#</td>\n",
              "      <td>195551360011RJ000004E</td>\n",
              "      <td>#NULO#</td>\n",
              "      <td>19124346</td>\n",
              "      <td>14/11/2020</td>\n",
              "      <td>ADESIVO PERFURADO 45X45</td>\n",
              "      <td>300,00</td>\n",
              "    </tr>\n",
              "    <tr>\n",
              "      <th>1</th>\n",
              "      <td>08/12/2021</td>\n",
              "      <td>22:20:30</td>\n",
              "      <td>2020</td>\n",
              "      <td>2</td>\n",
              "      <td>Ordinária</td>\n",
              "      <td>426</td>\n",
              "      <td>Eleições Municipais 2020</td>\n",
              "      <td>15/11/2020</td>\n",
              "      <td>1</td>\n",
              "      <td>Final</td>\n",
              "      <td>...</td>\n",
              "      <td>#NULO#</td>\n",
              "      <td>-1</td>\n",
              "      <td>#NULO#</td>\n",
              "      <td>#NULO#</td>\n",
              "      <td>195551360011RJ000004E</td>\n",
              "      <td>#NULO#</td>\n",
              "      <td>19124346</td>\n",
              "      <td>14/11/2020</td>\n",
              "      <td>PANFLETOS 7X10 10000</td>\n",
              "      <td>180,00</td>\n",
              "    </tr>\n",
              "    <tr>\n",
              "      <th>2</th>\n",
              "      <td>08/12/2021</td>\n",
              "      <td>22:20:30</td>\n",
              "      <td>2020</td>\n",
              "      <td>2</td>\n",
              "      <td>Ordinária</td>\n",
              "      <td>426</td>\n",
              "      <td>Eleições Municipais 2020</td>\n",
              "      <td>15/11/2020</td>\n",
              "      <td>1</td>\n",
              "      <td>Final</td>\n",
              "      <td>...</td>\n",
              "      <td>#NULO#</td>\n",
              "      <td>-1</td>\n",
              "      <td>#NULO#</td>\n",
              "      <td>#NULO#</td>\n",
              "      <td>700271358491RJ000009E</td>\n",
              "      <td>8</td>\n",
              "      <td>18568750</td>\n",
              "      <td>27/11/2020</td>\n",
              "      <td>#NULO#</td>\n",
              "      <td>2000,00</td>\n",
              "    </tr>\n",
              "    <tr>\n",
              "      <th>3</th>\n",
              "      <td>08/12/2021</td>\n",
              "      <td>22:20:30</td>\n",
              "      <td>2020</td>\n",
              "      <td>2</td>\n",
              "      <td>Ordinária</td>\n",
              "      <td>426</td>\n",
              "      <td>Eleições Municipais 2020</td>\n",
              "      <td>15/11/2020</td>\n",
              "      <td>1</td>\n",
              "      <td>Final</td>\n",
              "      <td>...</td>\n",
              "      <td>#NULO#</td>\n",
              "      <td>-1</td>\n",
              "      <td>#NULO#</td>\n",
              "      <td>#NULO#</td>\n",
              "      <td>121111358238RJ000006E</td>\n",
              "      <td>#NULO#</td>\n",
              "      <td>19056774</td>\n",
              "      <td>18/10/2020</td>\n",
              "      <td>PRESTAÇÃO DE SERVIÇOS DE DIVULGAÇÃO DA CANDIDA...</td>\n",
              "      <td>300,00</td>\n",
              "    </tr>\n",
              "    <tr>\n",
              "      <th>4</th>\n",
              "      <td>08/12/2021</td>\n",
              "      <td>22:20:30</td>\n",
              "      <td>2020</td>\n",
              "      <td>2</td>\n",
              "      <td>Ordinária</td>\n",
              "      <td>426</td>\n",
              "      <td>Eleições Municipais 2020</td>\n",
              "      <td>15/11/2020</td>\n",
              "      <td>1</td>\n",
              "      <td>Final</td>\n",
              "      <td>...</td>\n",
              "      <td>Vereador</td>\n",
              "      <td>51</td>\n",
              "      <td>PATRIOTA</td>\n",
              "      <td>Patriota</td>\n",
              "      <td>#NULO#</td>\n",
              "      <td>879348</td>\n",
              "      <td>18877668</td>\n",
              "      <td>14/12/2020</td>\n",
              "      <td>#NULO#</td>\n",
              "      <td>200,00</td>\n",
              "    </tr>\n",
              "  </tbody>\n",
              "</table>\n",
              "<p>5 rows × 57 columns</p>\n",
              "</div>"
            ],
            "text/plain": [
              "   DT_GERACAO HH_GERACAO  ANO_ELEICAO  CD_TIPO_ELEICAO NM_TIPO_ELEICAO  \\\n",
              "0  08/12/2021   22:20:30         2020                2       Ordinária   \n",
              "1  08/12/2021   22:20:30         2020                2       Ordinária   \n",
              "2  08/12/2021   22:20:30         2020                2       Ordinária   \n",
              "3  08/12/2021   22:20:30         2020                2       Ordinária   \n",
              "4  08/12/2021   22:20:30         2020                2       Ordinária   \n",
              "\n",
              "   CD_ELEICAO                DS_ELEICAO  DT_ELEICAO  ST_TURNO  \\\n",
              "0         426  Eleições Municipais 2020  15/11/2020         1   \n",
              "1         426  Eleições Municipais 2020  15/11/2020         1   \n",
              "2         426  Eleições Municipais 2020  15/11/2020         1   \n",
              "3         426  Eleições Municipais 2020  15/11/2020         1   \n",
              "4         426  Eleições Municipais 2020  15/11/2020         1   \n",
              "\n",
              "  TP_PRESTACAO_CONTAS  ... DS_CARGO_CANDIDATO_DOADOR  NR_PARTIDO_DOADOR  \\\n",
              "0               Final  ...                    #NULO#                 -1   \n",
              "1               Final  ...                    #NULO#                 -1   \n",
              "2               Final  ...                    #NULO#                 -1   \n",
              "3               Final  ...                    #NULO#                 -1   \n",
              "4               Final  ...                  Vereador                 51   \n",
              "\n",
              "  SG_PARTIDO_DOADOR  NM_PARTIDO_DOADOR       NR_RECIBO_DOACAO  \\\n",
              "0            #NULO#             #NULO#  195551360011RJ000004E   \n",
              "1            #NULO#             #NULO#  195551360011RJ000004E   \n",
              "2            #NULO#             #NULO#  700271358491RJ000009E   \n",
              "3            #NULO#             #NULO#  121111358238RJ000006E   \n",
              "4          PATRIOTA           Patriota                 #NULO#   \n",
              "\n",
              "   NR_DOCUMENTO_DOACAO  SQ_RECEITA  DT_RECEITA  \\\n",
              "0               #NULO#    19124346  14/11/2020   \n",
              "1               #NULO#    19124346  14/11/2020   \n",
              "2                    8    18568750  27/11/2020   \n",
              "3               #NULO#    19056774  18/10/2020   \n",
              "4               879348    18877668  14/12/2020   \n",
              "\n",
              "                                          DS_RECEITA  VR_RECEITA  \n",
              "0                            ADESIVO PERFURADO 45X45      300,00  \n",
              "1                               PANFLETOS 7X10 10000      180,00  \n",
              "2                                             #NULO#     2000,00  \n",
              "3  PRESTAÇÃO DE SERVIÇOS DE DIVULGAÇÃO DA CANDIDA...      300,00  \n",
              "4                                             #NULO#      200,00  \n",
              "\n",
              "[5 rows x 57 columns]"
            ]
          },
          "execution_count": 26,
          "metadata": {},
          "output_type": "execute_result"
        }
      ],
      "source": [
        "receitas.head()"
      ]
    },
    {
      "cell_type": "code",
      "execution_count": 25,
      "metadata": {
        "id": "E5hi5jzpOLud"
      },
      "outputs": [
        {
          "name": "stdout",
          "output_type": "stream",
          "text": [
            "<class 'pandas.core.frame.DataFrame'>\n",
            "RangeIndex: 111851 entries, 0 to 111850\n",
            "Data columns (total 57 columns):\n",
            " #   Column                       Non-Null Count   Dtype \n",
            "---  ------                       --------------   ----- \n",
            " 0   DT_GERACAO                   111851 non-null  object\n",
            " 1   HH_GERACAO                   111851 non-null  object\n",
            " 2   ANO_ELEICAO                  111851 non-null  int64 \n",
            " 3   CD_TIPO_ELEICAO              111851 non-null  int64 \n",
            " 4   NM_TIPO_ELEICAO              111851 non-null  object\n",
            " 5   CD_ELEICAO                   111851 non-null  int64 \n",
            " 6   DS_ELEICAO                   111851 non-null  object\n",
            " 7   DT_ELEICAO                   111851 non-null  object\n",
            " 8   ST_TURNO                     111851 non-null  int64 \n",
            " 9   TP_PRESTACAO_CONTAS          111851 non-null  object\n",
            " 10  DT_PRESTACAO_CONTAS          111851 non-null  object\n",
            " 11  SQ_PRESTADOR_CONTAS          111851 non-null  int64 \n",
            " 12  SG_UF                        111851 non-null  object\n",
            " 13  SG_UE                        111851 non-null  int64 \n",
            " 14  NM_UE                        111851 non-null  object\n",
            " 15  NR_CNPJ_PRESTADOR_CONTA      111851 non-null  int64 \n",
            " 16  CD_CARGO                     111851 non-null  int64 \n",
            " 17  DS_CARGO                     111851 non-null  object\n",
            " 18  SQ_CANDIDATO                 111851 non-null  int64 \n",
            " 19  NR_CANDIDATO                 111851 non-null  int64 \n",
            " 20  NM_CANDIDATO                 111851 non-null  object\n",
            " 21  NR_CPF_CANDIDATO             111851 non-null  int64 \n",
            " 22  NR_CPF_VICE_CANDIDATO        111851 non-null  int64 \n",
            " 23  NR_PARTIDO                   111851 non-null  int64 \n",
            " 24  SG_PARTIDO                   111851 non-null  object\n",
            " 25  NM_PARTIDO                   111851 non-null  object\n",
            " 26  CD_FONTE_RECEITA             111851 non-null  int64 \n",
            " 27  DS_FONTE_RECEITA             111851 non-null  object\n",
            " 28  CD_ORIGEM_RECEITA            111851 non-null  int64 \n",
            " 29  DS_ORIGEM_RECEITA            111851 non-null  object\n",
            " 30  CD_NATUREZA_RECEITA          111851 non-null  int64 \n",
            " 31  DS_NATUREZA_RECEITA          111851 non-null  object\n",
            " 32  CD_ESPECIE_RECEITA           111851 non-null  int64 \n",
            " 33  DS_ESPECIE_RECEITA           111851 non-null  object\n",
            " 34  CD_CNAE_DOADOR               111851 non-null  int64 \n",
            " 35  DS_CNAE_DOADOR               111851 non-null  object\n",
            " 36  NR_CPF_CNPJ_DOADOR           111851 non-null  int64 \n",
            " 37  NM_DOADOR                    111851 non-null  object\n",
            " 38  NM_DOADOR_RFB                111851 non-null  object\n",
            " 39  CD_ESFERA_PARTIDARIA_DOADOR  111851 non-null  object\n",
            " 40  DS_ESFERA_PARTIDARIA_DOADOR  111851 non-null  object\n",
            " 41  SG_UF_DOADOR                 111851 non-null  object\n",
            " 42  CD_MUNICIPIO_DOADOR          111851 non-null  int64 \n",
            " 43  NM_MUNICIPIO_DOADOR          111851 non-null  object\n",
            " 44  SQ_CANDIDATO_DOADOR          111851 non-null  int64 \n",
            " 45  NR_CANDIDATO_DOADOR          111851 non-null  int64 \n",
            " 46  CD_CARGO_CANDIDATO_DOADOR    111851 non-null  int64 \n",
            " 47  DS_CARGO_CANDIDATO_DOADOR    111851 non-null  object\n",
            " 48  NR_PARTIDO_DOADOR            111851 non-null  int64 \n",
            " 49  SG_PARTIDO_DOADOR            111851 non-null  object\n",
            " 50  NM_PARTIDO_DOADOR            111851 non-null  object\n",
            " 51  NR_RECIBO_DOACAO             111851 non-null  object\n",
            " 52  NR_DOCUMENTO_DOACAO          111850 non-null  object\n",
            " 53  SQ_RECEITA                   111851 non-null  int64 \n",
            " 54  DT_RECEITA                   111851 non-null  object\n",
            " 55  DS_RECEITA                   111851 non-null  object\n",
            " 56  VR_RECEITA                   111851 non-null  object\n",
            "dtypes: int64(25), object(32)\n",
            "memory usage: 48.6+ MB\n"
          ]
        }
      ],
      "source": [
        "receitas.info()"
      ]
    },
    {
      "cell_type": "code",
      "execution_count": 27,
      "metadata": {},
      "outputs": [
        {
          "data": {
            "text/plain": [
              "Index(['DT_GERACAO', 'HH_GERACAO', 'ANO_ELEICAO', 'CD_TIPO_ELEICAO',\n",
              "       'NM_TIPO_ELEICAO', 'CD_ELEICAO', 'DS_ELEICAO', 'DT_ELEICAO', 'ST_TURNO',\n",
              "       'TP_PRESTACAO_CONTAS', 'DT_PRESTACAO_CONTAS', 'SQ_PRESTADOR_CONTAS',\n",
              "       'SG_UF', 'SG_UE', 'NM_UE', 'NR_CNPJ_PRESTADOR_CONTA', 'CD_CARGO',\n",
              "       'DS_CARGO', 'SQ_CANDIDATO', 'NR_CANDIDATO', 'NM_CANDIDATO',\n",
              "       'NR_CPF_CANDIDATO', 'NR_CPF_VICE_CANDIDATO', 'NR_PARTIDO', 'SG_PARTIDO',\n",
              "       'NM_PARTIDO', 'CD_FONTE_RECEITA', 'DS_FONTE_RECEITA',\n",
              "       'CD_ORIGEM_RECEITA', 'DS_ORIGEM_RECEITA', 'CD_NATUREZA_RECEITA',\n",
              "       'DS_NATUREZA_RECEITA', 'CD_ESPECIE_RECEITA', 'DS_ESPECIE_RECEITA',\n",
              "       'CD_CNAE_DOADOR', 'DS_CNAE_DOADOR', 'NR_CPF_CNPJ_DOADOR', 'NM_DOADOR',\n",
              "       'NM_DOADOR_RFB', 'CD_ESFERA_PARTIDARIA_DOADOR',\n",
              "       'DS_ESFERA_PARTIDARIA_DOADOR', 'SG_UF_DOADOR', 'CD_MUNICIPIO_DOADOR',\n",
              "       'NM_MUNICIPIO_DOADOR', 'SQ_CANDIDATO_DOADOR', 'NR_CANDIDATO_DOADOR',\n",
              "       'CD_CARGO_CANDIDATO_DOADOR', 'DS_CARGO_CANDIDATO_DOADOR',\n",
              "       'NR_PARTIDO_DOADOR', 'SG_PARTIDO_DOADOR', 'NM_PARTIDO_DOADOR',\n",
              "       'NR_RECIBO_DOACAO', 'NR_DOCUMENTO_DOACAO', 'SQ_RECEITA', 'DT_RECEITA',\n",
              "       'DS_RECEITA', 'VR_RECEITA'],\n",
              "      dtype='object')"
            ]
          },
          "execution_count": 27,
          "metadata": {},
          "output_type": "execute_result"
        }
      ],
      "source": [
        "receitas.columns"
      ]
    },
    {
      "cell_type": "code",
      "execution_count": 28,
      "metadata": {},
      "outputs": [
        {
          "data": {
            "text/plain": [
              "DT_GERACAO                     0\n",
              "HH_GERACAO                     0\n",
              "ANO_ELEICAO                    0\n",
              "CD_TIPO_ELEICAO                0\n",
              "NM_TIPO_ELEICAO                0\n",
              "CD_ELEICAO                     0\n",
              "DS_ELEICAO                     0\n",
              "DT_ELEICAO                     0\n",
              "ST_TURNO                       0\n",
              "TP_PRESTACAO_CONTAS            0\n",
              "DT_PRESTACAO_CONTAS            0\n",
              "SQ_PRESTADOR_CONTAS            0\n",
              "SG_UF                          0\n",
              "SG_UE                          0\n",
              "NM_UE                          0\n",
              "NR_CNPJ_PRESTADOR_CONTA        0\n",
              "CD_CARGO                       0\n",
              "DS_CARGO                       0\n",
              "SQ_CANDIDATO                   0\n",
              "NR_CANDIDATO                   0\n",
              "NM_CANDIDATO                   0\n",
              "NR_CPF_CANDIDATO               0\n",
              "NR_CPF_VICE_CANDIDATO          0\n",
              "NR_PARTIDO                     0\n",
              "SG_PARTIDO                     0\n",
              "NM_PARTIDO                     0\n",
              "CD_FONTE_RECEITA               0\n",
              "DS_FONTE_RECEITA               0\n",
              "CD_ORIGEM_RECEITA              0\n",
              "DS_ORIGEM_RECEITA              0\n",
              "CD_NATUREZA_RECEITA            0\n",
              "DS_NATUREZA_RECEITA            0\n",
              "CD_ESPECIE_RECEITA             0\n",
              "DS_ESPECIE_RECEITA             0\n",
              "CD_CNAE_DOADOR                 0\n",
              "DS_CNAE_DOADOR                 0\n",
              "NR_CPF_CNPJ_DOADOR             0\n",
              "NM_DOADOR                      0\n",
              "NM_DOADOR_RFB                  0\n",
              "CD_ESFERA_PARTIDARIA_DOADOR    0\n",
              "DS_ESFERA_PARTIDARIA_DOADOR    0\n",
              "SG_UF_DOADOR                   0\n",
              "CD_MUNICIPIO_DOADOR            0\n",
              "NM_MUNICIPIO_DOADOR            0\n",
              "SQ_CANDIDATO_DOADOR            0\n",
              "NR_CANDIDATO_DOADOR            0\n",
              "CD_CARGO_CANDIDATO_DOADOR      0\n",
              "DS_CARGO_CANDIDATO_DOADOR      0\n",
              "NR_PARTIDO_DOADOR              0\n",
              "SG_PARTIDO_DOADOR              0\n",
              "NM_PARTIDO_DOADOR              0\n",
              "NR_RECIBO_DOACAO               0\n",
              "NR_DOCUMENTO_DOACAO            1\n",
              "SQ_RECEITA                     0\n",
              "DT_RECEITA                     0\n",
              "DS_RECEITA                     0\n",
              "VR_RECEITA                     0\n",
              "dtype: int64"
            ]
          },
          "execution_count": 28,
          "metadata": {},
          "output_type": "execute_result"
        }
      ],
      "source": [
        "receitas.isnull().sum()"
      ]
    },
    {
      "cell_type": "markdown",
      "metadata": {},
      "source": [
        "### Explorando o DataFrame de Despesas"
      ]
    },
    {
      "cell_type": "code",
      "execution_count": 30,
      "metadata": {},
      "outputs": [
        {
          "data": {
            "text/html": [
              "<div>\n",
              "<style scoped>\n",
              "    .dataframe tbody tr th:only-of-type {\n",
              "        vertical-align: middle;\n",
              "    }\n",
              "\n",
              "    .dataframe tbody tr th {\n",
              "        vertical-align: top;\n",
              "    }\n",
              "\n",
              "    .dataframe thead th {\n",
              "        text-align: right;\n",
              "    }\n",
              "</style>\n",
              "<table border=\"1\" class=\"dataframe\">\n",
              "  <thead>\n",
              "    <tr style=\"text-align: right;\">\n",
              "      <th></th>\n",
              "      <th>DT_GERACAO</th>\n",
              "      <th>HH_GERACAO</th>\n",
              "      <th>ANO_ELEICAO</th>\n",
              "      <th>CD_TIPO_ELEICAO</th>\n",
              "      <th>NM_TIPO_ELEICAO</th>\n",
              "      <th>CD_ELEICAO</th>\n",
              "      <th>DS_ELEICAO</th>\n",
              "      <th>DT_ELEICAO</th>\n",
              "      <th>ST_TURNO</th>\n",
              "      <th>TP_PRESTACAO_CONTAS</th>\n",
              "      <th>...</th>\n",
              "      <th>SG_PARTIDO_FORNECEDOR</th>\n",
              "      <th>NM_PARTIDO_FORNECEDOR</th>\n",
              "      <th>DS_TIPO_DOCUMENTO</th>\n",
              "      <th>NR_DOCUMENTO</th>\n",
              "      <th>CD_ORIGEM_DESPESA</th>\n",
              "      <th>DS_ORIGEM_DESPESA</th>\n",
              "      <th>SQ_DESPESA</th>\n",
              "      <th>DT_DESPESA</th>\n",
              "      <th>DS_DESPESA</th>\n",
              "      <th>VR_DESPESA_CONTRATADA</th>\n",
              "    </tr>\n",
              "  </thead>\n",
              "  <tbody>\n",
              "    <tr>\n",
              "      <th>0</th>\n",
              "      <td>08/12/2021</td>\n",
              "      <td>22:16:37</td>\n",
              "      <td>2020</td>\n",
              "      <td>2</td>\n",
              "      <td>Ordinária</td>\n",
              "      <td>426</td>\n",
              "      <td>Eleições Municipais 2020</td>\n",
              "      <td>15/11/2020</td>\n",
              "      <td>1</td>\n",
              "      <td>Final</td>\n",
              "      <td>...</td>\n",
              "      <td>#NULO#</td>\n",
              "      <td>#NULO#</td>\n",
              "      <td>Outro</td>\n",
              "      <td>001</td>\n",
              "      <td>20310000</td>\n",
              "      <td>Produção de jingles, vinhetas e slogans</td>\n",
              "      <td>39709085</td>\n",
              "      <td>30/09/2020</td>\n",
              "      <td>PRODUÇÃO E GRAVAÇÃO DO JINGLE</td>\n",
              "      <td>1500,00</td>\n",
              "    </tr>\n",
              "    <tr>\n",
              "      <th>1</th>\n",
              "      <td>08/12/2021</td>\n",
              "      <td>22:16:37</td>\n",
              "      <td>2020</td>\n",
              "      <td>2</td>\n",
              "      <td>Ordinária</td>\n",
              "      <td>426</td>\n",
              "      <td>Eleições Municipais 2020</td>\n",
              "      <td>15/11/2020</td>\n",
              "      <td>1</td>\n",
              "      <td>Final</td>\n",
              "      <td>...</td>\n",
              "      <td>#NULO#</td>\n",
              "      <td>#NULO#</td>\n",
              "      <td>Outro</td>\n",
              "      <td>SN</td>\n",
              "      <td>20010000</td>\n",
              "      <td>Despesas com pessoal</td>\n",
              "      <td>40143329</td>\n",
              "      <td>09/11/2020</td>\n",
              "      <td>SERVIÇO DE PANFLETAGEM PARA CAMPANHA ELEITORAL</td>\n",
              "      <td>250,00</td>\n",
              "    </tr>\n",
              "    <tr>\n",
              "      <th>2</th>\n",
              "      <td>08/12/2021</td>\n",
              "      <td>22:16:37</td>\n",
              "      <td>2020</td>\n",
              "      <td>2</td>\n",
              "      <td>Ordinária</td>\n",
              "      <td>426</td>\n",
              "      <td>Eleições Municipais 2020</td>\n",
              "      <td>15/11/2020</td>\n",
              "      <td>1</td>\n",
              "      <td>Final</td>\n",
              "      <td>...</td>\n",
              "      <td>#NULO#</td>\n",
              "      <td>#NULO#</td>\n",
              "      <td>Outro</td>\n",
              "      <td>00029</td>\n",
              "      <td>20010000</td>\n",
              "      <td>Despesas com pessoal</td>\n",
              "      <td>40143370</td>\n",
              "      <td>09/11/2020</td>\n",
              "      <td>SERVIÇO DE PANFLETAGEM PARA CAMPANHA ELEITORAL</td>\n",
              "      <td>250,00</td>\n",
              "    </tr>\n",
              "    <tr>\n",
              "      <th>3</th>\n",
              "      <td>08/12/2021</td>\n",
              "      <td>22:16:37</td>\n",
              "      <td>2020</td>\n",
              "      <td>2</td>\n",
              "      <td>Ordinária</td>\n",
              "      <td>426</td>\n",
              "      <td>Eleições Municipais 2020</td>\n",
              "      <td>15/11/2020</td>\n",
              "      <td>1</td>\n",
              "      <td>Final</td>\n",
              "      <td>...</td>\n",
              "      <td>#NULO#</td>\n",
              "      <td>#NULO#</td>\n",
              "      <td>Outro</td>\n",
              "      <td>SN</td>\n",
              "      <td>20010000</td>\n",
              "      <td>Despesas com pessoal</td>\n",
              "      <td>40143319</td>\n",
              "      <td>09/11/2020</td>\n",
              "      <td>SERVIÇO DE PANFLETAGEM PARA CAMPANHA ELEITORAL</td>\n",
              "      <td>250,00</td>\n",
              "    </tr>\n",
              "    <tr>\n",
              "      <th>4</th>\n",
              "      <td>08/12/2021</td>\n",
              "      <td>22:16:37</td>\n",
              "      <td>2020</td>\n",
              "      <td>2</td>\n",
              "      <td>Ordinária</td>\n",
              "      <td>426</td>\n",
              "      <td>Eleições Municipais 2020</td>\n",
              "      <td>15/11/2020</td>\n",
              "      <td>1</td>\n",
              "      <td>Final</td>\n",
              "      <td>...</td>\n",
              "      <td>#NULO#</td>\n",
              "      <td>#NULO#</td>\n",
              "      <td>Outro</td>\n",
              "      <td>SN</td>\n",
              "      <td>20010000</td>\n",
              "      <td>Despesas com pessoal</td>\n",
              "      <td>40143285</td>\n",
              "      <td>09/11/2020</td>\n",
              "      <td>SERVIÇO DE PANFLETAGEM PARA CAMPANHA ELEITORAL</td>\n",
              "      <td>250,00</td>\n",
              "    </tr>\n",
              "  </tbody>\n",
              "</table>\n",
              "<p>5 rows × 53 columns</p>\n",
              "</div>"
            ],
            "text/plain": [
              "   DT_GERACAO HH_GERACAO  ANO_ELEICAO  CD_TIPO_ELEICAO NM_TIPO_ELEICAO  \\\n",
              "0  08/12/2021   22:16:37         2020                2       Ordinária   \n",
              "1  08/12/2021   22:16:37         2020                2       Ordinária   \n",
              "2  08/12/2021   22:16:37         2020                2       Ordinária   \n",
              "3  08/12/2021   22:16:37         2020                2       Ordinária   \n",
              "4  08/12/2021   22:16:37         2020                2       Ordinária   \n",
              "\n",
              "   CD_ELEICAO                DS_ELEICAO  DT_ELEICAO  ST_TURNO  \\\n",
              "0         426  Eleições Municipais 2020  15/11/2020         1   \n",
              "1         426  Eleições Municipais 2020  15/11/2020         1   \n",
              "2         426  Eleições Municipais 2020  15/11/2020         1   \n",
              "3         426  Eleições Municipais 2020  15/11/2020         1   \n",
              "4         426  Eleições Municipais 2020  15/11/2020         1   \n",
              "\n",
              "  TP_PRESTACAO_CONTAS  ... SG_PARTIDO_FORNECEDOR  NM_PARTIDO_FORNECEDOR  \\\n",
              "0               Final  ...                #NULO#                 #NULO#   \n",
              "1               Final  ...                #NULO#                 #NULO#   \n",
              "2               Final  ...                #NULO#                 #NULO#   \n",
              "3               Final  ...                #NULO#                 #NULO#   \n",
              "4               Final  ...                #NULO#                 #NULO#   \n",
              "\n",
              "  DS_TIPO_DOCUMENTO  NR_DOCUMENTO CD_ORIGEM_DESPESA  \\\n",
              "0             Outro           001          20310000   \n",
              "1             Outro            SN          20010000   \n",
              "2             Outro         00029          20010000   \n",
              "3             Outro            SN          20010000   \n",
              "4             Outro            SN          20010000   \n",
              "\n",
              "                         DS_ORIGEM_DESPESA  SQ_DESPESA  DT_DESPESA  \\\n",
              "0  Produção de jingles, vinhetas e slogans    39709085  30/09/2020   \n",
              "1                     Despesas com pessoal    40143329  09/11/2020   \n",
              "2                     Despesas com pessoal    40143370  09/11/2020   \n",
              "3                     Despesas com pessoal    40143319  09/11/2020   \n",
              "4                     Despesas com pessoal    40143285  09/11/2020   \n",
              "\n",
              "                                       DS_DESPESA  VR_DESPESA_CONTRATADA  \n",
              "0                   PRODUÇÃO E GRAVAÇÃO DO JINGLE                1500,00  \n",
              "1  SERVIÇO DE PANFLETAGEM PARA CAMPANHA ELEITORAL                 250,00  \n",
              "2  SERVIÇO DE PANFLETAGEM PARA CAMPANHA ELEITORAL                 250,00  \n",
              "3  SERVIÇO DE PANFLETAGEM PARA CAMPANHA ELEITORAL                 250,00  \n",
              "4  SERVIÇO DE PANFLETAGEM PARA CAMPANHA ELEITORAL                 250,00  \n",
              "\n",
              "[5 rows x 53 columns]"
            ]
          },
          "execution_count": 30,
          "metadata": {},
          "output_type": "execute_result"
        }
      ],
      "source": [
        "despesas.head()"
      ]
    },
    {
      "cell_type": "code",
      "execution_count": 31,
      "metadata": {
        "id": "lITFEEEWOU3W"
      },
      "outputs": [
        {
          "name": "stdout",
          "output_type": "stream",
          "text": [
            "<class 'pandas.core.frame.DataFrame'>\n",
            "RangeIndex: 230112 entries, 0 to 230111\n",
            "Data columns (total 53 columns):\n",
            " #   Column                     Non-Null Count   Dtype \n",
            "---  ------                     --------------   ----- \n",
            " 0   DT_GERACAO                 230112 non-null  object\n",
            " 1   HH_GERACAO                 230112 non-null  object\n",
            " 2   ANO_ELEICAO                230112 non-null  int64 \n",
            " 3   CD_TIPO_ELEICAO            230112 non-null  int64 \n",
            " 4   NM_TIPO_ELEICAO            230112 non-null  object\n",
            " 5   CD_ELEICAO                 230112 non-null  int64 \n",
            " 6   DS_ELEICAO                 230112 non-null  object\n",
            " 7   DT_ELEICAO                 230112 non-null  object\n",
            " 8   ST_TURNO                   230112 non-null  int64 \n",
            " 9   TP_PRESTACAO_CONTAS        230112 non-null  object\n",
            " 10  DT_PRESTACAO_CONTAS        230112 non-null  object\n",
            " 11  SQ_PRESTADOR_CONTAS        230112 non-null  int64 \n",
            " 12  SG_UF                      230112 non-null  object\n",
            " 13  SG_UE                      230112 non-null  int64 \n",
            " 14  NM_UE                      230112 non-null  object\n",
            " 15  NR_CNPJ_PRESTADOR_CONTA    230112 non-null  int64 \n",
            " 16  CD_CARGO                   230112 non-null  int64 \n",
            " 17  DS_CARGO                   230112 non-null  object\n",
            " 18  SQ_CANDIDATO               230112 non-null  int64 \n",
            " 19  NR_CANDIDATO               230112 non-null  int64 \n",
            " 20  NM_CANDIDATO               230112 non-null  object\n",
            " 21  NR_CPF_CANDIDATO           230112 non-null  int64 \n",
            " 22  NR_CPF_VICE_CANDIDATO      230112 non-null  int64 \n",
            " 23  NR_PARTIDO                 230112 non-null  int64 \n",
            " 24  SG_PARTIDO                 230112 non-null  object\n",
            " 25  NM_PARTIDO                 230112 non-null  object\n",
            " 26  CD_TIPO_FORNECEDOR         230112 non-null  int64 \n",
            " 27  DS_TIPO_FORNECEDOR         230112 non-null  object\n",
            " 28  CD_CNAE_FORNECEDOR         230112 non-null  int64 \n",
            " 29  DS_CNAE_FORNECEDOR         230112 non-null  object\n",
            " 30  NR_CPF_CNPJ_FORNECEDOR     230112 non-null  int64 \n",
            " 31  NM_FORNECEDOR              230112 non-null  object\n",
            " 32  NM_FORNECEDOR_RFB          230112 non-null  object\n",
            " 33  CD_ESFERA_PART_FORNECEDOR  230112 non-null  int64 \n",
            " 34  DS_ESFERA_PART_FORNECEDOR  230112 non-null  object\n",
            " 35  SG_UF_FORNECEDOR           230112 non-null  object\n",
            " 36  CD_MUNICIPIO_FORNECEDOR    230112 non-null  int64 \n",
            " 37  NM_MUNICIPIO_FORNECEDOR    230112 non-null  object\n",
            " 38  SQ_CANDIDATO_FORNECEDOR    230112 non-null  int64 \n",
            " 39  NR_CANDIDATO_FORNECEDOR    230112 non-null  int64 \n",
            " 40  CD_CARGO_FORNECEDOR        230112 non-null  int64 \n",
            " 41  DS_CARGO_FORNECEDOR        230112 non-null  object\n",
            " 42  NR_PARTIDO_FORNECEDOR      230112 non-null  int64 \n",
            " 43  SG_PARTIDO_FORNECEDOR      230112 non-null  object\n",
            " 44  NM_PARTIDO_FORNECEDOR      230112 non-null  object\n",
            " 45  DS_TIPO_DOCUMENTO          230112 non-null  object\n",
            " 46  NR_DOCUMENTO               229971 non-null  object\n",
            " 47  CD_ORIGEM_DESPESA          230112 non-null  int64 \n",
            " 48  DS_ORIGEM_DESPESA          230112 non-null  object\n",
            " 49  SQ_DESPESA                 230112 non-null  int64 \n",
            " 50  DT_DESPESA                 230112 non-null  object\n",
            " 51  DS_DESPESA                 230112 non-null  object\n",
            " 52  VR_DESPESA_CONTRATADA      230112 non-null  object\n",
            "dtypes: int64(24), object(29)\n",
            "memory usage: 93.0+ MB\n"
          ]
        }
      ],
      "source": [
        "despesas.info()"
      ]
    },
    {
      "cell_type": "code",
      "execution_count": 32,
      "metadata": {},
      "outputs": [
        {
          "data": {
            "text/plain": [
              "Index(['DT_GERACAO', 'HH_GERACAO', 'ANO_ELEICAO', 'CD_TIPO_ELEICAO',\n",
              "       'NM_TIPO_ELEICAO', 'CD_ELEICAO', 'DS_ELEICAO', 'DT_ELEICAO', 'ST_TURNO',\n",
              "       'TP_PRESTACAO_CONTAS', 'DT_PRESTACAO_CONTAS', 'SQ_PRESTADOR_CONTAS',\n",
              "       'SG_UF', 'SG_UE', 'NM_UE', 'NR_CNPJ_PRESTADOR_CONTA', 'CD_CARGO',\n",
              "       'DS_CARGO', 'SQ_CANDIDATO', 'NR_CANDIDATO', 'NM_CANDIDATO',\n",
              "       'NR_CPF_CANDIDATO', 'NR_CPF_VICE_CANDIDATO', 'NR_PARTIDO', 'SG_PARTIDO',\n",
              "       'NM_PARTIDO', 'CD_TIPO_FORNECEDOR', 'DS_TIPO_FORNECEDOR',\n",
              "       'CD_CNAE_FORNECEDOR', 'DS_CNAE_FORNECEDOR', 'NR_CPF_CNPJ_FORNECEDOR',\n",
              "       'NM_FORNECEDOR', 'NM_FORNECEDOR_RFB', 'CD_ESFERA_PART_FORNECEDOR',\n",
              "       'DS_ESFERA_PART_FORNECEDOR', 'SG_UF_FORNECEDOR',\n",
              "       'CD_MUNICIPIO_FORNECEDOR', 'NM_MUNICIPIO_FORNECEDOR',\n",
              "       'SQ_CANDIDATO_FORNECEDOR', 'NR_CANDIDATO_FORNECEDOR',\n",
              "       'CD_CARGO_FORNECEDOR', 'DS_CARGO_FORNECEDOR', 'NR_PARTIDO_FORNECEDOR',\n",
              "       'SG_PARTIDO_FORNECEDOR', 'NM_PARTIDO_FORNECEDOR', 'DS_TIPO_DOCUMENTO',\n",
              "       'NR_DOCUMENTO', 'CD_ORIGEM_DESPESA', 'DS_ORIGEM_DESPESA', 'SQ_DESPESA',\n",
              "       'DT_DESPESA', 'DS_DESPESA', 'VR_DESPESA_CONTRATADA'],\n",
              "      dtype='object')"
            ]
          },
          "execution_count": 32,
          "metadata": {},
          "output_type": "execute_result"
        }
      ],
      "source": [
        "despesas.columns"
      ]
    },
    {
      "cell_type": "code",
      "execution_count": 33,
      "metadata": {},
      "outputs": [
        {
          "data": {
            "text/plain": [
              "DT_GERACAO                     0\n",
              "HH_GERACAO                     0\n",
              "ANO_ELEICAO                    0\n",
              "CD_TIPO_ELEICAO                0\n",
              "NM_TIPO_ELEICAO                0\n",
              "CD_ELEICAO                     0\n",
              "DS_ELEICAO                     0\n",
              "DT_ELEICAO                     0\n",
              "ST_TURNO                       0\n",
              "TP_PRESTACAO_CONTAS            0\n",
              "DT_PRESTACAO_CONTAS            0\n",
              "SQ_PRESTADOR_CONTAS            0\n",
              "SG_UF                          0\n",
              "SG_UE                          0\n",
              "NM_UE                          0\n",
              "NR_CNPJ_PRESTADOR_CONTA        0\n",
              "CD_CARGO                       0\n",
              "DS_CARGO                       0\n",
              "SQ_CANDIDATO                   0\n",
              "NR_CANDIDATO                   0\n",
              "NM_CANDIDATO                   0\n",
              "NR_CPF_CANDIDATO               0\n",
              "NR_CPF_VICE_CANDIDATO          0\n",
              "NR_PARTIDO                     0\n",
              "SG_PARTIDO                     0\n",
              "NM_PARTIDO                     0\n",
              "CD_TIPO_FORNECEDOR             0\n",
              "DS_TIPO_FORNECEDOR             0\n",
              "CD_CNAE_FORNECEDOR             0\n",
              "DS_CNAE_FORNECEDOR             0\n",
              "NR_CPF_CNPJ_FORNECEDOR         0\n",
              "NM_FORNECEDOR                  0\n",
              "NM_FORNECEDOR_RFB              0\n",
              "CD_ESFERA_PART_FORNECEDOR      0\n",
              "DS_ESFERA_PART_FORNECEDOR      0\n",
              "SG_UF_FORNECEDOR               0\n",
              "CD_MUNICIPIO_FORNECEDOR        0\n",
              "NM_MUNICIPIO_FORNECEDOR        0\n",
              "SQ_CANDIDATO_FORNECEDOR        0\n",
              "NR_CANDIDATO_FORNECEDOR        0\n",
              "CD_CARGO_FORNECEDOR            0\n",
              "DS_CARGO_FORNECEDOR            0\n",
              "NR_PARTIDO_FORNECEDOR          0\n",
              "SG_PARTIDO_FORNECEDOR          0\n",
              "NM_PARTIDO_FORNECEDOR          0\n",
              "DS_TIPO_DOCUMENTO              0\n",
              "NR_DOCUMENTO                 141\n",
              "CD_ORIGEM_DESPESA              0\n",
              "DS_ORIGEM_DESPESA              0\n",
              "SQ_DESPESA                     0\n",
              "DT_DESPESA                     0\n",
              "DS_DESPESA                     0\n",
              "VR_DESPESA_CONTRATADA          0\n",
              "dtype: int64"
            ]
          },
          "execution_count": 33,
          "metadata": {},
          "output_type": "execute_result"
        }
      ],
      "source": [
        "despesas.isnull().sum()"
      ]
    },
    {
      "cell_type": "markdown",
      "metadata": {
        "id": "-Mwzj6Nz2wKN"
      },
      "source": [
        "## Já deixo uma obsevação para o modo de como o dataset chegou. Com esses títulos e com alguns erros de digitação torna o trabalho mais difícil. Ja irei  corrigir a coluna \"ST_CANDIDATO_INSERIDO_URNA,,,,\" e posteriormente trocarei os nomes.\n"
      ]
    },
    {
      "cell_type": "code",
      "execution_count": null,
      "metadata": {
        "colab": {
          "base_uri": "https://localhost:8080/"
        },
        "id": "px9qjkXvruz4",
        "outputId": "923be8eb-f9df-4b56-9a71-40b4a3b52167"
      },
      "outputs": [
        {
          "data": {
            "text/plain": [
              "Index(['SG_UE', 'NM_UE', 'CD_CARGO', 'DS_CARGO', 'NR_CANDIDATO',\n",
              "       'NM_CANDIDATO', 'NM_URNA_CANDIDATO', 'NR_CPF_CANDIDATO', 'NM_EMAIL',\n",
              "       'TP_AGREMIACAO', 'NR_PARTIDO', 'SG_PARTIDO', 'NM_PARTIDO',\n",
              "       'DS_COMPOSICAO_COLIGACAO', 'CD_NACIONALIDADE', 'NR_IDADE_DATA_POSSE',\n",
              "       'DS_GENERO', 'DS_GRAU_INSTRUCAO', 'DS_ESTADO_CIVIL', 'DS_COR_RACA',\n",
              "       'DS_OCUPACAO', 'VR_DESPESA_MAX_CAMPANHA', 'DS_SIT_TOT_TURNO',\n",
              "       'ST_REELEICAO', 'ST_DECLARAR_BENS', 'NR_PROTOCOLO_CANDIDATURA',\n",
              "       'NR_PROCESSO', 'CD_SITUACAO_CANDIDATO_PLEITO',\n",
              "       'DS_SITUACAO_CANDIDATO_PLEITO', 'CD_SITUACAO_CANDIDATO_URNA',\n",
              "       'DS_SITUACAO_CANDIDATO_URNA', 'ST_CANDIDATO_INSERIDO_URNA,,,,'],\n",
              "      dtype='object')"
            ]
          },
          "execution_count": 8,
          "metadata": {},
          "output_type": "execute_result"
        }
      ],
      "source": [
        "candidatos.columns"
      ]
    },
    {
      "cell_type": "code",
      "execution_count": null,
      "metadata": {
        "id": "i4rnOtGvlIxY"
      },
      "outputs": [],
      "source": [
        "candidatos = candidatos.rename(columns = {'ST_CANDIDATO_INSERIDO_URNA,,,,': 'ST_CANDIDATO_INSERIDO_URNA'}, inplace = False)"
      ]
    },
    {
      "cell_type": "code",
      "execution_count": null,
      "metadata": {
        "colab": {
          "base_uri": "https://localhost:8080/"
        },
        "id": "zUK3d1GgvSf6",
        "outputId": "5be7c951-409f-4326-8077-5edd5ff7e23a"
      },
      "outputs": [
        {
          "data": {
            "text/plain": [
              "Index(['SG_UE', 'NM_UE', 'CD_CARGO', 'DS_CARGO', 'NR_CANDIDATO',\n",
              "       'NM_CANDIDATO', 'NM_URNA_CANDIDATO', 'NR_CPF_CANDIDATO', 'NM_EMAIL',\n",
              "       'TP_AGREMIACAO', 'NR_PARTIDO', 'SG_PARTIDO', 'NM_PARTIDO',\n",
              "       'DS_COMPOSICAO_COLIGACAO', 'CD_NACIONALIDADE', 'NR_IDADE_DATA_POSSE',\n",
              "       'DS_GENERO', 'DS_GRAU_INSTRUCAO', 'DS_ESTADO_CIVIL', 'DS_COR_RACA',\n",
              "       'DS_OCUPACAO', 'VR_DESPESA_MAX_CAMPANHA', 'DS_SIT_TOT_TURNO',\n",
              "       'ST_REELEICAO', 'ST_DECLARAR_BENS', 'NR_PROTOCOLO_CANDIDATURA',\n",
              "       'NR_PROCESSO', 'CD_SITUACAO_CANDIDATO_PLEITO',\n",
              "       'DS_SITUACAO_CANDIDATO_PLEITO', 'CD_SITUACAO_CANDIDATO_URNA',\n",
              "       'DS_SITUACAO_CANDIDATO_URNA', 'ST_CANDIDATO_INSERIDO_URNA'],\n",
              "      dtype='object')"
            ]
          },
          "execution_count": 10,
          "metadata": {},
          "output_type": "execute_result"
        }
      ],
      "source": [
        "candidatos.columns"
      ]
    },
    {
      "cell_type": "code",
      "execution_count": null,
      "metadata": {
        "id": "LWJLq7CFlc9A"
      },
      "outputs": [],
      "source": [
        "columns = ['NM_URNA_CANDIDATO', 'SG_PARTIDO','VR_DESPESA_MAX_CAMPANHA',\n",
        "       'ST_REELEICAO', 'ST_DECLARAR_BENS', 'NR_PROTOCOLO_CANDIDATURA',\n",
        "       'NR_PROCESSO', 'CD_SITUACAO_CANDIDATO_PLEITO',\n",
        "       'DS_SITUACAO_CANDIDATO_PLEITO', 'CD_SITUACAO_CANDIDATO_URNA',\n",
        "       'DS_SITUACAO_CANDIDATO_URNA', 'ST_CANDIDATO_INSERIDO_URNA']\n",
        "candidatos.drop(columns, inplace=True, axis=1)"
      ]
    },
    {
      "cell_type": "code",
      "execution_count": null,
      "metadata": {
        "colab": {
          "base_uri": "https://localhost:8080/"
        },
        "id": "AxMI1uM9mIbA",
        "outputId": "0a484bc4-d226-47bb-cd67-c319e1cc5182"
      },
      "outputs": [
        {
          "data": {
            "text/plain": [
              "Index(['SG_UE', 'NM_UE', 'CD_CARGO', 'DS_CARGO', 'NR_CANDIDATO',\n",
              "       'NM_CANDIDATO', 'NR_CPF_CANDIDATO', 'NM_EMAIL', 'TP_AGREMIACAO',\n",
              "       'NR_PARTIDO', 'NM_PARTIDO', 'DS_COMPOSICAO_COLIGACAO',\n",
              "       'CD_NACIONALIDADE', 'NR_IDADE_DATA_POSSE', 'DS_GENERO',\n",
              "       'DS_GRAU_INSTRUCAO', 'DS_ESTADO_CIVIL', 'DS_COR_RACA', 'DS_OCUPACAO',\n",
              "       'DS_SIT_TOT_TURNO'],\n",
              "      dtype='object')"
            ]
          },
          "execution_count": 12,
          "metadata": {},
          "output_type": "execute_result"
        }
      ],
      "source": [
        "candidatos.columns"
      ]
    },
    {
      "cell_type": "code",
      "execution_count": null,
      "metadata": {
        "id": "YyrvZbXjvbli"
      },
      "outputs": [],
      "source": [
        "#deletar colunas"
      ]
    },
    {
      "cell_type": "code",
      "execution_count": null,
      "metadata": {
        "colab": {
          "base_uri": "https://localhost:8080/"
        },
        "id": "LAzNHx9Txs91",
        "outputId": "4d8d2c8c-96f6-40c7-efbd-4d6ac27faa9a"
      },
      "outputs": [
        {
          "data": {
            "text/plain": [
              "Index(['SG_UE', 'NM_UE', 'CD_CARGO', 'DS_CARGO', 'NR_CANDIDATO',\n",
              "       'NM_CANDIDATO', 'NR_CPF_CANDIDATO', 'NM_EMAIL', 'TP_AGREMIACAO',\n",
              "       'NR_PARTIDO', 'NM_PARTIDO', 'DS_COMPOSICAO_COLIGACAO',\n",
              "       'CD_NACIONALIDADE', 'NR_IDADE_DATA_POSSE', 'DS_GENERO',\n",
              "       'DS_GRAU_INSTRUCAO', 'DS_ESTADO_CIVIL', 'DS_COR_RACA', 'DS_OCUPACAO',\n",
              "       'DS_SIT_TOT_TURNO'],\n",
              "      dtype='object')"
            ]
          },
          "execution_count": 14,
          "metadata": {},
          "output_type": "execute_result"
        }
      ],
      "source": [
        "candidatos.columns"
      ]
    },
    {
      "cell_type": "code",
      "execution_count": null,
      "metadata": {
        "colab": {
          "base_uri": "https://localhost:8080/",
          "height": 444
        },
        "id": "9Bkz3X78meeg",
        "outputId": "96e1cf7b-c57e-433a-dbfb-28258ca31bb6"
      },
      "outputs": [
        {
          "data": {
            "text/html": [
              "\n",
              "  <div id=\"df-b86fb769-0eac-44bb-a728-1bbd50e3c44d\">\n",
              "    <div class=\"colab-df-container\">\n",
              "      <div>\n",
              "<style scoped>\n",
              "    .dataframe tbody tr th:only-of-type {\n",
              "        vertical-align: middle;\n",
              "    }\n",
              "\n",
              "    .dataframe tbody tr th {\n",
              "        vertical-align: top;\n",
              "    }\n",
              "\n",
              "    .dataframe thead th {\n",
              "        text-align: right;\n",
              "    }\n",
              "</style>\n",
              "<table border=\"1\" class=\"dataframe\">\n",
              "  <thead>\n",
              "    <tr style=\"text-align: right;\">\n",
              "      <th></th>\n",
              "      <th>SG_UE</th>\n",
              "      <th>NM_UE</th>\n",
              "      <th>CD_CARGO</th>\n",
              "      <th>DS_CARGO</th>\n",
              "      <th>NR_CANDIDATO</th>\n",
              "      <th>NM_CANDIDATO</th>\n",
              "      <th>NR_CPF_CANDIDATO</th>\n",
              "      <th>NM_EMAIL</th>\n",
              "      <th>TP_AGREMIACAO</th>\n",
              "      <th>NR_PARTIDO</th>\n",
              "      <th>NM_PARTIDO</th>\n",
              "      <th>DS_COMPOSICAO_COLIGACAO</th>\n",
              "      <th>CD_NACIONALIDADE</th>\n",
              "      <th>NR_IDADE_DATA_POSSE</th>\n",
              "      <th>DS_GENERO</th>\n",
              "      <th>DS_GRAU_INSTRUCAO</th>\n",
              "      <th>DS_ESTADO_CIVIL</th>\n",
              "      <th>DS_COR_RACA</th>\n",
              "      <th>DS_OCUPACAO</th>\n",
              "      <th>DS_SIT_TOT_TURNO</th>\n",
              "    </tr>\n",
              "  </thead>\n",
              "  <tbody>\n",
              "    <tr>\n",
              "      <th>0</th>\n",
              "      <td>58246</td>\n",
              "      <td>PINHEIRAL</td>\n",
              "      <td>13</td>\n",
              "      <td>VEREADOR</td>\n",
              "      <td>51321</td>\n",
              "      <td>ELIVELTON DE ALMEIDA SILVA</td>\n",
              "      <td>4175260757</td>\n",
              "      <td>ELIVELTON.ALMEIDA@YAHOO.COM.BR</td>\n",
              "      <td>PARTIDO ISOLADO</td>\n",
              "      <td>51</td>\n",
              "      <td>PATRIOTA</td>\n",
              "      <td>PATRIOTA</td>\n",
              "      <td>1</td>\n",
              "      <td>42</td>\n",
              "      <td>MASCULINO</td>\n",
              "      <td>ENSINO FUNDAMENTAL INCOMPLETO</td>\n",
              "      <td>CASADO(A)</td>\n",
              "      <td>PRETA</td>\n",
              "      <td>MOTORISTA DE VEÃCULOS DE TRANSPORTE DE CARGA</td>\n",
              "      <td>NÃO ELEITO</td>\n",
              "    </tr>\n",
              "    <tr>\n",
              "      <th>1</th>\n",
              "      <td>58491</td>\n",
              "      <td>MAGÃ</td>\n",
              "      <td>13</td>\n",
              "      <td>VEREADOR</td>\n",
              "      <td>27566</td>\n",
              "      <td>LAÃS SEPULVEDA MENESES</td>\n",
              "      <td>13642617743</td>\n",
              "      <td>LASEPULVEDA.03@GMAIL.COM</td>\n",
              "      <td>PARTIDO ISOLADO</td>\n",
              "      <td>27</td>\n",
              "      <td>DEMOCRACIA CRISTÃ</td>\n",
              "      <td>DC</td>\n",
              "      <td>1</td>\n",
              "      <td>28</td>\n",
              "      <td>FEMININO</td>\n",
              "      <td>SUPERIOR COMPLETO</td>\n",
              "      <td>SOLTEIRO(A)</td>\n",
              "      <td>BRANCA</td>\n",
              "      <td>ESTUDANTE,BOLSISTA,ESTAGIÃRIO E ASSEMELHADOS</td>\n",
              "      <td>SUPLENTE</td>\n",
              "    </tr>\n",
              "    <tr>\n",
              "      <th>2</th>\n",
              "      <td>58467</td>\n",
              "      <td>MESQUITA</td>\n",
              "      <td>13</td>\n",
              "      <td>VEREADOR</td>\n",
              "      <td>55100</td>\n",
              "      <td>ALEXANDRE JOSÃ DE LIRA</td>\n",
              "      <td>2300609789</td>\n",
              "      <td>ALEXANDREAGAPE3@GMAIL.COM</td>\n",
              "      <td>PARTIDO ISOLADO</td>\n",
              "      <td>55</td>\n",
              "      <td>PARTIDO SOCIAL DEMOCRÃTICO</td>\n",
              "      <td>PSD</td>\n",
              "      <td>1</td>\n",
              "      <td>49</td>\n",
              "      <td>MASCULINO</td>\n",
              "      <td>ENSINO MÃDIO INCOMPLETO</td>\n",
              "      <td>CASADO(A)</td>\n",
              "      <td>PARDA</td>\n",
              "      <td>EMPRESÃRIO</td>\n",
              "      <td>SUPLENTE</td>\n",
              "    </tr>\n",
              "    <tr>\n",
              "      <th>3</th>\n",
              "      <td>58122</td>\n",
              "      <td>QUEIMADOS</td>\n",
              "      <td>13</td>\n",
              "      <td>VEREADOR</td>\n",
              "      <td>33777</td>\n",
              "      <td>ALEXANDER TEIXEIRA DA SILVA</td>\n",
              "      <td>7769437741</td>\n",
              "      <td>PRALEXANDERTEIXEIRA@GMAIL.COM</td>\n",
              "      <td>PARTIDO ISOLADO</td>\n",
              "      <td>33</td>\n",
              "      <td>PARTIDO DA MOBILIZAÃÃO NACIONAL</td>\n",
              "      <td>PMN</td>\n",
              "      <td>1</td>\n",
              "      <td>42</td>\n",
              "      <td>MASCULINO</td>\n",
              "      <td>ENSINO MÃDIO COMPLETO</td>\n",
              "      <td>CASADO(A)</td>\n",
              "      <td>PARDA</td>\n",
              "      <td>OPERADOR DE APARELHOS DE PRODUÃÃO INDUSTRIAL</td>\n",
              "      <td>NÃO ELEITO</td>\n",
              "    </tr>\n",
              "    <tr>\n",
              "      <th>4</th>\n",
              "      <td>58599</td>\n",
              "      <td>MIRACEMA</td>\n",
              "      <td>13</td>\n",
              "      <td>VEREADOR</td>\n",
              "      <td>35222</td>\n",
              "      <td>FLAVIO JOSÃ CRUZ FRANCO</td>\n",
              "      <td>73696757772</td>\n",
              "      <td>PMBMIRACEMA35@GMAIL.COM</td>\n",
              "      <td>PARTIDO ISOLADO</td>\n",
              "      <td>35</td>\n",
              "      <td>PARTIDO DA MULHER BRASILEIRA</td>\n",
              "      <td>PMB</td>\n",
              "      <td>1</td>\n",
              "      <td>58</td>\n",
              "      <td>MASCULINO</td>\n",
              "      <td>ENSINO MÃDIO COMPLETO</td>\n",
              "      <td>DIVORCIADO(A)</td>\n",
              "      <td>BRANCA</td>\n",
              "      <td>CONTADOR</td>\n",
              "      <td>NÃO ELEITO</td>\n",
              "    </tr>\n",
              "  </tbody>\n",
              "</table>\n",
              "</div>\n",
              "      <button class=\"colab-df-convert\" onclick=\"convertToInteractive('df-b86fb769-0eac-44bb-a728-1bbd50e3c44d')\"\n",
              "              title=\"Convert this dataframe to an interactive table.\"\n",
              "              style=\"display:none;\">\n",
              "        \n",
              "  <svg xmlns=\"http://www.w3.org/2000/svg\" height=\"24px\"viewBox=\"0 0 24 24\"\n",
              "       width=\"24px\">\n",
              "    <path d=\"M0 0h24v24H0V0z\" fill=\"none\"/>\n",
              "    <path d=\"M18.56 5.44l.94 2.06.94-2.06 2.06-.94-2.06-.94-.94-2.06-.94 2.06-2.06.94zm-11 1L8.5 8.5l.94-2.06 2.06-.94-2.06-.94L8.5 2.5l-.94 2.06-2.06.94zm10 10l.94 2.06.94-2.06 2.06-.94-2.06-.94-.94-2.06-.94 2.06-2.06.94z\"/><path d=\"M17.41 7.96l-1.37-1.37c-.4-.4-.92-.59-1.43-.59-.52 0-1.04.2-1.43.59L10.3 9.45l-7.72 7.72c-.78.78-.78 2.05 0 2.83L4 21.41c.39.39.9.59 1.41.59.51 0 1.02-.2 1.41-.59l7.78-7.78 2.81-2.81c.8-.78.8-2.07 0-2.86zM5.41 20L4 18.59l7.72-7.72 1.47 1.35L5.41 20z\"/>\n",
              "  </svg>\n",
              "      </button>\n",
              "      \n",
              "  <style>\n",
              "    .colab-df-container {\n",
              "      display:flex;\n",
              "      flex-wrap:wrap;\n",
              "      gap: 12px;\n",
              "    }\n",
              "\n",
              "    .colab-df-convert {\n",
              "      background-color: #E8F0FE;\n",
              "      border: none;\n",
              "      border-radius: 50%;\n",
              "      cursor: pointer;\n",
              "      display: none;\n",
              "      fill: #1967D2;\n",
              "      height: 32px;\n",
              "      padding: 0 0 0 0;\n",
              "      width: 32px;\n",
              "    }\n",
              "\n",
              "    .colab-df-convert:hover {\n",
              "      background-color: #E2EBFA;\n",
              "      box-shadow: 0px 1px 2px rgba(60, 64, 67, 0.3), 0px 1px 3px 1px rgba(60, 64, 67, 0.15);\n",
              "      fill: #174EA6;\n",
              "    }\n",
              "\n",
              "    [theme=dark] .colab-df-convert {\n",
              "      background-color: #3B4455;\n",
              "      fill: #D2E3FC;\n",
              "    }\n",
              "\n",
              "    [theme=dark] .colab-df-convert:hover {\n",
              "      background-color: #434B5C;\n",
              "      box-shadow: 0px 1px 3px 1px rgba(0, 0, 0, 0.15);\n",
              "      filter: drop-shadow(0px 1px 2px rgba(0, 0, 0, 0.3));\n",
              "      fill: #FFFFFF;\n",
              "    }\n",
              "  </style>\n",
              "\n",
              "      <script>\n",
              "        const buttonEl =\n",
              "          document.querySelector('#df-b86fb769-0eac-44bb-a728-1bbd50e3c44d button.colab-df-convert');\n",
              "        buttonEl.style.display =\n",
              "          google.colab.kernel.accessAllowed ? 'block' : 'none';\n",
              "\n",
              "        async function convertToInteractive(key) {\n",
              "          const element = document.querySelector('#df-b86fb769-0eac-44bb-a728-1bbd50e3c44d');\n",
              "          const dataTable =\n",
              "            await google.colab.kernel.invokeFunction('convertToInteractive',\n",
              "                                                     [key], {});\n",
              "          if (!dataTable) return;\n",
              "\n",
              "          const docLinkHtml = 'Like what you see? Visit the ' +\n",
              "            '<a target=\"_blank\" href=https://colab.research.google.com/notebooks/data_table.ipynb>data table notebook</a>'\n",
              "            + ' to learn more about interactive tables.';\n",
              "          element.innerHTML = '';\n",
              "          dataTable['output_type'] = 'display_data';\n",
              "          await google.colab.output.renderOutput(dataTable, element);\n",
              "          const docLink = document.createElement('div');\n",
              "          docLink.innerHTML = docLinkHtml;\n",
              "          element.appendChild(docLink);\n",
              "        }\n",
              "      </script>\n",
              "    </div>\n",
              "  </div>\n",
              "  "
            ],
            "text/plain": [
              "   SG_UE  ... DS_SIT_TOT_TURNO\n",
              "0  58246  ...      NÃO ELEITO\n",
              "1  58491  ...         SUPLENTE\n",
              "2  58467  ...         SUPLENTE\n",
              "3  58122  ...      NÃO ELEITO\n",
              "4  58599  ...      NÃO ELEITO\n",
              "\n",
              "[5 rows x 20 columns]"
            ]
          },
          "execution_count": 15,
          "metadata": {},
          "output_type": "execute_result"
        }
      ],
      "source": [
        "candidatos.head()"
      ]
    },
    {
      "cell_type": "markdown",
      "metadata": {
        "id": "GsOZr08_tnaa"
      },
      "source": [
        "##Carregar apenas os dados do Município pelo Cargo\n",
        "\n",
        "---\n",
        "\n"
      ]
    },
    {
      "cell_type": "markdown",
      "metadata": {
        "id": "KgxOKnzLMU2a"
      },
      "source": [
        "###Criação variável para cargo e Município\n"
      ]
    },
    {
      "cell_type": "code",
      "execution_count": null,
      "metadata": {
        "id": "OmcxWmU6ou1g"
      },
      "outputs": [],
      "source": [
        "cargo = 'VEREADOR'\n",
        "municipio = 'CAMPOS DOS GOYTACAZES'\n"
      ]
    },
    {
      "cell_type": "markdown",
      "metadata": {
        "id": "NSRhfuJlR8bU"
      },
      "source": [
        "# Logo abaixo, percebe-se que os dados estão desbalanceados, mais a frente irei utilizar uma técnica para balancear e não ter uma \"Falsa acurácia\" pois com uma diferença enorme de dados, o modelo irá acertar 90% apenas dizendo que o candidato é suplente.\n"
      ]
    },
    {
      "cell_type": "code",
      "execution_count": null,
      "metadata": {
        "colab": {
          "base_uri": "https://localhost:8080/"
        },
        "id": "r2zK97thoOdI",
        "outputId": "11af0e70-5e9a-45ce-ed3d-24d16aad340e"
      },
      "outputs": [
        {
          "data": {
            "text/plain": [
              "SUPLENTE             494\n",
              "NÃO ELEITO          278\n",
              "#NULO#                21\n",
              "ELEITO POR QP         13\n",
              "ELEITO POR MÃDIA     12\n",
              "Name: DS_SIT_TOT_TURNO, dtype: int64"
            ]
          },
          "execution_count": 17,
          "metadata": {},
          "output_type": "execute_result"
        }
      ],
      "source": [
        "df_canditado_mun = candidatos[(candidatos['NM_UE']==municipio) & (candidatos['DS_CARGO']==cargo) ]#\n",
        "df_canditado_mun['DS_SIT_TOT_TURNO'].value_counts() #"
      ]
    },
    {
      "cell_type": "markdown",
      "metadata": {
        "id": "-nGRE8k9MedB"
      },
      "source": [
        "Criar Dataframe com somente Candidatos de Campos"
      ]
    },
    {
      "cell_type": "markdown",
      "metadata": {
        "id": "AhMkw7_Utk39"
      },
      "source": [
        "### Não repeti os valores da célula anterior, pois notei que os Dataframes tem \"Strings escritas diferentes\"(VEREADOR != Vereador) pelo python ser case sensitive, isso poderá atrapalhar, só trocarei caso seja necessário."
      ]
    },
    {
      "cell_type": "markdown",
      "metadata": {
        "id": "Xm_Sx9ut3FDk"
      },
      "source": [
        "Deixo essa visualização comentada, pois a resolução estará repetitiva, então deixarei somente o essencial sem comentar, mas caso queira visualizar, retire o \"#\""
      ]
    },
    {
      "cell_type": "code",
      "execution_count": null,
      "metadata": {
        "id": "8ENudKG0scJf"
      },
      "outputs": [],
      "source": [
        "df_receita_mun = receitas[(receitas['NM_UE']=='CAMPOS DOS GOYTACAZES') & (receitas['DS_CARGO']=='Vereador')]\n",
        "#df_receita_mun.head()"
      ]
    },
    {
      "cell_type": "code",
      "execution_count": null,
      "metadata": {
        "id": "Gwg_kZWHuT3v"
      },
      "outputs": [],
      "source": [
        "df_despesa_mun = despesas[(despesas['NM_UE']=='CAMPOS DOS GOYTACAZES') & (despesas['DS_CARGO']=='Vereador')]\n",
        "#df_despesa_mun.head()"
      ]
    },
    {
      "cell_type": "markdown",
      "metadata": {
        "id": "_YmG3QH7t2DG"
      },
      "source": [
        "## Determinar o valor total que cada candidato tem de receita e despesa contratada."
      ]
    },
    {
      "cell_type": "code",
      "execution_count": null,
      "metadata": {
        "colab": {
          "base_uri": "https://localhost:8080/"
        },
        "id": "aMFgndAsCTCQ",
        "outputId": "23564a13-f1a4-4141-a6ad-3e8426369622"
      },
      "outputs": [
        {
          "name": "stderr",
          "output_type": "stream",
          "text": [
            "/usr/local/lib/python3.7/dist-packages/ipykernel_launcher.py:1: SettingWithCopyWarning: \n",
            "A value is trying to be set on a copy of a slice from a DataFrame.\n",
            "Try using .loc[row_indexer,col_indexer] = value instead\n",
            "\n",
            "See the caveats in the documentation: https://pandas.pydata.org/pandas-docs/stable/user_guide/indexing.html#returning-a-view-versus-a-copy\n",
            "  \"\"\"Entry point for launching an IPython kernel.\n",
            "/usr/local/lib/python3.7/dist-packages/ipykernel_launcher.py:2: SettingWithCopyWarning: \n",
            "A value is trying to be set on a copy of a slice from a DataFrame.\n",
            "Try using .loc[row_indexer,col_indexer] = value instead\n",
            "\n",
            "See the caveats in the documentation: https://pandas.pydata.org/pandas-docs/stable/user_guide/indexing.html#returning-a-view-versus-a-copy\n",
            "  \n"
          ]
        }
      ],
      "source": [
        "df_receita_mun['VR_RECEITA'] = df_receita_mun['VR_RECEITA'].apply(lambda x: float(x.split()[0].replace(',', '.')))\n",
        "df_despesa_mun['VR_DESPESA_CONTRATADA'] = df_despesa_mun['VR_DESPESA_CONTRATADA'].apply(lambda x: float(x.split()[0].replace(',', '.')))"
      ]
    },
    {
      "cell_type": "code",
      "execution_count": null,
      "metadata": {
        "colab": {
          "base_uri": "https://localhost:8080/"
        },
        "id": "aPq3Jbuyusen",
        "outputId": "78110c83-81f5-4061-b560-19ffbc9a53b7"
      },
      "outputs": [
        {
          "name": "stdout",
          "output_type": "stream",
          "text": [
            "<class 'pandas.core.frame.DataFrame'>\n",
            "Int64Index: 792 entries, 0 to 791\n",
            "Data columns (total 2 columns):\n",
            " #   Column            Non-Null Count  Dtype  \n",
            "---  ------            --------------  -----  \n",
            " 0   NR_CPF_CANDIDATO  792 non-null    int64  \n",
            " 1   VR_RECEITA        792 non-null    float64\n",
            "dtypes: float64(1), int64(1)\n",
            "memory usage: 18.6 KB\n"
          ]
        }
      ],
      "source": [
        "receitas_columns = df_receita_mun[['NR_CPF_CANDIDATO','VR_RECEITA']]\n",
        "soma_cand_receita = receitas_columns.groupby('NR_CPF_CANDIDATO',as_index=False)['VR_RECEITA'].sum()#\n",
        "#soma_cand_receita.info() -> É importante saber que  soma_cand_receita tem 792 linhas e nenhum valor nulo"
      ]
    },
    {
      "cell_type": "code",
      "execution_count": null,
      "metadata": {
        "colab": {
          "base_uri": "https://localhost:8080/"
        },
        "id": "057eVW-aNcuX",
        "outputId": "1cd96747-97e1-4ba1-9c29-a44ffe3bc7d2"
      },
      "outputs": [
        {
          "name": "stdout",
          "output_type": "stream",
          "text": [
            "<class 'pandas.core.frame.DataFrame'>\n",
            "Int64Index: 337 entries, 0 to 336\n",
            "Data columns (total 2 columns):\n",
            " #   Column                 Non-Null Count  Dtype  \n",
            "---  ------                 --------------  -----  \n",
            " 0   NR_CPF_CANDIDATO       337 non-null    int64  \n",
            " 1   VR_DESPESA_CONTRATADA  337 non-null    float64\n",
            "dtypes: float64(1), int64(1)\n",
            "memory usage: 7.9 KB\n"
          ]
        }
      ],
      "source": [
        "despesas_columns = df_despesa_mun[['NR_CPF_CANDIDATO','VR_DESPESA_CONTRATADA']]\n",
        "soma_cand_despesa = despesas_columns.groupby('NR_CPF_CANDIDATO',as_index=False)['VR_DESPESA_CONTRATADA'].sum()\n",
        "soma_cand_despesa  # total despesa por Candidato\n",
        "#soma_cand_despesa.info()-> É importante saber que  soma_cand_despesa tem 337 linhas e nenhum valor nulo"
      ]
    },
    {
      "cell_type": "code",
      "execution_count": null,
      "metadata": {
        "colab": {
          "base_uri": "https://localhost:8080/",
          "height": 461
        },
        "id": "Kzae10vuk8d9",
        "outputId": "3cfbd372-737f-4192-f275-b1516ae7affb"
      },
      "outputs": [
        {
          "data": {
            "text/html": [
              "\n",
              "  <div id=\"df-fc91c3bb-ed86-442c-b456-9d59c71586b1\">\n",
              "    <div class=\"colab-df-container\">\n",
              "      <div>\n",
              "<style scoped>\n",
              "    .dataframe tbody tr th:only-of-type {\n",
              "        vertical-align: middle;\n",
              "    }\n",
              "\n",
              "    .dataframe tbody tr th {\n",
              "        vertical-align: top;\n",
              "    }\n",
              "\n",
              "    .dataframe thead th {\n",
              "        text-align: right;\n",
              "    }\n",
              "</style>\n",
              "<table border=\"1\" class=\"dataframe\">\n",
              "  <thead>\n",
              "    <tr style=\"text-align: right;\">\n",
              "      <th></th>\n",
              "      <th>SG_UE</th>\n",
              "      <th>NM_UE</th>\n",
              "      <th>CD_CARGO</th>\n",
              "      <th>DS_CARGO</th>\n",
              "      <th>NR_CANDIDATO</th>\n",
              "      <th>NM_CANDIDATO</th>\n",
              "      <th>NR_CPF_CANDIDATO</th>\n",
              "      <th>NM_EMAIL</th>\n",
              "      <th>TP_AGREMIACAO</th>\n",
              "      <th>NR_PARTIDO</th>\n",
              "      <th>NM_PARTIDO</th>\n",
              "      <th>DS_COMPOSICAO_COLIGACAO</th>\n",
              "      <th>CD_NACIONALIDADE</th>\n",
              "      <th>NR_IDADE_DATA_POSSE</th>\n",
              "      <th>DS_GENERO</th>\n",
              "      <th>DS_GRAU_INSTRUCAO</th>\n",
              "      <th>DS_ESTADO_CIVIL</th>\n",
              "      <th>DS_COR_RACA</th>\n",
              "      <th>DS_OCUPACAO</th>\n",
              "      <th>DS_SIT_TOT_TURNO</th>\n",
              "    </tr>\n",
              "  </thead>\n",
              "  <tbody>\n",
              "    <tr>\n",
              "      <th>32</th>\n",
              "      <td>58190</td>\n",
              "      <td>CAMPOS DOS GOYTACAZES</td>\n",
              "      <td>13</td>\n",
              "      <td>VEREADOR</td>\n",
              "      <td>55025</td>\n",
              "      <td>FRANÃOISE DA SILVA CIAFRINO</td>\n",
              "      <td>7072909702</td>\n",
              "      <td>ADVOCACIAELEITORAL2020@HOTMAIL.COM</td>\n",
              "      <td>PARTIDO ISOLADO</td>\n",
              "      <td>55</td>\n",
              "      <td>PARTIDO SOCIAL DEMOCRÃTICO</td>\n",
              "      <td>PSD</td>\n",
              "      <td>1</td>\n",
              "      <td>55</td>\n",
              "      <td>FEMININO</td>\n",
              "      <td>ENSINO MÃDIO COMPLETO</td>\n",
              "      <td>VIÃVO(A)</td>\n",
              "      <td>BRANCA</td>\n",
              "      <td>DONA DE CASA</td>\n",
              "      <td>SUPLENTE</td>\n",
              "    </tr>\n",
              "    <tr>\n",
              "      <th>67</th>\n",
              "      <td>58190</td>\n",
              "      <td>CAMPOS DOS GOYTACAZES</td>\n",
              "      <td>13</td>\n",
              "      <td>VEREADOR</td>\n",
              "      <td>70111</td>\n",
              "      <td>JOSÃ ARMANDO GOMES PIMENTA</td>\n",
              "      <td>709211724</td>\n",
              "      <td>AVANTEMUNICIPIOCAMPOS@GMAILCOM</td>\n",
              "      <td>PARTIDO ISOLADO</td>\n",
              "      <td>70</td>\n",
              "      <td>AVANTE</td>\n",
              "      <td>AVANTE</td>\n",
              "      <td>1</td>\n",
              "      <td>51</td>\n",
              "      <td>MASCULINO</td>\n",
              "      <td>ENSINO FUNDAMENTAL INCOMPLETO</td>\n",
              "      <td>CASADO(A)</td>\n",
              "      <td>PRETA</td>\n",
              "      <td>OUTROS</td>\n",
              "      <td>SUPLENTE</td>\n",
              "    </tr>\n",
              "    <tr>\n",
              "      <th>105</th>\n",
              "      <td>58190</td>\n",
              "      <td>CAMPOS DOS GOYTACAZES</td>\n",
              "      <td>13</td>\n",
              "      <td>VEREADOR</td>\n",
              "      <td>12555</td>\n",
              "      <td>JOSE CARLOS DIAS DA SILVA</td>\n",
              "      <td>99061929768</td>\n",
              "      <td>ELEICAOCAMPOS2020@GMAIL.COM</td>\n",
              "      <td>PARTIDO ISOLADO</td>\n",
              "      <td>12</td>\n",
              "      <td>PARTIDO DEMOCRÃTICO TRABALHISTA</td>\n",
              "      <td>PDT</td>\n",
              "      <td>1</td>\n",
              "      <td>56</td>\n",
              "      <td>MASCULINO</td>\n",
              "      <td>ENSINO FUNDAMENTAL COMPLETO</td>\n",
              "      <td>DIVORCIADO(A)</td>\n",
              "      <td>BRANCA</td>\n",
              "      <td>COMERCIANTE</td>\n",
              "      <td>SUPLENTE</td>\n",
              "    </tr>\n",
              "    <tr>\n",
              "      <th>108</th>\n",
              "      <td>58190</td>\n",
              "      <td>CAMPOS DOS GOYTACAZES</td>\n",
              "      <td>13</td>\n",
              "      <td>VEREADOR</td>\n",
              "      <td>18777</td>\n",
              "      <td>FREDERICO HENRIQUE GONÃALVES</td>\n",
              "      <td>9034045757</td>\n",
              "      <td>FRED.CARMEM@GMAIL.COM</td>\n",
              "      <td>PARTIDO ISOLADO</td>\n",
              "      <td>18</td>\n",
              "      <td>REDE SUSTENTABILIDADE</td>\n",
              "      <td>REDE</td>\n",
              "      <td>1</td>\n",
              "      <td>39</td>\n",
              "      <td>MASCULINO</td>\n",
              "      <td>ENSINO MÃDIO COMPLETO</td>\n",
              "      <td>CASADO(A)</td>\n",
              "      <td>BRANCA</td>\n",
              "      <td>SERVIDOR PÃBLICO MUNICIPAL</td>\n",
              "      <td>NÃO ELEITO</td>\n",
              "    </tr>\n",
              "    <tr>\n",
              "      <th>120</th>\n",
              "      <td>58190</td>\n",
              "      <td>CAMPOS DOS GOYTACAZES</td>\n",
              "      <td>13</td>\n",
              "      <td>VEREADOR</td>\n",
              "      <td>51999</td>\n",
              "      <td>EDIVALDO VIEIRA DE AZEVEDO</td>\n",
              "      <td>1768302782</td>\n",
              "      <td>ELEICAOCAMPOS2020@GMAIL.COM</td>\n",
              "      <td>PARTIDO ISOLADO</td>\n",
              "      <td>51</td>\n",
              "      <td>PATRIOTA</td>\n",
              "      <td>PATRIOTA</td>\n",
              "      <td>1</td>\n",
              "      <td>49</td>\n",
              "      <td>MASCULINO</td>\n",
              "      <td>SUPERIOR COMPLETO</td>\n",
              "      <td>DIVORCIADO(A)</td>\n",
              "      <td>BRANCA</td>\n",
              "      <td>FISIOTERAPEUTA E TERAPEUTA OCUPACIONAL</td>\n",
              "      <td>NÃO ELEITO</td>\n",
              "    </tr>\n",
              "  </tbody>\n",
              "</table>\n",
              "</div>\n",
              "      <button class=\"colab-df-convert\" onclick=\"convertToInteractive('df-fc91c3bb-ed86-442c-b456-9d59c71586b1')\"\n",
              "              title=\"Convert this dataframe to an interactive table.\"\n",
              "              style=\"display:none;\">\n",
              "        \n",
              "  <svg xmlns=\"http://www.w3.org/2000/svg\" height=\"24px\"viewBox=\"0 0 24 24\"\n",
              "       width=\"24px\">\n",
              "    <path d=\"M0 0h24v24H0V0z\" fill=\"none\"/>\n",
              "    <path d=\"M18.56 5.44l.94 2.06.94-2.06 2.06-.94-2.06-.94-.94-2.06-.94 2.06-2.06.94zm-11 1L8.5 8.5l.94-2.06 2.06-.94-2.06-.94L8.5 2.5l-.94 2.06-2.06.94zm10 10l.94 2.06.94-2.06 2.06-.94-2.06-.94-.94-2.06-.94 2.06-2.06.94z\"/><path d=\"M17.41 7.96l-1.37-1.37c-.4-.4-.92-.59-1.43-.59-.52 0-1.04.2-1.43.59L10.3 9.45l-7.72 7.72c-.78.78-.78 2.05 0 2.83L4 21.41c.39.39.9.59 1.41.59.51 0 1.02-.2 1.41-.59l7.78-7.78 2.81-2.81c.8-.78.8-2.07 0-2.86zM5.41 20L4 18.59l7.72-7.72 1.47 1.35L5.41 20z\"/>\n",
              "  </svg>\n",
              "      </button>\n",
              "      \n",
              "  <style>\n",
              "    .colab-df-container {\n",
              "      display:flex;\n",
              "      flex-wrap:wrap;\n",
              "      gap: 12px;\n",
              "    }\n",
              "\n",
              "    .colab-df-convert {\n",
              "      background-color: #E8F0FE;\n",
              "      border: none;\n",
              "      border-radius: 50%;\n",
              "      cursor: pointer;\n",
              "      display: none;\n",
              "      fill: #1967D2;\n",
              "      height: 32px;\n",
              "      padding: 0 0 0 0;\n",
              "      width: 32px;\n",
              "    }\n",
              "\n",
              "    .colab-df-convert:hover {\n",
              "      background-color: #E2EBFA;\n",
              "      box-shadow: 0px 1px 2px rgba(60, 64, 67, 0.3), 0px 1px 3px 1px rgba(60, 64, 67, 0.15);\n",
              "      fill: #174EA6;\n",
              "    }\n",
              "\n",
              "    [theme=dark] .colab-df-convert {\n",
              "      background-color: #3B4455;\n",
              "      fill: #D2E3FC;\n",
              "    }\n",
              "\n",
              "    [theme=dark] .colab-df-convert:hover {\n",
              "      background-color: #434B5C;\n",
              "      box-shadow: 0px 1px 3px 1px rgba(0, 0, 0, 0.15);\n",
              "      filter: drop-shadow(0px 1px 2px rgba(0, 0, 0, 0.3));\n",
              "      fill: #FFFFFF;\n",
              "    }\n",
              "  </style>\n",
              "\n",
              "      <script>\n",
              "        const buttonEl =\n",
              "          document.querySelector('#df-fc91c3bb-ed86-442c-b456-9d59c71586b1 button.colab-df-convert');\n",
              "        buttonEl.style.display =\n",
              "          google.colab.kernel.accessAllowed ? 'block' : 'none';\n",
              "\n",
              "        async function convertToInteractive(key) {\n",
              "          const element = document.querySelector('#df-fc91c3bb-ed86-442c-b456-9d59c71586b1');\n",
              "          const dataTable =\n",
              "            await google.colab.kernel.invokeFunction('convertToInteractive',\n",
              "                                                     [key], {});\n",
              "          if (!dataTable) return;\n",
              "\n",
              "          const docLinkHtml = 'Like what you see? Visit the ' +\n",
              "            '<a target=\"_blank\" href=https://colab.research.google.com/notebooks/data_table.ipynb>data table notebook</a>'\n",
              "            + ' to learn more about interactive tables.';\n",
              "          element.innerHTML = '';\n",
              "          dataTable['output_type'] = 'display_data';\n",
              "          await google.colab.output.renderOutput(dataTable, element);\n",
              "          const docLink = document.createElement('div');\n",
              "          docLink.innerHTML = docLinkHtml;\n",
              "          element.appendChild(docLink);\n",
              "        }\n",
              "      </script>\n",
              "    </div>\n",
              "  </div>\n",
              "  "
            ],
            "text/plain": [
              "     SG_UE  ... DS_SIT_TOT_TURNO\n",
              "32   58190  ...         SUPLENTE\n",
              "67   58190  ...         SUPLENTE\n",
              "105  58190  ...         SUPLENTE\n",
              "108  58190  ...      NÃO ELEITO\n",
              "120  58190  ...      NÃO ELEITO\n",
              "\n",
              "[5 rows x 20 columns]"
            ]
          },
          "execution_count": 23,
          "metadata": {},
          "output_type": "execute_result"
        }
      ],
      "source": [
        "df_canditado_mun.head()"
      ]
    },
    {
      "cell_type": "code",
      "execution_count": null,
      "metadata": {
        "id": "26QdF1QloTRm"
      },
      "outputs": [],
      "source": [
        "# cria um DataFrame com a juncao de todos os dados"
      ]
    },
    {
      "cell_type": "markdown",
      "metadata": {
        "id": "pHsM1_o13sBU"
      },
      "source": [
        "# Juntando todos os datasets (Irei colocar o somatório da despesa no dataset de candidato e depois o RESULTADO = (t_dataset1) desse merge, adicionarei o somatório de receita), perceba que o número de linhas de cada um é diferente, então, decidi preencher a média de cada coluna nos valores faltantes, temos que fazer isso a cada junção para evitar problemas no futuro. (Excluindo ou colocando 0 terá um resultado muito ruim OBS:Aprendi na prática...).\n"
      ]
    },
    {
      "cell_type": "code",
      "execution_count": null,
      "metadata": {
        "colab": {
          "base_uri": "https://localhost:8080/",
          "height": 461
        },
        "id": "-m6I0TbBk9Vd",
        "outputId": "779dab2f-905a-4bf1-a89d-cff952c1f582"
      },
      "outputs": [
        {
          "data": {
            "text/html": [
              "\n",
              "  <div id=\"df-665e5ae2-f671-4e1a-a527-a0d0696fd90f\">\n",
              "    <div class=\"colab-df-container\">\n",
              "      <div>\n",
              "<style scoped>\n",
              "    .dataframe tbody tr th:only-of-type {\n",
              "        vertical-align: middle;\n",
              "    }\n",
              "\n",
              "    .dataframe tbody tr th {\n",
              "        vertical-align: top;\n",
              "    }\n",
              "\n",
              "    .dataframe thead th {\n",
              "        text-align: right;\n",
              "    }\n",
              "</style>\n",
              "<table border=\"1\" class=\"dataframe\">\n",
              "  <thead>\n",
              "    <tr style=\"text-align: right;\">\n",
              "      <th></th>\n",
              "      <th>SG_UE</th>\n",
              "      <th>NM_UE</th>\n",
              "      <th>CD_CARGO</th>\n",
              "      <th>DS_CARGO</th>\n",
              "      <th>NR_CANDIDATO</th>\n",
              "      <th>NM_CANDIDATO</th>\n",
              "      <th>NR_CPF_CANDIDATO</th>\n",
              "      <th>NM_EMAIL</th>\n",
              "      <th>TP_AGREMIACAO</th>\n",
              "      <th>NR_PARTIDO</th>\n",
              "      <th>NM_PARTIDO</th>\n",
              "      <th>DS_COMPOSICAO_COLIGACAO</th>\n",
              "      <th>CD_NACIONALIDADE</th>\n",
              "      <th>NR_IDADE_DATA_POSSE</th>\n",
              "      <th>DS_GENERO</th>\n",
              "      <th>DS_GRAU_INSTRUCAO</th>\n",
              "      <th>DS_ESTADO_CIVIL</th>\n",
              "      <th>DS_COR_RACA</th>\n",
              "      <th>DS_OCUPACAO</th>\n",
              "      <th>DS_SIT_TOT_TURNO</th>\n",
              "      <th>VR_DESPESA_CONTRATADA</th>\n",
              "    </tr>\n",
              "  </thead>\n",
              "  <tbody>\n",
              "    <tr>\n",
              "      <th>32</th>\n",
              "      <td>58190</td>\n",
              "      <td>CAMPOS DOS GOYTACAZES</td>\n",
              "      <td>13</td>\n",
              "      <td>VEREADOR</td>\n",
              "      <td>55025</td>\n",
              "      <td>FRANÃOISE DA SILVA CIAFRINO</td>\n",
              "      <td>7072909702</td>\n",
              "      <td>ADVOCACIAELEITORAL2020@HOTMAIL.COM</td>\n",
              "      <td>PARTIDO ISOLADO</td>\n",
              "      <td>55</td>\n",
              "      <td>PARTIDO SOCIAL DEMOCRÃTICO</td>\n",
              "      <td>PSD</td>\n",
              "      <td>1</td>\n",
              "      <td>55</td>\n",
              "      <td>FEMININO</td>\n",
              "      <td>ENSINO MÃDIO COMPLETO</td>\n",
              "      <td>VIÃVO(A)</td>\n",
              "      <td>BRANCA</td>\n",
              "      <td>DONA DE CASA</td>\n",
              "      <td>SUPLENTE</td>\n",
              "      <td>10000.000000</td>\n",
              "    </tr>\n",
              "    <tr>\n",
              "      <th>67</th>\n",
              "      <td>58190</td>\n",
              "      <td>CAMPOS DOS GOYTACAZES</td>\n",
              "      <td>13</td>\n",
              "      <td>VEREADOR</td>\n",
              "      <td>70111</td>\n",
              "      <td>JOSÃ ARMANDO GOMES PIMENTA</td>\n",
              "      <td>709211724</td>\n",
              "      <td>AVANTEMUNICIPIOCAMPOS@GMAILCOM</td>\n",
              "      <td>PARTIDO ISOLADO</td>\n",
              "      <td>70</td>\n",
              "      <td>AVANTE</td>\n",
              "      <td>AVANTE</td>\n",
              "      <td>1</td>\n",
              "      <td>51</td>\n",
              "      <td>MASCULINO</td>\n",
              "      <td>ENSINO FUNDAMENTAL INCOMPLETO</td>\n",
              "      <td>CASADO(A)</td>\n",
              "      <td>PRETA</td>\n",
              "      <td>OUTROS</td>\n",
              "      <td>SUPLENTE</td>\n",
              "      <td>6434.127982</td>\n",
              "    </tr>\n",
              "    <tr>\n",
              "      <th>105</th>\n",
              "      <td>58190</td>\n",
              "      <td>CAMPOS DOS GOYTACAZES</td>\n",
              "      <td>13</td>\n",
              "      <td>VEREADOR</td>\n",
              "      <td>12555</td>\n",
              "      <td>JOSE CARLOS DIAS DA SILVA</td>\n",
              "      <td>99061929768</td>\n",
              "      <td>ELEICAOCAMPOS2020@GMAIL.COM</td>\n",
              "      <td>PARTIDO ISOLADO</td>\n",
              "      <td>12</td>\n",
              "      <td>PARTIDO DEMOCRÃTICO TRABALHISTA</td>\n",
              "      <td>PDT</td>\n",
              "      <td>1</td>\n",
              "      <td>56</td>\n",
              "      <td>MASCULINO</td>\n",
              "      <td>ENSINO FUNDAMENTAL COMPLETO</td>\n",
              "      <td>DIVORCIADO(A)</td>\n",
              "      <td>BRANCA</td>\n",
              "      <td>COMERCIANTE</td>\n",
              "      <td>SUPLENTE</td>\n",
              "      <td>6434.127982</td>\n",
              "    </tr>\n",
              "    <tr>\n",
              "      <th>108</th>\n",
              "      <td>58190</td>\n",
              "      <td>CAMPOS DOS GOYTACAZES</td>\n",
              "      <td>13</td>\n",
              "      <td>VEREADOR</td>\n",
              "      <td>18777</td>\n",
              "      <td>FREDERICO HENRIQUE GONÃALVES</td>\n",
              "      <td>9034045757</td>\n",
              "      <td>FRED.CARMEM@GMAIL.COM</td>\n",
              "      <td>PARTIDO ISOLADO</td>\n",
              "      <td>18</td>\n",
              "      <td>REDE SUSTENTABILIDADE</td>\n",
              "      <td>REDE</td>\n",
              "      <td>1</td>\n",
              "      <td>39</td>\n",
              "      <td>MASCULINO</td>\n",
              "      <td>ENSINO MÃDIO COMPLETO</td>\n",
              "      <td>CASADO(A)</td>\n",
              "      <td>BRANCA</td>\n",
              "      <td>SERVIDOR PÃBLICO MUNICIPAL</td>\n",
              "      <td>NÃO ELEITO</td>\n",
              "      <td>200.000000</td>\n",
              "    </tr>\n",
              "    <tr>\n",
              "      <th>120</th>\n",
              "      <td>58190</td>\n",
              "      <td>CAMPOS DOS GOYTACAZES</td>\n",
              "      <td>13</td>\n",
              "      <td>VEREADOR</td>\n",
              "      <td>51999</td>\n",
              "      <td>EDIVALDO VIEIRA DE AZEVEDO</td>\n",
              "      <td>1768302782</td>\n",
              "      <td>ELEICAOCAMPOS2020@GMAIL.COM</td>\n",
              "      <td>PARTIDO ISOLADO</td>\n",
              "      <td>51</td>\n",
              "      <td>PATRIOTA</td>\n",
              "      <td>PATRIOTA</td>\n",
              "      <td>1</td>\n",
              "      <td>49</td>\n",
              "      <td>MASCULINO</td>\n",
              "      <td>SUPERIOR COMPLETO</td>\n",
              "      <td>DIVORCIADO(A)</td>\n",
              "      <td>BRANCA</td>\n",
              "      <td>FISIOTERAPEUTA E TERAPEUTA OCUPACIONAL</td>\n",
              "      <td>NÃO ELEITO</td>\n",
              "      <td>6434.127982</td>\n",
              "    </tr>\n",
              "  </tbody>\n",
              "</table>\n",
              "</div>\n",
              "      <button class=\"colab-df-convert\" onclick=\"convertToInteractive('df-665e5ae2-f671-4e1a-a527-a0d0696fd90f')\"\n",
              "              title=\"Convert this dataframe to an interactive table.\"\n",
              "              style=\"display:none;\">\n",
              "        \n",
              "  <svg xmlns=\"http://www.w3.org/2000/svg\" height=\"24px\"viewBox=\"0 0 24 24\"\n",
              "       width=\"24px\">\n",
              "    <path d=\"M0 0h24v24H0V0z\" fill=\"none\"/>\n",
              "    <path d=\"M18.56 5.44l.94 2.06.94-2.06 2.06-.94-2.06-.94-.94-2.06-.94 2.06-2.06.94zm-11 1L8.5 8.5l.94-2.06 2.06-.94-2.06-.94L8.5 2.5l-.94 2.06-2.06.94zm10 10l.94 2.06.94-2.06 2.06-.94-2.06-.94-.94-2.06-.94 2.06-2.06.94z\"/><path d=\"M17.41 7.96l-1.37-1.37c-.4-.4-.92-.59-1.43-.59-.52 0-1.04.2-1.43.59L10.3 9.45l-7.72 7.72c-.78.78-.78 2.05 0 2.83L4 21.41c.39.39.9.59 1.41.59.51 0 1.02-.2 1.41-.59l7.78-7.78 2.81-2.81c.8-.78.8-2.07 0-2.86zM5.41 20L4 18.59l7.72-7.72 1.47 1.35L5.41 20z\"/>\n",
              "  </svg>\n",
              "      </button>\n",
              "      \n",
              "  <style>\n",
              "    .colab-df-container {\n",
              "      display:flex;\n",
              "      flex-wrap:wrap;\n",
              "      gap: 12px;\n",
              "    }\n",
              "\n",
              "    .colab-df-convert {\n",
              "      background-color: #E8F0FE;\n",
              "      border: none;\n",
              "      border-radius: 50%;\n",
              "      cursor: pointer;\n",
              "      display: none;\n",
              "      fill: #1967D2;\n",
              "      height: 32px;\n",
              "      padding: 0 0 0 0;\n",
              "      width: 32px;\n",
              "    }\n",
              "\n",
              "    .colab-df-convert:hover {\n",
              "      background-color: #E2EBFA;\n",
              "      box-shadow: 0px 1px 2px rgba(60, 64, 67, 0.3), 0px 1px 3px 1px rgba(60, 64, 67, 0.15);\n",
              "      fill: #174EA6;\n",
              "    }\n",
              "\n",
              "    [theme=dark] .colab-df-convert {\n",
              "      background-color: #3B4455;\n",
              "      fill: #D2E3FC;\n",
              "    }\n",
              "\n",
              "    [theme=dark] .colab-df-convert:hover {\n",
              "      background-color: #434B5C;\n",
              "      box-shadow: 0px 1px 3px 1px rgba(0, 0, 0, 0.15);\n",
              "      filter: drop-shadow(0px 1px 2px rgba(0, 0, 0, 0.3));\n",
              "      fill: #FFFFFF;\n",
              "    }\n",
              "  </style>\n",
              "\n",
              "      <script>\n",
              "        const buttonEl =\n",
              "          document.querySelector('#df-665e5ae2-f671-4e1a-a527-a0d0696fd90f button.colab-df-convert');\n",
              "        buttonEl.style.display =\n",
              "          google.colab.kernel.accessAllowed ? 'block' : 'none';\n",
              "\n",
              "        async function convertToInteractive(key) {\n",
              "          const element = document.querySelector('#df-665e5ae2-f671-4e1a-a527-a0d0696fd90f');\n",
              "          const dataTable =\n",
              "            await google.colab.kernel.invokeFunction('convertToInteractive',\n",
              "                                                     [key], {});\n",
              "          if (!dataTable) return;\n",
              "\n",
              "          const docLinkHtml = 'Like what you see? Visit the ' +\n",
              "            '<a target=\"_blank\" href=https://colab.research.google.com/notebooks/data_table.ipynb>data table notebook</a>'\n",
              "            + ' to learn more about interactive tables.';\n",
              "          element.innerHTML = '';\n",
              "          dataTable['output_type'] = 'display_data';\n",
              "          await google.colab.output.renderOutput(dataTable, element);\n",
              "          const docLink = document.createElement('div');\n",
              "          docLink.innerHTML = docLinkHtml;\n",
              "          element.appendChild(docLink);\n",
              "        }\n",
              "      </script>\n",
              "    </div>\n",
              "  </div>\n",
              "  "
            ],
            "text/plain": [
              "     SG_UE                  NM_UE  ...  DS_SIT_TOT_TURNO VR_DESPESA_CONTRATADA\n",
              "32   58190  CAMPOS DOS GOYTACAZES  ...          SUPLENTE          10000.000000\n",
              "67   58190  CAMPOS DOS GOYTACAZES  ...          SUPLENTE           6434.127982\n",
              "105  58190  CAMPOS DOS GOYTACAZES  ...          SUPLENTE           6434.127982\n",
              "108  58190  CAMPOS DOS GOYTACAZES  ...       NÃO ELEITO            200.000000\n",
              "120  58190  CAMPOS DOS GOYTACAZES  ...       NÃO ELEITO           6434.127982\n",
              "\n",
              "[5 rows x 21 columns]"
            ]
          },
          "execution_count": 25,
          "metadata": {},
          "output_type": "execute_result"
        }
      ],
      "source": [
        "t_dataset1 = pd.merge(df_canditado_mun, soma_cand_despesa, on=[\"NR_CPF_CANDIDATO\", \"NR_CPF_CANDIDATO\"])\n",
        "t_dataset1 = df_canditado_mun.join(\n",
        "    soma_cand_despesa.set_index([\"NR_CPF_CANDIDATO\", \"NR_CPF_CANDIDATO\"]),\n",
        "    lsuffix=\"_x\",\n",
        "    rsuffix=\"_y\",\n",
        "    on=[\"NR_CPF_CANDIDATO\", \"NR_CPF_CANDIDATO\"],\n",
        ")\n",
        "mean=t_dataset1[['VR_DESPESA_CONTRATADA']].mean() # 6434.12\n",
        "t_dataset1 = t_dataset1.replace(np.nan, mean)\n",
        "t_dataset1.head()"
      ]
    },
    {
      "cell_type": "markdown",
      "metadata": {
        "id": "5y8B6JmWpkhl"
      },
      "source": []
    },
    {
      "cell_type": "code",
      "execution_count": null,
      "metadata": {
        "colab": {
          "base_uri": "https://localhost:8080/"
        },
        "id": "GfnYvTY0ovT9",
        "outputId": "396508a1-064d-46fa-ea35-dd62bbbd2153"
      },
      "outputs": [
        {
          "name": "stdout",
          "output_type": "stream",
          "text": [
            "<class 'pandas.core.frame.DataFrame'>\n",
            "Int64Index: 818 entries, 32 to 26458\n",
            "Data columns (total 22 columns):\n",
            " #   Column                   Non-Null Count  Dtype  \n",
            "---  ------                   --------------  -----  \n",
            " 0   SG_UE                    818 non-null    int64  \n",
            " 1   NM_UE                    818 non-null    object \n",
            " 2   CD_CARGO                 818 non-null    int64  \n",
            " 3   DS_CARGO                 818 non-null    object \n",
            " 4   NR_CANDIDATO             818 non-null    int64  \n",
            " 5   NM_CANDIDATO             818 non-null    object \n",
            " 6   NR_CPF_CANDIDATO         818 non-null    int64  \n",
            " 7   NM_EMAIL                 818 non-null    object \n",
            " 8   TP_AGREMIACAO            818 non-null    object \n",
            " 9   NR_PARTIDO               818 non-null    int64  \n",
            " 10  NM_PARTIDO               818 non-null    object \n",
            " 11  DS_COMPOSICAO_COLIGACAO  818 non-null    object \n",
            " 12  CD_NACIONALIDADE         818 non-null    int64  \n",
            " 13  NR_IDADE_DATA_POSSE      818 non-null    int64  \n",
            " 14  DS_GENERO                818 non-null    object \n",
            " 15  DS_GRAU_INSTRUCAO        818 non-null    object \n",
            " 16  DS_ESTADO_CIVIL          818 non-null    object \n",
            " 17  DS_COR_RACA              818 non-null    object \n",
            " 18  DS_OCUPACAO              818 non-null    object \n",
            " 19  DS_SIT_TOT_TURNO         818 non-null    object \n",
            " 20  VR_DESPESA_CONTRATADA    818 non-null    float64\n",
            " 21  VR_RECEITA               792 non-null    float64\n",
            "dtypes: float64(2), int64(7), object(13)\n",
            "memory usage: 147.0+ KB\n"
          ]
        }
      ],
      "source": [
        "t_datasets2 = pd.merge(t_dataset1, soma_cand_receita, on=[\"NR_CPF_CANDIDATO\", \"NR_CPF_CANDIDATO\"])\n",
        "t_datasets2.head()\n",
        "t_datasets2 = t_dataset1.join(\n",
        "    soma_cand_receita.set_index([\"NR_CPF_CANDIDATO\", \"NR_CPF_CANDIDATO\"]),\n",
        "    lsuffix=\"_x\",\n",
        "    rsuffix=\"_y\",\n",
        "    on=[\"NR_CPF_CANDIDATO\", \"NR_CPF_CANDIDATO\"],\n",
        ")\n",
        "t_datasets2.info()"
      ]
    },
    {
      "cell_type": "code",
      "execution_count": null,
      "metadata": {
        "colab": {
          "base_uri": "https://localhost:8080/",
          "height": 461
        },
        "id": "lJhvDvTtkJnh",
        "outputId": "3987bd77-fb83-4c98-f6f2-5f9750b9d5b9"
      },
      "outputs": [
        {
          "data": {
            "text/html": [
              "\n",
              "  <div id=\"df-5b41ee63-921a-4039-8796-20685225d5e2\">\n",
              "    <div class=\"colab-df-container\">\n",
              "      <div>\n",
              "<style scoped>\n",
              "    .dataframe tbody tr th:only-of-type {\n",
              "        vertical-align: middle;\n",
              "    }\n",
              "\n",
              "    .dataframe tbody tr th {\n",
              "        vertical-align: top;\n",
              "    }\n",
              "\n",
              "    .dataframe thead th {\n",
              "        text-align: right;\n",
              "    }\n",
              "</style>\n",
              "<table border=\"1\" class=\"dataframe\">\n",
              "  <thead>\n",
              "    <tr style=\"text-align: right;\">\n",
              "      <th></th>\n",
              "      <th>SG_UE</th>\n",
              "      <th>NM_UE</th>\n",
              "      <th>CD_CARGO</th>\n",
              "      <th>DS_CARGO</th>\n",
              "      <th>NR_CANDIDATO</th>\n",
              "      <th>NM_CANDIDATO</th>\n",
              "      <th>NR_CPF_CANDIDATO</th>\n",
              "      <th>NM_EMAIL</th>\n",
              "      <th>TP_AGREMIACAO</th>\n",
              "      <th>NR_PARTIDO</th>\n",
              "      <th>NM_PARTIDO</th>\n",
              "      <th>DS_COMPOSICAO_COLIGACAO</th>\n",
              "      <th>CD_NACIONALIDADE</th>\n",
              "      <th>NR_IDADE_DATA_POSSE</th>\n",
              "      <th>DS_GENERO</th>\n",
              "      <th>DS_GRAU_INSTRUCAO</th>\n",
              "      <th>DS_ESTADO_CIVIL</th>\n",
              "      <th>DS_COR_RACA</th>\n",
              "      <th>DS_OCUPACAO</th>\n",
              "      <th>DS_SIT_TOT_TURNO</th>\n",
              "      <th>VR_DESPESA_CONTRATADA</th>\n",
              "      <th>VR_RECEITA</th>\n",
              "    </tr>\n",
              "  </thead>\n",
              "  <tbody>\n",
              "    <tr>\n",
              "      <th>32</th>\n",
              "      <td>58190</td>\n",
              "      <td>CAMPOS DOS GOYTACAZES</td>\n",
              "      <td>13</td>\n",
              "      <td>VEREADOR</td>\n",
              "      <td>55025</td>\n",
              "      <td>FRANÃOISE DA SILVA CIAFRINO</td>\n",
              "      <td>7072909702</td>\n",
              "      <td>ADVOCACIAELEITORAL2020@HOTMAIL.COM</td>\n",
              "      <td>PARTIDO ISOLADO</td>\n",
              "      <td>55</td>\n",
              "      <td>PARTIDO SOCIAL DEMOCRÃTICO</td>\n",
              "      <td>PSD</td>\n",
              "      <td>1</td>\n",
              "      <td>55</td>\n",
              "      <td>FEMININO</td>\n",
              "      <td>ENSINO MÃDIO COMPLETO</td>\n",
              "      <td>VIÃVO(A)</td>\n",
              "      <td>BRANCA</td>\n",
              "      <td>DONA DE CASA</td>\n",
              "      <td>SUPLENTE</td>\n",
              "      <td>10000.000000</td>\n",
              "      <td>11701.38</td>\n",
              "    </tr>\n",
              "    <tr>\n",
              "      <th>67</th>\n",
              "      <td>58190</td>\n",
              "      <td>CAMPOS DOS GOYTACAZES</td>\n",
              "      <td>13</td>\n",
              "      <td>VEREADOR</td>\n",
              "      <td>70111</td>\n",
              "      <td>JOSÃ ARMANDO GOMES PIMENTA</td>\n",
              "      <td>709211724</td>\n",
              "      <td>AVANTEMUNICIPIOCAMPOS@GMAILCOM</td>\n",
              "      <td>PARTIDO ISOLADO</td>\n",
              "      <td>70</td>\n",
              "      <td>AVANTE</td>\n",
              "      <td>AVANTE</td>\n",
              "      <td>1</td>\n",
              "      <td>51</td>\n",
              "      <td>MASCULINO</td>\n",
              "      <td>ENSINO FUNDAMENTAL INCOMPLETO</td>\n",
              "      <td>CASADO(A)</td>\n",
              "      <td>PRETA</td>\n",
              "      <td>OUTROS</td>\n",
              "      <td>SUPLENTE</td>\n",
              "      <td>6434.127982</td>\n",
              "      <td>1179.70</td>\n",
              "    </tr>\n",
              "    <tr>\n",
              "      <th>105</th>\n",
              "      <td>58190</td>\n",
              "      <td>CAMPOS DOS GOYTACAZES</td>\n",
              "      <td>13</td>\n",
              "      <td>VEREADOR</td>\n",
              "      <td>12555</td>\n",
              "      <td>JOSE CARLOS DIAS DA SILVA</td>\n",
              "      <td>99061929768</td>\n",
              "      <td>ELEICAOCAMPOS2020@GMAIL.COM</td>\n",
              "      <td>PARTIDO ISOLADO</td>\n",
              "      <td>12</td>\n",
              "      <td>PARTIDO DEMOCRÃTICO TRABALHISTA</td>\n",
              "      <td>PDT</td>\n",
              "      <td>1</td>\n",
              "      <td>56</td>\n",
              "      <td>MASCULINO</td>\n",
              "      <td>ENSINO FUNDAMENTAL COMPLETO</td>\n",
              "      <td>DIVORCIADO(A)</td>\n",
              "      <td>BRANCA</td>\n",
              "      <td>COMERCIANTE</td>\n",
              "      <td>SUPLENTE</td>\n",
              "      <td>6434.127982</td>\n",
              "      <td>8246.85</td>\n",
              "    </tr>\n",
              "    <tr>\n",
              "      <th>108</th>\n",
              "      <td>58190</td>\n",
              "      <td>CAMPOS DOS GOYTACAZES</td>\n",
              "      <td>13</td>\n",
              "      <td>VEREADOR</td>\n",
              "      <td>18777</td>\n",
              "      <td>FREDERICO HENRIQUE GONÃALVES</td>\n",
              "      <td>9034045757</td>\n",
              "      <td>FRED.CARMEM@GMAIL.COM</td>\n",
              "      <td>PARTIDO ISOLADO</td>\n",
              "      <td>18</td>\n",
              "      <td>REDE SUSTENTABILIDADE</td>\n",
              "      <td>REDE</td>\n",
              "      <td>1</td>\n",
              "      <td>39</td>\n",
              "      <td>MASCULINO</td>\n",
              "      <td>ENSINO MÃDIO COMPLETO</td>\n",
              "      <td>CASADO(A)</td>\n",
              "      <td>BRANCA</td>\n",
              "      <td>SERVIDOR PÃBLICO MUNICIPAL</td>\n",
              "      <td>NÃO ELEITO</td>\n",
              "      <td>200.000000</td>\n",
              "      <td>700.00</td>\n",
              "    </tr>\n",
              "    <tr>\n",
              "      <th>120</th>\n",
              "      <td>58190</td>\n",
              "      <td>CAMPOS DOS GOYTACAZES</td>\n",
              "      <td>13</td>\n",
              "      <td>VEREADOR</td>\n",
              "      <td>51999</td>\n",
              "      <td>EDIVALDO VIEIRA DE AZEVEDO</td>\n",
              "      <td>1768302782</td>\n",
              "      <td>ELEICAOCAMPOS2020@GMAIL.COM</td>\n",
              "      <td>PARTIDO ISOLADO</td>\n",
              "      <td>51</td>\n",
              "      <td>PATRIOTA</td>\n",
              "      <td>PATRIOTA</td>\n",
              "      <td>1</td>\n",
              "      <td>49</td>\n",
              "      <td>MASCULINO</td>\n",
              "      <td>SUPERIOR COMPLETO</td>\n",
              "      <td>DIVORCIADO(A)</td>\n",
              "      <td>BRANCA</td>\n",
              "      <td>FISIOTERAPEUTA E TERAPEUTA OCUPACIONAL</td>\n",
              "      <td>NÃO ELEITO</td>\n",
              "      <td>6434.127982</td>\n",
              "      <td>4761.85</td>\n",
              "    </tr>\n",
              "  </tbody>\n",
              "</table>\n",
              "</div>\n",
              "      <button class=\"colab-df-convert\" onclick=\"convertToInteractive('df-5b41ee63-921a-4039-8796-20685225d5e2')\"\n",
              "              title=\"Convert this dataframe to an interactive table.\"\n",
              "              style=\"display:none;\">\n",
              "        \n",
              "  <svg xmlns=\"http://www.w3.org/2000/svg\" height=\"24px\"viewBox=\"0 0 24 24\"\n",
              "       width=\"24px\">\n",
              "    <path d=\"M0 0h24v24H0V0z\" fill=\"none\"/>\n",
              "    <path d=\"M18.56 5.44l.94 2.06.94-2.06 2.06-.94-2.06-.94-.94-2.06-.94 2.06-2.06.94zm-11 1L8.5 8.5l.94-2.06 2.06-.94-2.06-.94L8.5 2.5l-.94 2.06-2.06.94zm10 10l.94 2.06.94-2.06 2.06-.94-2.06-.94-.94-2.06-.94 2.06-2.06.94z\"/><path d=\"M17.41 7.96l-1.37-1.37c-.4-.4-.92-.59-1.43-.59-.52 0-1.04.2-1.43.59L10.3 9.45l-7.72 7.72c-.78.78-.78 2.05 0 2.83L4 21.41c.39.39.9.59 1.41.59.51 0 1.02-.2 1.41-.59l7.78-7.78 2.81-2.81c.8-.78.8-2.07 0-2.86zM5.41 20L4 18.59l7.72-7.72 1.47 1.35L5.41 20z\"/>\n",
              "  </svg>\n",
              "      </button>\n",
              "      \n",
              "  <style>\n",
              "    .colab-df-container {\n",
              "      display:flex;\n",
              "      flex-wrap:wrap;\n",
              "      gap: 12px;\n",
              "    }\n",
              "\n",
              "    .colab-df-convert {\n",
              "      background-color: #E8F0FE;\n",
              "      border: none;\n",
              "      border-radius: 50%;\n",
              "      cursor: pointer;\n",
              "      display: none;\n",
              "      fill: #1967D2;\n",
              "      height: 32px;\n",
              "      padding: 0 0 0 0;\n",
              "      width: 32px;\n",
              "    }\n",
              "\n",
              "    .colab-df-convert:hover {\n",
              "      background-color: #E2EBFA;\n",
              "      box-shadow: 0px 1px 2px rgba(60, 64, 67, 0.3), 0px 1px 3px 1px rgba(60, 64, 67, 0.15);\n",
              "      fill: #174EA6;\n",
              "    }\n",
              "\n",
              "    [theme=dark] .colab-df-convert {\n",
              "      background-color: #3B4455;\n",
              "      fill: #D2E3FC;\n",
              "    }\n",
              "\n",
              "    [theme=dark] .colab-df-convert:hover {\n",
              "      background-color: #434B5C;\n",
              "      box-shadow: 0px 1px 3px 1px rgba(0, 0, 0, 0.15);\n",
              "      filter: drop-shadow(0px 1px 2px rgba(0, 0, 0, 0.3));\n",
              "      fill: #FFFFFF;\n",
              "    }\n",
              "  </style>\n",
              "\n",
              "      <script>\n",
              "        const buttonEl =\n",
              "          document.querySelector('#df-5b41ee63-921a-4039-8796-20685225d5e2 button.colab-df-convert');\n",
              "        buttonEl.style.display =\n",
              "          google.colab.kernel.accessAllowed ? 'block' : 'none';\n",
              "\n",
              "        async function convertToInteractive(key) {\n",
              "          const element = document.querySelector('#df-5b41ee63-921a-4039-8796-20685225d5e2');\n",
              "          const dataTable =\n",
              "            await google.colab.kernel.invokeFunction('convertToInteractive',\n",
              "                                                     [key], {});\n",
              "          if (!dataTable) return;\n",
              "\n",
              "          const docLinkHtml = 'Like what you see? Visit the ' +\n",
              "            '<a target=\"_blank\" href=https://colab.research.google.com/notebooks/data_table.ipynb>data table notebook</a>'\n",
              "            + ' to learn more about interactive tables.';\n",
              "          element.innerHTML = '';\n",
              "          dataTable['output_type'] = 'display_data';\n",
              "          await google.colab.output.renderOutput(dataTable, element);\n",
              "          const docLink = document.createElement('div');\n",
              "          docLink.innerHTML = docLinkHtml;\n",
              "          element.appendChild(docLink);\n",
              "        }\n",
              "      </script>\n",
              "    </div>\n",
              "  </div>\n",
              "  "
            ],
            "text/plain": [
              "     SG_UE                  NM_UE  ...  VR_DESPESA_CONTRATADA VR_RECEITA\n",
              "32   58190  CAMPOS DOS GOYTACAZES  ...           10000.000000   11701.38\n",
              "67   58190  CAMPOS DOS GOYTACAZES  ...            6434.127982    1179.70\n",
              "105  58190  CAMPOS DOS GOYTACAZES  ...            6434.127982    8246.85\n",
              "108  58190  CAMPOS DOS GOYTACAZES  ...             200.000000     700.00\n",
              "120  58190  CAMPOS DOS GOYTACAZES  ...            6434.127982    4761.85\n",
              "\n",
              "[5 rows x 22 columns]"
            ]
          },
          "execution_count": 27,
          "metadata": {},
          "output_type": "execute_result"
        }
      ],
      "source": [
        "receita_mean=t_datasets2[['VR_RECEITA']].mean() \n",
        "t_datasets2 = t_datasets2.replace(np.nan, receita_mean)\n",
        "t_datasets2.head()"
      ]
    },
    {
      "cell_type": "code",
      "execution_count": null,
      "metadata": {
        "colab": {
          "base_uri": "https://localhost:8080/"
        },
        "id": "bfP8WAHugtXR",
        "outputId": "17e0c82d-5842-42f4-d4fe-dbe15964cbc9"
      },
      "outputs": [
        {
          "name": "stdout",
          "output_type": "stream",
          "text": [
            "<class 'pandas.core.frame.DataFrame'>\n",
            "Int64Index: 818 entries, 32 to 26458\n",
            "Data columns (total 22 columns):\n",
            " #   Column                   Non-Null Count  Dtype  \n",
            "---  ------                   --------------  -----  \n",
            " 0   SG_UE                    818 non-null    int64  \n",
            " 1   NM_UE                    818 non-null    object \n",
            " 2   CD_CARGO                 818 non-null    int64  \n",
            " 3   DS_CARGO                 818 non-null    object \n",
            " 4   NR_CANDIDATO             818 non-null    int64  \n",
            " 5   NM_CANDIDATO             818 non-null    object \n",
            " 6   NR_CPF_CANDIDATO         818 non-null    int64  \n",
            " 7   NM_EMAIL                 818 non-null    object \n",
            " 8   TP_AGREMIACAO            818 non-null    object \n",
            " 9   NR_PARTIDO               818 non-null    int64  \n",
            " 10  NM_PARTIDO               818 non-null    object \n",
            " 11  DS_COMPOSICAO_COLIGACAO  818 non-null    object \n",
            " 12  CD_NACIONALIDADE         818 non-null    int64  \n",
            " 13  NR_IDADE_DATA_POSSE      818 non-null    int64  \n",
            " 14  DS_GENERO                818 non-null    object \n",
            " 15  DS_GRAU_INSTRUCAO        818 non-null    object \n",
            " 16  DS_ESTADO_CIVIL          818 non-null    object \n",
            " 17  DS_COR_RACA              818 non-null    object \n",
            " 18  DS_OCUPACAO              818 non-null    object \n",
            " 19  DS_SIT_TOT_TURNO         818 non-null    object \n",
            " 20  VR_DESPESA_CONTRATADA    818 non-null    float64\n",
            " 21  VR_RECEITA               818 non-null    float64\n",
            "dtypes: float64(2), int64(7), object(13)\n",
            "memory usage: 147.0+ KB\n"
          ]
        }
      ],
      "source": [
        "t_datasets2.info()"
      ]
    },
    {
      "cell_type": "markdown",
      "metadata": {
        "id": "YTx2TmtesUbR"
      },
      "source": [
        "### Muitos dados estão com caracteres não legíveis e como isso depois se tornará um app web, efetuarei a mudança para que possamos ter dados mais estéticos futuramente.\n"
      ]
    },
    {
      "cell_type": "code",
      "execution_count": null,
      "metadata": {
        "id": "jQh_Qthkt1CF"
      },
      "outputs": [],
      "source": [
        "dados= t_datasets2\n",
        "dados = dados.replace(['ELEITO POR QP','ELEITO POR MÃDIA'],'Eleito')\n",
        "dados = dados.replace(['NÃO ELEITO'],'Nao Eleito')\n",
        "dados = dados.replace(['SUPLENTE'],'Suplente')\n",
        "dados.drop(dados.index[dados['DS_SIT_TOT_TURNO'] == '#NULO#'], inplace = True)\n",
        "dados = dados.replace(['LÃ E ESCREVE'],'Le e escreve')\n",
        "dados = dados.replace(['ENSINO MÃDIO INCOMPLETO'],'ENSINO MEDIO IMCOMPLETO')\n",
        "dados = dados.replace(['ENSINO MÃDIO COMPLETO'],'ENSINO MEDIO COMPLETO')\n",
        "dados = dados.replace(['VIÃVO(A)'],'VIUVO(A)')"
      ]
    },
    {
      "cell_type": "markdown",
      "metadata": {
        "id": "mEhyIs_e8E0w"
      },
      "source": [
        "#Agora com dados organizados, preenchidos e legíveis, está na hora de excluir os dados que não usaremos de entrada e lapidar nosso dataset."
      ]
    },
    {
      "cell_type": "code",
      "execution_count": null,
      "metadata": {
        "colab": {
          "base_uri": "https://localhost:8080/",
          "height": 624
        },
        "id": "u0xTvjJ3C-V7",
        "outputId": "20fc9be5-63c1-4c23-c1d7-b78a96d25ae3"
      },
      "outputs": [
        {
          "data": {
            "text/html": [
              "\n",
              "  <div id=\"df-f77a8d54-c8f4-4ddc-9809-3680be31517c\">\n",
              "    <div class=\"colab-df-container\">\n",
              "      <div>\n",
              "<style scoped>\n",
              "    .dataframe tbody tr th:only-of-type {\n",
              "        vertical-align: middle;\n",
              "    }\n",
              "\n",
              "    .dataframe tbody tr th {\n",
              "        vertical-align: top;\n",
              "    }\n",
              "\n",
              "    .dataframe thead th {\n",
              "        text-align: right;\n",
              "    }\n",
              "</style>\n",
              "<table border=\"1\" class=\"dataframe\">\n",
              "  <thead>\n",
              "    <tr style=\"text-align: right;\">\n",
              "      <th></th>\n",
              "      <th>Partido</th>\n",
              "      <th>Idade</th>\n",
              "      <th>Genero</th>\n",
              "      <th>Escolaridade</th>\n",
              "      <th>Estado_civil</th>\n",
              "      <th>Raça</th>\n",
              "      <th>Ocupacao</th>\n",
              "      <th>Situacao</th>\n",
              "      <th>VR_DESPESA_CONTRATADA</th>\n",
              "      <th>VR_RECEITA</th>\n",
              "    </tr>\n",
              "  </thead>\n",
              "  <tbody>\n",
              "    <tr>\n",
              "      <th>32</th>\n",
              "      <td>PARTIDO SOCIAL DEMOCRÃTICO</td>\n",
              "      <td>55</td>\n",
              "      <td>FEMININO</td>\n",
              "      <td>ENSINO MEDIO COMPLETO</td>\n",
              "      <td>VIUVO(A)</td>\n",
              "      <td>BRANCA</td>\n",
              "      <td>DONA DE CASA</td>\n",
              "      <td>Suplente</td>\n",
              "      <td>10000.000000</td>\n",
              "      <td>11701.38</td>\n",
              "    </tr>\n",
              "    <tr>\n",
              "      <th>67</th>\n",
              "      <td>AVANTE</td>\n",
              "      <td>51</td>\n",
              "      <td>MASCULINO</td>\n",
              "      <td>ENSINO FUNDAMENTAL INCOMPLETO</td>\n",
              "      <td>CASADO(A)</td>\n",
              "      <td>PRETA</td>\n",
              "      <td>OUTROS</td>\n",
              "      <td>Suplente</td>\n",
              "      <td>6434.127982</td>\n",
              "      <td>1179.70</td>\n",
              "    </tr>\n",
              "    <tr>\n",
              "      <th>105</th>\n",
              "      <td>PARTIDO DEMOCRÃTICO TRABALHISTA</td>\n",
              "      <td>56</td>\n",
              "      <td>MASCULINO</td>\n",
              "      <td>ENSINO FUNDAMENTAL COMPLETO</td>\n",
              "      <td>DIVORCIADO(A)</td>\n",
              "      <td>BRANCA</td>\n",
              "      <td>COMERCIANTE</td>\n",
              "      <td>Suplente</td>\n",
              "      <td>6434.127982</td>\n",
              "      <td>8246.85</td>\n",
              "    </tr>\n",
              "    <tr>\n",
              "      <th>108</th>\n",
              "      <td>REDE SUSTENTABILIDADE</td>\n",
              "      <td>39</td>\n",
              "      <td>MASCULINO</td>\n",
              "      <td>ENSINO MEDIO COMPLETO</td>\n",
              "      <td>CASADO(A)</td>\n",
              "      <td>BRANCA</td>\n",
              "      <td>SERVIDOR PÃBLICO MUNICIPAL</td>\n",
              "      <td>Nao Eleito</td>\n",
              "      <td>200.000000</td>\n",
              "      <td>700.00</td>\n",
              "    </tr>\n",
              "    <tr>\n",
              "      <th>120</th>\n",
              "      <td>PATRIOTA</td>\n",
              "      <td>49</td>\n",
              "      <td>MASCULINO</td>\n",
              "      <td>SUPERIOR COMPLETO</td>\n",
              "      <td>DIVORCIADO(A)</td>\n",
              "      <td>BRANCA</td>\n",
              "      <td>FISIOTERAPEUTA E TERAPEUTA OCUPACIONAL</td>\n",
              "      <td>Nao Eleito</td>\n",
              "      <td>6434.127982</td>\n",
              "      <td>4761.85</td>\n",
              "    </tr>\n",
              "    <tr>\n",
              "      <th>...</th>\n",
              "      <td>...</td>\n",
              "      <td>...</td>\n",
              "      <td>...</td>\n",
              "      <td>...</td>\n",
              "      <td>...</td>\n",
              "      <td>...</td>\n",
              "      <td>...</td>\n",
              "      <td>...</td>\n",
              "      <td>...</td>\n",
              "      <td>...</td>\n",
              "    </tr>\n",
              "    <tr>\n",
              "      <th>26380</th>\n",
              "      <td>DEMOCRACIA CRISTÃ</td>\n",
              "      <td>55</td>\n",
              "      <td>MASCULINO</td>\n",
              "      <td>ENSINO MEDIO COMPLETO</td>\n",
              "      <td>CASADO(A)</td>\n",
              "      <td>PARDA</td>\n",
              "      <td>POLICIAL MILITAR</td>\n",
              "      <td>Nao Eleito</td>\n",
              "      <td>325.500000</td>\n",
              "      <td>5716.85</td>\n",
              "    </tr>\n",
              "    <tr>\n",
              "      <th>26389</th>\n",
              "      <td>PARTIDO LIBERAL</td>\n",
              "      <td>55</td>\n",
              "      <td>MASCULINO</td>\n",
              "      <td>ENSINO FUNDAMENTAL INCOMPLETO</td>\n",
              "      <td>CASADO(A)</td>\n",
              "      <td>BRANCA</td>\n",
              "      <td>EMPRESÃRIO</td>\n",
              "      <td>Suplente</td>\n",
              "      <td>1300.000000</td>\n",
              "      <td>6461.85</td>\n",
              "    </tr>\n",
              "    <tr>\n",
              "      <th>26407</th>\n",
              "      <td>PARTIDO SOCIALISTA BRASILEIRO</td>\n",
              "      <td>43</td>\n",
              "      <td>FEMININO</td>\n",
              "      <td>SUPERIOR COMPLETO</td>\n",
              "      <td>CASADO(A)</td>\n",
              "      <td>PARDA</td>\n",
              "      <td>NUTRICIONISTA E ASSEMELHADOS</td>\n",
              "      <td>Nao Eleito</td>\n",
              "      <td>6434.127982</td>\n",
              "      <td>1387.04</td>\n",
              "    </tr>\n",
              "    <tr>\n",
              "      <th>26411</th>\n",
              "      <td>PARTIDO DA MOBILIZAÃÃO NACIONAL</td>\n",
              "      <td>53</td>\n",
              "      <td>MASCULINO</td>\n",
              "      <td>ENSINO FUNDAMENTAL COMPLETO</td>\n",
              "      <td>SOLTEIRO(A)</td>\n",
              "      <td>BRANCA</td>\n",
              "      <td>OUTROS</td>\n",
              "      <td>Nao Eleito</td>\n",
              "      <td>6434.127982</td>\n",
              "      <td>187.50</td>\n",
              "    </tr>\n",
              "    <tr>\n",
              "      <th>26458</th>\n",
              "      <td>PARTIDO DEMOCRÃTICO TRABALHISTA</td>\n",
              "      <td>57</td>\n",
              "      <td>MASCULINO</td>\n",
              "      <td>SUPERIOR COMPLETO</td>\n",
              "      <td>CASADO(A)</td>\n",
              "      <td>BRANCA</td>\n",
              "      <td>EMPRESÃRIO</td>\n",
              "      <td>Suplente</td>\n",
              "      <td>680.000000</td>\n",
              "      <td>6191.85</td>\n",
              "    </tr>\n",
              "  </tbody>\n",
              "</table>\n",
              "<p>797 rows × 10 columns</p>\n",
              "</div>\n",
              "      <button class=\"colab-df-convert\" onclick=\"convertToInteractive('df-f77a8d54-c8f4-4ddc-9809-3680be31517c')\"\n",
              "              title=\"Convert this dataframe to an interactive table.\"\n",
              "              style=\"display:none;\">\n",
              "        \n",
              "  <svg xmlns=\"http://www.w3.org/2000/svg\" height=\"24px\"viewBox=\"0 0 24 24\"\n",
              "       width=\"24px\">\n",
              "    <path d=\"M0 0h24v24H0V0z\" fill=\"none\"/>\n",
              "    <path d=\"M18.56 5.44l.94 2.06.94-2.06 2.06-.94-2.06-.94-.94-2.06-.94 2.06-2.06.94zm-11 1L8.5 8.5l.94-2.06 2.06-.94-2.06-.94L8.5 2.5l-.94 2.06-2.06.94zm10 10l.94 2.06.94-2.06 2.06-.94-2.06-.94-.94-2.06-.94 2.06-2.06.94z\"/><path d=\"M17.41 7.96l-1.37-1.37c-.4-.4-.92-.59-1.43-.59-.52 0-1.04.2-1.43.59L10.3 9.45l-7.72 7.72c-.78.78-.78 2.05 0 2.83L4 21.41c.39.39.9.59 1.41.59.51 0 1.02-.2 1.41-.59l7.78-7.78 2.81-2.81c.8-.78.8-2.07 0-2.86zM5.41 20L4 18.59l7.72-7.72 1.47 1.35L5.41 20z\"/>\n",
              "  </svg>\n",
              "      </button>\n",
              "      \n",
              "  <style>\n",
              "    .colab-df-container {\n",
              "      display:flex;\n",
              "      flex-wrap:wrap;\n",
              "      gap: 12px;\n",
              "    }\n",
              "\n",
              "    .colab-df-convert {\n",
              "      background-color: #E8F0FE;\n",
              "      border: none;\n",
              "      border-radius: 50%;\n",
              "      cursor: pointer;\n",
              "      display: none;\n",
              "      fill: #1967D2;\n",
              "      height: 32px;\n",
              "      padding: 0 0 0 0;\n",
              "      width: 32px;\n",
              "    }\n",
              "\n",
              "    .colab-df-convert:hover {\n",
              "      background-color: #E2EBFA;\n",
              "      box-shadow: 0px 1px 2px rgba(60, 64, 67, 0.3), 0px 1px 3px 1px rgba(60, 64, 67, 0.15);\n",
              "      fill: #174EA6;\n",
              "    }\n",
              "\n",
              "    [theme=dark] .colab-df-convert {\n",
              "      background-color: #3B4455;\n",
              "      fill: #D2E3FC;\n",
              "    }\n",
              "\n",
              "    [theme=dark] .colab-df-convert:hover {\n",
              "      background-color: #434B5C;\n",
              "      box-shadow: 0px 1px 3px 1px rgba(0, 0, 0, 0.15);\n",
              "      filter: drop-shadow(0px 1px 2px rgba(0, 0, 0, 0.3));\n",
              "      fill: #FFFFFF;\n",
              "    }\n",
              "  </style>\n",
              "\n",
              "      <script>\n",
              "        const buttonEl =\n",
              "          document.querySelector('#df-f77a8d54-c8f4-4ddc-9809-3680be31517c button.colab-df-convert');\n",
              "        buttonEl.style.display =\n",
              "          google.colab.kernel.accessAllowed ? 'block' : 'none';\n",
              "\n",
              "        async function convertToInteractive(key) {\n",
              "          const element = document.querySelector('#df-f77a8d54-c8f4-4ddc-9809-3680be31517c');\n",
              "          const dataTable =\n",
              "            await google.colab.kernel.invokeFunction('convertToInteractive',\n",
              "                                                     [key], {});\n",
              "          if (!dataTable) return;\n",
              "\n",
              "          const docLinkHtml = 'Like what you see? Visit the ' +\n",
              "            '<a target=\"_blank\" href=https://colab.research.google.com/notebooks/data_table.ipynb>data table notebook</a>'\n",
              "            + ' to learn more about interactive tables.';\n",
              "          element.innerHTML = '';\n",
              "          dataTable['output_type'] = 'display_data';\n",
              "          await google.colab.output.renderOutput(dataTable, element);\n",
              "          const docLink = document.createElement('div');\n",
              "          docLink.innerHTML = docLinkHtml;\n",
              "          element.appendChild(docLink);\n",
              "        }\n",
              "      </script>\n",
              "    </div>\n",
              "  </div>\n",
              "  "
            ],
            "text/plain": [
              "                                 Partido  ...  VR_RECEITA\n",
              "32           PARTIDO SOCIAL DEMOCRÃTICO  ...    11701.38\n",
              "67                                AVANTE  ...     1179.70\n",
              "105     PARTIDO DEMOCRÃTICO TRABALHISTA  ...     8246.85\n",
              "108                REDE SUSTENTABILIDADE  ...      700.00\n",
              "120                             PATRIOTA  ...     4761.85\n",
              "...                                  ...  ...         ...\n",
              "26380                 DEMOCRACIA CRISTÃ  ...     5716.85\n",
              "26389                    PARTIDO LIBERAL  ...     6461.85\n",
              "26407      PARTIDO SOCIALISTA BRASILEIRO  ...     1387.04\n",
              "26411  PARTIDO DA MOBILIZAÃÃO NACIONAL  ...      187.50\n",
              "26458   PARTIDO DEMOCRÃTICO TRABALHISTA  ...     6191.85\n",
              "\n",
              "[797 rows x 10 columns]"
            ]
          },
          "execution_count": 30,
          "metadata": {},
          "output_type": "execute_result"
        }
      ],
      "source": [
        "tdados=dados.copy()\n",
        "columns = ['CD_CARGO','DS_CARGO','SG_UE','NM_UE','NR_CANDIDATO','NM_CANDIDATO','NR_CPF_CANDIDATO','NR_CANDIDATO','NR_CANDIDATO','NM_EMAIL','TP_AGREMIACAO','NR_PARTIDO','DS_COMPOSICAO_COLIGACAO','CD_NACIONALIDADE']\n",
        "tdados.drop(columns, inplace=True, axis=1)\n",
        "tdados=tdados.rename(columns={\"NR_IDADE_DATA_POSSE\": \"Idade\", \"DS_GENERO\": \"Genero\",\"DS_GRAU_INSTRUCAO\": \"Escolaridade\",\"DS_ESTADO_CIVIL\": \"Estado_civil\",\"DS_COR_RACA\": \"Raça\",\"DS_OCUPACAO\": \"Ocupacao\",'NM_PARTIDO':'Partido',\"DS_SIT_TOT_TURNO\": \"Situacao\"})\n",
        "tdados"
      ]
    },
    {
      "cell_type": "markdown",
      "metadata": {
        "id": "G2ySpqKdHo8F"
      },
      "source": [
        "## Aqui temos que categorizar os dados, para ter um bom resultado do algoritmo utilizaremos o get_dummies.\n",
        "#OBS : Como não temos somente dois valores de saida (0 e 1) temos que categorizar o Y depois, pois o algoritmo será capaz de dizer se o candidato será: ELEITO, NÃO ELEITO E SUPLENTE.\n",
        "\n",
        "\n"
      ]
    },
    {
      "cell_type": "code",
      "execution_count": null,
      "metadata": {
        "colab": {
          "base_uri": "https://localhost:8080/",
          "height": 404
        },
        "id": "Hju13knL7lE0",
        "outputId": "a02229c4-eeab-4b43-8fc4-e5c9c9c9a631"
      },
      "outputs": [
        {
          "data": {
            "text/html": [
              "\n",
              "  <div id=\"df-2c066cd6-8a8e-4477-ae11-277a76b97ac9\">\n",
              "    <div class=\"colab-df-container\">\n",
              "      <div>\n",
              "<style scoped>\n",
              "    .dataframe tbody tr th:only-of-type {\n",
              "        vertical-align: middle;\n",
              "    }\n",
              "\n",
              "    .dataframe tbody tr th {\n",
              "        vertical-align: top;\n",
              "    }\n",
              "\n",
              "    .dataframe thead th {\n",
              "        text-align: right;\n",
              "    }\n",
              "</style>\n",
              "<table border=\"1\" class=\"dataframe\">\n",
              "  <thead>\n",
              "    <tr style=\"text-align: right;\">\n",
              "      <th></th>\n",
              "      <th>Idade</th>\n",
              "      <th>Situacao</th>\n",
              "      <th>VR_DESPESA_CONTRATADA</th>\n",
              "      <th>VR_RECEITA</th>\n",
              "      <th>Genero_FEMININO</th>\n",
              "      <th>Genero_MASCULINO</th>\n",
              "      <th>Estado_civil_CASADO(A)</th>\n",
              "      <th>Estado_civil_DIVORCIADO(A)</th>\n",
              "      <th>Estado_civil_SEPARADO(A) JUDICIALMENTE</th>\n",
              "      <th>Estado_civil_SOLTEIRO(A)</th>\n",
              "      <th>Estado_civil_VIUVO(A)</th>\n",
              "      <th>Raça_AMARELA</th>\n",
              "      <th>Raça_BRANCA</th>\n",
              "      <th>Raça_INDÃGENA</th>\n",
              "      <th>Raça_PARDA</th>\n",
              "      <th>Raça_PRETA</th>\n",
              "      <th>Raça_SEM INFORMAÃÃO</th>\n",
              "      <th>Escolaridade_ENSINO FUNDAMENTAL COMPLETO</th>\n",
              "      <th>Escolaridade_ENSINO FUNDAMENTAL INCOMPLETO</th>\n",
              "      <th>Escolaridade_ENSINO MEDIO COMPLETO</th>\n",
              "      <th>Escolaridade_ENSINO MEDIO IMCOMPLETO</th>\n",
              "      <th>Escolaridade_Le e escreve</th>\n",
              "      <th>Escolaridade_SUPERIOR COMPLETO</th>\n",
              "      <th>Escolaridade_SUPERIOR INCOMPLETO</th>\n",
              "      <th>Ocupacao_ADMINISTRADOR</th>\n",
              "      <th>Ocupacao_ADVOGADO</th>\n",
              "      <th>Ocupacao_AGENTE ADMINISTRATIVO</th>\n",
              "      <th>Ocupacao_AGENTE DE SAÃDE E SANITARISTA</th>\n",
              "      <th>Ocupacao_AGRICULTOR</th>\n",
              "      <th>Ocupacao_ALFAIATE E COSTUREIRO</th>\n",
              "      <th>Ocupacao_ALMOXARIFE</th>\n",
              "      <th>Ocupacao_APOSENTADO (EXCETO SERVIDOR PÃBLICO)</th>\n",
              "      <th>Ocupacao_ARQUITETO</th>\n",
              "      <th>Ocupacao_ARTESÃO</th>\n",
              "      <th>Ocupacao_ASSISTENTE SOCIAL</th>\n",
              "      <th>Ocupacao_ATLETA PROFISSIONAL E TÃCNICO EM DESPORTOS</th>\n",
              "      <th>Ocupacao_AUXILIAR DE ESCRITÃRIO E ASSEMELHADOS</th>\n",
              "      <th>Ocupacao_AUXILIAR DE LABORATÃRIO</th>\n",
              "      <th>Ocupacao_BANCÃRIO E ECONOMIÃRIO</th>\n",
              "      <th>Ocupacao_BIÃLOGO</th>\n",
              "      <th>...</th>\n",
              "      <th>Ocupacao_TORNEIRO MECÃNICO</th>\n",
              "      <th>Ocupacao_TRABALHADOR DE CONSTRUÃÃO CIVIL</th>\n",
              "      <th>Ocupacao_TRABALHADOR DE HOTELARIA</th>\n",
              "      <th>Ocupacao_TRABALHADOR METALÃRGICO E SIDERÃRGICO</th>\n",
              "      <th>Ocupacao_TÃCNICO CONTABILIDADE,ESTATÃSTICA,ECONOMIA DOMÃSTICA E ADMINISTRAÃÃO</th>\n",
              "      <th>Ocupacao_TÃCNICO DE ELETRICIDADE,ELETRÃNICA E TELECOMUNICAÃÃES</th>\n",
              "      <th>Ocupacao_TÃCNICO DE ENFERMAGEM E ASSEMELHADOS (EXCETO ENFERMEIRO)</th>\n",
              "      <th>Ocupacao_TÃCNICO DE LABORATÃRIO E RAIOS X</th>\n",
              "      <th>Ocupacao_TÃCNICO DE MECÃNICA</th>\n",
              "      <th>Ocupacao_TÃCNICO EM AGRONOMIA E AGRIMENSURA</th>\n",
              "      <th>Ocupacao_VENDEDOR DE COMÃRCIO VAREJISTA E ATACADISTA</th>\n",
              "      <th>Ocupacao_VENDEDOR PRACISTA,REPRESENTANTE,CAIXEIRO-VIAJANTE E ASSEMELHADOS</th>\n",
              "      <th>Ocupacao_VEREADOR</th>\n",
              "      <th>Ocupacao_VIGILANTE</th>\n",
              "      <th>Partido_AVANTE</th>\n",
              "      <th>Partido_CIDADANIA</th>\n",
              "      <th>Partido_DEMOCRACIA CRISTÃ</th>\n",
              "      <th>Partido_DEMOCRATAS</th>\n",
              "      <th>Partido_MOVIMENTO DEMOCRÃTICO BRASILEIRO</th>\n",
              "      <th>Partido_PARTIDO COMUNISTA DO BRASIL</th>\n",
              "      <th>Partido_PARTIDO DA MOBILIZAÃÃO NACIONAL</th>\n",
              "      <th>Partido_PARTIDO DA MULHER BRASILEIRA</th>\n",
              "      <th>Partido_PARTIDO DA SOCIAL DEMOCRACIA BRASILEIRA</th>\n",
              "      <th>Partido_PARTIDO DEMOCRÃTICO TRABALHISTA</th>\n",
              "      <th>Partido_PARTIDO DOS TRABALHADORES</th>\n",
              "      <th>Partido_PARTIDO LIBERAL</th>\n",
              "      <th>Partido_PARTIDO RENOVADOR TRABALHISTA BRASILEIRO</th>\n",
              "      <th>Partido_PARTIDO REPUBLICANO DA ORDEM SOCIAL</th>\n",
              "      <th>Partido_PARTIDO SOCIAL CRISTÃO</th>\n",
              "      <th>Partido_PARTIDO SOCIAL DEMOCRÃTICO</th>\n",
              "      <th>Partido_PARTIDO SOCIAL LIBERAL</th>\n",
              "      <th>Partido_PARTIDO SOCIALISMO E LIBERDADE</th>\n",
              "      <th>Partido_PARTIDO SOCIALISTA BRASILEIRO</th>\n",
              "      <th>Partido_PARTIDO TRABALHISTA BRASILEIRO</th>\n",
              "      <th>Partido_PARTIDO TRABALHISTA CRISTÃO</th>\n",
              "      <th>Partido_PATRIOTA</th>\n",
              "      <th>Partido_PODEMOS</th>\n",
              "      <th>Partido_REDE SUSTENTABILIDADE</th>\n",
              "      <th>Partido_REPUBLICANOS</th>\n",
              "      <th>Partido_SOLIDARIEDADE</th>\n",
              "    </tr>\n",
              "  </thead>\n",
              "  <tbody>\n",
              "    <tr>\n",
              "      <th>32</th>\n",
              "      <td>55</td>\n",
              "      <td>Suplente</td>\n",
              "      <td>10000.000000</td>\n",
              "      <td>11701.38</td>\n",
              "      <td>1</td>\n",
              "      <td>0</td>\n",
              "      <td>0</td>\n",
              "      <td>0</td>\n",
              "      <td>0</td>\n",
              "      <td>0</td>\n",
              "      <td>1</td>\n",
              "      <td>0</td>\n",
              "      <td>1</td>\n",
              "      <td>0</td>\n",
              "      <td>0</td>\n",
              "      <td>0</td>\n",
              "      <td>0</td>\n",
              "      <td>0</td>\n",
              "      <td>0</td>\n",
              "      <td>1</td>\n",
              "      <td>0</td>\n",
              "      <td>0</td>\n",
              "      <td>0</td>\n",
              "      <td>0</td>\n",
              "      <td>0</td>\n",
              "      <td>0</td>\n",
              "      <td>0</td>\n",
              "      <td>0</td>\n",
              "      <td>0</td>\n",
              "      <td>0</td>\n",
              "      <td>0</td>\n",
              "      <td>0</td>\n",
              "      <td>0</td>\n",
              "      <td>0</td>\n",
              "      <td>0</td>\n",
              "      <td>0</td>\n",
              "      <td>0</td>\n",
              "      <td>0</td>\n",
              "      <td>0</td>\n",
              "      <td>0</td>\n",
              "      <td>...</td>\n",
              "      <td>0</td>\n",
              "      <td>0</td>\n",
              "      <td>0</td>\n",
              "      <td>0</td>\n",
              "      <td>0</td>\n",
              "      <td>0</td>\n",
              "      <td>0</td>\n",
              "      <td>0</td>\n",
              "      <td>0</td>\n",
              "      <td>0</td>\n",
              "      <td>0</td>\n",
              "      <td>0</td>\n",
              "      <td>0</td>\n",
              "      <td>0</td>\n",
              "      <td>0</td>\n",
              "      <td>0</td>\n",
              "      <td>0</td>\n",
              "      <td>0</td>\n",
              "      <td>0</td>\n",
              "      <td>0</td>\n",
              "      <td>0</td>\n",
              "      <td>0</td>\n",
              "      <td>0</td>\n",
              "      <td>0</td>\n",
              "      <td>0</td>\n",
              "      <td>0</td>\n",
              "      <td>0</td>\n",
              "      <td>0</td>\n",
              "      <td>0</td>\n",
              "      <td>1</td>\n",
              "      <td>0</td>\n",
              "      <td>0</td>\n",
              "      <td>0</td>\n",
              "      <td>0</td>\n",
              "      <td>0</td>\n",
              "      <td>0</td>\n",
              "      <td>0</td>\n",
              "      <td>0</td>\n",
              "      <td>0</td>\n",
              "      <td>0</td>\n",
              "    </tr>\n",
              "    <tr>\n",
              "      <th>67</th>\n",
              "      <td>51</td>\n",
              "      <td>Suplente</td>\n",
              "      <td>6434.127982</td>\n",
              "      <td>1179.70</td>\n",
              "      <td>0</td>\n",
              "      <td>1</td>\n",
              "      <td>1</td>\n",
              "      <td>0</td>\n",
              "      <td>0</td>\n",
              "      <td>0</td>\n",
              "      <td>0</td>\n",
              "      <td>0</td>\n",
              "      <td>0</td>\n",
              "      <td>0</td>\n",
              "      <td>0</td>\n",
              "      <td>1</td>\n",
              "      <td>0</td>\n",
              "      <td>0</td>\n",
              "      <td>1</td>\n",
              "      <td>0</td>\n",
              "      <td>0</td>\n",
              "      <td>0</td>\n",
              "      <td>0</td>\n",
              "      <td>0</td>\n",
              "      <td>0</td>\n",
              "      <td>0</td>\n",
              "      <td>0</td>\n",
              "      <td>0</td>\n",
              "      <td>0</td>\n",
              "      <td>0</td>\n",
              "      <td>0</td>\n",
              "      <td>0</td>\n",
              "      <td>0</td>\n",
              "      <td>0</td>\n",
              "      <td>0</td>\n",
              "      <td>0</td>\n",
              "      <td>0</td>\n",
              "      <td>0</td>\n",
              "      <td>0</td>\n",
              "      <td>0</td>\n",
              "      <td>...</td>\n",
              "      <td>0</td>\n",
              "      <td>0</td>\n",
              "      <td>0</td>\n",
              "      <td>0</td>\n",
              "      <td>0</td>\n",
              "      <td>0</td>\n",
              "      <td>0</td>\n",
              "      <td>0</td>\n",
              "      <td>0</td>\n",
              "      <td>0</td>\n",
              "      <td>0</td>\n",
              "      <td>0</td>\n",
              "      <td>0</td>\n",
              "      <td>0</td>\n",
              "      <td>1</td>\n",
              "      <td>0</td>\n",
              "      <td>0</td>\n",
              "      <td>0</td>\n",
              "      <td>0</td>\n",
              "      <td>0</td>\n",
              "      <td>0</td>\n",
              "      <td>0</td>\n",
              "      <td>0</td>\n",
              "      <td>0</td>\n",
              "      <td>0</td>\n",
              "      <td>0</td>\n",
              "      <td>0</td>\n",
              "      <td>0</td>\n",
              "      <td>0</td>\n",
              "      <td>0</td>\n",
              "      <td>0</td>\n",
              "      <td>0</td>\n",
              "      <td>0</td>\n",
              "      <td>0</td>\n",
              "      <td>0</td>\n",
              "      <td>0</td>\n",
              "      <td>0</td>\n",
              "      <td>0</td>\n",
              "      <td>0</td>\n",
              "      <td>0</td>\n",
              "    </tr>\n",
              "    <tr>\n",
              "      <th>105</th>\n",
              "      <td>56</td>\n",
              "      <td>Suplente</td>\n",
              "      <td>6434.127982</td>\n",
              "      <td>8246.85</td>\n",
              "      <td>0</td>\n",
              "      <td>1</td>\n",
              "      <td>0</td>\n",
              "      <td>1</td>\n",
              "      <td>0</td>\n",
              "      <td>0</td>\n",
              "      <td>0</td>\n",
              "      <td>0</td>\n",
              "      <td>1</td>\n",
              "      <td>0</td>\n",
              "      <td>0</td>\n",
              "      <td>0</td>\n",
              "      <td>0</td>\n",
              "      <td>1</td>\n",
              "      <td>0</td>\n",
              "      <td>0</td>\n",
              "      <td>0</td>\n",
              "      <td>0</td>\n",
              "      <td>0</td>\n",
              "      <td>0</td>\n",
              "      <td>0</td>\n",
              "      <td>0</td>\n",
              "      <td>0</td>\n",
              "      <td>0</td>\n",
              "      <td>0</td>\n",
              "      <td>0</td>\n",
              "      <td>0</td>\n",
              "      <td>0</td>\n",
              "      <td>0</td>\n",
              "      <td>0</td>\n",
              "      <td>0</td>\n",
              "      <td>0</td>\n",
              "      <td>0</td>\n",
              "      <td>0</td>\n",
              "      <td>0</td>\n",
              "      <td>0</td>\n",
              "      <td>...</td>\n",
              "      <td>0</td>\n",
              "      <td>0</td>\n",
              "      <td>0</td>\n",
              "      <td>0</td>\n",
              "      <td>0</td>\n",
              "      <td>0</td>\n",
              "      <td>0</td>\n",
              "      <td>0</td>\n",
              "      <td>0</td>\n",
              "      <td>0</td>\n",
              "      <td>0</td>\n",
              "      <td>0</td>\n",
              "      <td>0</td>\n",
              "      <td>0</td>\n",
              "      <td>0</td>\n",
              "      <td>0</td>\n",
              "      <td>0</td>\n",
              "      <td>0</td>\n",
              "      <td>0</td>\n",
              "      <td>0</td>\n",
              "      <td>0</td>\n",
              "      <td>0</td>\n",
              "      <td>0</td>\n",
              "      <td>1</td>\n",
              "      <td>0</td>\n",
              "      <td>0</td>\n",
              "      <td>0</td>\n",
              "      <td>0</td>\n",
              "      <td>0</td>\n",
              "      <td>0</td>\n",
              "      <td>0</td>\n",
              "      <td>0</td>\n",
              "      <td>0</td>\n",
              "      <td>0</td>\n",
              "      <td>0</td>\n",
              "      <td>0</td>\n",
              "      <td>0</td>\n",
              "      <td>0</td>\n",
              "      <td>0</td>\n",
              "      <td>0</td>\n",
              "    </tr>\n",
              "    <tr>\n",
              "      <th>108</th>\n",
              "      <td>39</td>\n",
              "      <td>Nao Eleito</td>\n",
              "      <td>200.000000</td>\n",
              "      <td>700.00</td>\n",
              "      <td>0</td>\n",
              "      <td>1</td>\n",
              "      <td>1</td>\n",
              "      <td>0</td>\n",
              "      <td>0</td>\n",
              "      <td>0</td>\n",
              "      <td>0</td>\n",
              "      <td>0</td>\n",
              "      <td>1</td>\n",
              "      <td>0</td>\n",
              "      <td>0</td>\n",
              "      <td>0</td>\n",
              "      <td>0</td>\n",
              "      <td>0</td>\n",
              "      <td>0</td>\n",
              "      <td>1</td>\n",
              "      <td>0</td>\n",
              "      <td>0</td>\n",
              "      <td>0</td>\n",
              "      <td>0</td>\n",
              "      <td>0</td>\n",
              "      <td>0</td>\n",
              "      <td>0</td>\n",
              "      <td>0</td>\n",
              "      <td>0</td>\n",
              "      <td>0</td>\n",
              "      <td>0</td>\n",
              "      <td>0</td>\n",
              "      <td>0</td>\n",
              "      <td>0</td>\n",
              "      <td>0</td>\n",
              "      <td>0</td>\n",
              "      <td>0</td>\n",
              "      <td>0</td>\n",
              "      <td>0</td>\n",
              "      <td>0</td>\n",
              "      <td>...</td>\n",
              "      <td>0</td>\n",
              "      <td>0</td>\n",
              "      <td>0</td>\n",
              "      <td>0</td>\n",
              "      <td>0</td>\n",
              "      <td>0</td>\n",
              "      <td>0</td>\n",
              "      <td>0</td>\n",
              "      <td>0</td>\n",
              "      <td>0</td>\n",
              "      <td>0</td>\n",
              "      <td>0</td>\n",
              "      <td>0</td>\n",
              "      <td>0</td>\n",
              "      <td>0</td>\n",
              "      <td>0</td>\n",
              "      <td>0</td>\n",
              "      <td>0</td>\n",
              "      <td>0</td>\n",
              "      <td>0</td>\n",
              "      <td>0</td>\n",
              "      <td>0</td>\n",
              "      <td>0</td>\n",
              "      <td>0</td>\n",
              "      <td>0</td>\n",
              "      <td>0</td>\n",
              "      <td>0</td>\n",
              "      <td>0</td>\n",
              "      <td>0</td>\n",
              "      <td>0</td>\n",
              "      <td>0</td>\n",
              "      <td>0</td>\n",
              "      <td>0</td>\n",
              "      <td>0</td>\n",
              "      <td>0</td>\n",
              "      <td>0</td>\n",
              "      <td>0</td>\n",
              "      <td>1</td>\n",
              "      <td>0</td>\n",
              "      <td>0</td>\n",
              "    </tr>\n",
              "    <tr>\n",
              "      <th>120</th>\n",
              "      <td>49</td>\n",
              "      <td>Nao Eleito</td>\n",
              "      <td>6434.127982</td>\n",
              "      <td>4761.85</td>\n",
              "      <td>0</td>\n",
              "      <td>1</td>\n",
              "      <td>0</td>\n",
              "      <td>1</td>\n",
              "      <td>0</td>\n",
              "      <td>0</td>\n",
              "      <td>0</td>\n",
              "      <td>0</td>\n",
              "      <td>1</td>\n",
              "      <td>0</td>\n",
              "      <td>0</td>\n",
              "      <td>0</td>\n",
              "      <td>0</td>\n",
              "      <td>0</td>\n",
              "      <td>0</td>\n",
              "      <td>0</td>\n",
              "      <td>0</td>\n",
              "      <td>0</td>\n",
              "      <td>1</td>\n",
              "      <td>0</td>\n",
              "      <td>0</td>\n",
              "      <td>0</td>\n",
              "      <td>0</td>\n",
              "      <td>0</td>\n",
              "      <td>0</td>\n",
              "      <td>0</td>\n",
              "      <td>0</td>\n",
              "      <td>0</td>\n",
              "      <td>0</td>\n",
              "      <td>0</td>\n",
              "      <td>0</td>\n",
              "      <td>0</td>\n",
              "      <td>0</td>\n",
              "      <td>0</td>\n",
              "      <td>0</td>\n",
              "      <td>0</td>\n",
              "      <td>...</td>\n",
              "      <td>0</td>\n",
              "      <td>0</td>\n",
              "      <td>0</td>\n",
              "      <td>0</td>\n",
              "      <td>0</td>\n",
              "      <td>0</td>\n",
              "      <td>0</td>\n",
              "      <td>0</td>\n",
              "      <td>0</td>\n",
              "      <td>0</td>\n",
              "      <td>0</td>\n",
              "      <td>0</td>\n",
              "      <td>0</td>\n",
              "      <td>0</td>\n",
              "      <td>0</td>\n",
              "      <td>0</td>\n",
              "      <td>0</td>\n",
              "      <td>0</td>\n",
              "      <td>0</td>\n",
              "      <td>0</td>\n",
              "      <td>0</td>\n",
              "      <td>0</td>\n",
              "      <td>0</td>\n",
              "      <td>0</td>\n",
              "      <td>0</td>\n",
              "      <td>0</td>\n",
              "      <td>0</td>\n",
              "      <td>0</td>\n",
              "      <td>0</td>\n",
              "      <td>0</td>\n",
              "      <td>0</td>\n",
              "      <td>0</td>\n",
              "      <td>0</td>\n",
              "      <td>0</td>\n",
              "      <td>0</td>\n",
              "      <td>1</td>\n",
              "      <td>0</td>\n",
              "      <td>0</td>\n",
              "      <td>0</td>\n",
              "      <td>0</td>\n",
              "    </tr>\n",
              "  </tbody>\n",
              "</table>\n",
              "<p>5 rows × 162 columns</p>\n",
              "</div>\n",
              "      <button class=\"colab-df-convert\" onclick=\"convertToInteractive('df-2c066cd6-8a8e-4477-ae11-277a76b97ac9')\"\n",
              "              title=\"Convert this dataframe to an interactive table.\"\n",
              "              style=\"display:none;\">\n",
              "        \n",
              "  <svg xmlns=\"http://www.w3.org/2000/svg\" height=\"24px\"viewBox=\"0 0 24 24\"\n",
              "       width=\"24px\">\n",
              "    <path d=\"M0 0h24v24H0V0z\" fill=\"none\"/>\n",
              "    <path d=\"M18.56 5.44l.94 2.06.94-2.06 2.06-.94-2.06-.94-.94-2.06-.94 2.06-2.06.94zm-11 1L8.5 8.5l.94-2.06 2.06-.94-2.06-.94L8.5 2.5l-.94 2.06-2.06.94zm10 10l.94 2.06.94-2.06 2.06-.94-2.06-.94-.94-2.06-.94 2.06-2.06.94z\"/><path d=\"M17.41 7.96l-1.37-1.37c-.4-.4-.92-.59-1.43-.59-.52 0-1.04.2-1.43.59L10.3 9.45l-7.72 7.72c-.78.78-.78 2.05 0 2.83L4 21.41c.39.39.9.59 1.41.59.51 0 1.02-.2 1.41-.59l7.78-7.78 2.81-2.81c.8-.78.8-2.07 0-2.86zM5.41 20L4 18.59l7.72-7.72 1.47 1.35L5.41 20z\"/>\n",
              "  </svg>\n",
              "      </button>\n",
              "      \n",
              "  <style>\n",
              "    .colab-df-container {\n",
              "      display:flex;\n",
              "      flex-wrap:wrap;\n",
              "      gap: 12px;\n",
              "    }\n",
              "\n",
              "    .colab-df-convert {\n",
              "      background-color: #E8F0FE;\n",
              "      border: none;\n",
              "      border-radius: 50%;\n",
              "      cursor: pointer;\n",
              "      display: none;\n",
              "      fill: #1967D2;\n",
              "      height: 32px;\n",
              "      padding: 0 0 0 0;\n",
              "      width: 32px;\n",
              "    }\n",
              "\n",
              "    .colab-df-convert:hover {\n",
              "      background-color: #E2EBFA;\n",
              "      box-shadow: 0px 1px 2px rgba(60, 64, 67, 0.3), 0px 1px 3px 1px rgba(60, 64, 67, 0.15);\n",
              "      fill: #174EA6;\n",
              "    }\n",
              "\n",
              "    [theme=dark] .colab-df-convert {\n",
              "      background-color: #3B4455;\n",
              "      fill: #D2E3FC;\n",
              "    }\n",
              "\n",
              "    [theme=dark] .colab-df-convert:hover {\n",
              "      background-color: #434B5C;\n",
              "      box-shadow: 0px 1px 3px 1px rgba(0, 0, 0, 0.15);\n",
              "      filter: drop-shadow(0px 1px 2px rgba(0, 0, 0, 0.3));\n",
              "      fill: #FFFFFF;\n",
              "    }\n",
              "  </style>\n",
              "\n",
              "      <script>\n",
              "        const buttonEl =\n",
              "          document.querySelector('#df-2c066cd6-8a8e-4477-ae11-277a76b97ac9 button.colab-df-convert');\n",
              "        buttonEl.style.display =\n",
              "          google.colab.kernel.accessAllowed ? 'block' : 'none';\n",
              "\n",
              "        async function convertToInteractive(key) {\n",
              "          const element = document.querySelector('#df-2c066cd6-8a8e-4477-ae11-277a76b97ac9');\n",
              "          const dataTable =\n",
              "            await google.colab.kernel.invokeFunction('convertToInteractive',\n",
              "                                                     [key], {});\n",
              "          if (!dataTable) return;\n",
              "\n",
              "          const docLinkHtml = 'Like what you see? Visit the ' +\n",
              "            '<a target=\"_blank\" href=https://colab.research.google.com/notebooks/data_table.ipynb>data table notebook</a>'\n",
              "            + ' to learn more about interactive tables.';\n",
              "          element.innerHTML = '';\n",
              "          dataTable['output_type'] = 'display_data';\n",
              "          await google.colab.output.renderOutput(dataTable, element);\n",
              "          const docLink = document.createElement('div');\n",
              "          docLink.innerHTML = docLinkHtml;\n",
              "          element.appendChild(docLink);\n",
              "        }\n",
              "      </script>\n",
              "    </div>\n",
              "  </div>\n",
              "  "
            ],
            "text/plain": [
              "     Idade    Situacao  ...  Partido_REPUBLICANOS  Partido_SOLIDARIEDADE\n",
              "32      55    Suplente  ...                     0                      0\n",
              "67      51    Suplente  ...                     0                      0\n",
              "105     56    Suplente  ...                     0                      0\n",
              "108     39  Nao Eleito  ...                     0                      0\n",
              "120     49  Nao Eleito  ...                     0                      0\n",
              "\n",
              "[5 rows x 162 columns]"
            ]
          },
          "execution_count": 31,
          "metadata": {},
          "output_type": "execute_result"
        }
      ],
      "source": [
        "m_dados = pd.get_dummies(tdados, columns=[\"Genero\",\"Estado_civil\",\n",
        "                                                 \"Raça\",'Escolaridade','Ocupacao','Partido'\n",
        "                                                ])\n",
        "m_dados.head()"
      ]
    },
    {
      "cell_type": "markdown",
      "metadata": {
        "id": "1A2cCBCD8txX"
      },
      "source": [
        "# Uma boa prática para facilitar a separação de X e Y é deixar a variável Y nos extremos do dataset, isso facilitará mais a frente, por isso eu excluí a coluna e coloquei ela de volta no final do dataset."
      ]
    },
    {
      "cell_type": "code",
      "execution_count": null,
      "metadata": {
        "colab": {
          "base_uri": "https://localhost:8080/"
        },
        "id": "6o8KBi5BwVBP",
        "outputId": "9bc26ded-02f6-4346-b6f5-231c0b4ad1fc"
      },
      "outputs": [
        {
          "name": "stdout",
          "output_type": "stream",
          "text": [
            "<class 'pandas.core.frame.DataFrame'>\n",
            "Int64Index: 797 entries, 32 to 26458\n",
            "Columns: 162 entries, Idade to Situacao\n",
            "dtypes: float64(2), int64(1), object(1), uint8(158)\n",
            "memory usage: 154.1+ KB\n"
          ]
        }
      ],
      "source": [
        "column_to_reorder  = m_dados.pop('Situacao')\n",
        "m_dados.insert(len(m_dados. columns), 'Situacao', column_to_reorder)\n",
        "m_dados.to_csv(\"Eleicao.csv\",  index = False)\n",
        "m_dados.info()\n"
      ]
    },
    {
      "cell_type": "markdown",
      "metadata": {
        "id": "ancTZIOG9XWX"
      },
      "source": [
        "# Sabendo o número de colunas no dataset, eu posso separar X e Y, sabendo que Y está na ultima coluna, irei pegar todas para X exceto a última e para Y somente a última, claro."
      ]
    },
    {
      "cell_type": "markdown",
      "metadata": {
        "id": "-sdcbbG2zi4y"
      },
      "source": [
        "## Separei x e y para começar  a treinar meu modelo"
      ]
    },
    {
      "cell_type": "code",
      "execution_count": null,
      "metadata": {
        "colab": {
          "base_uri": "https://localhost:8080/"
        },
        "id": "3Ytzq9QAoZ94",
        "outputId": "5dbf88fd-f69e-4287-e2d9-de8a22e3d521"
      },
      "outputs": [
        {
          "data": {
            "text/plain": [
              "array([[   55.   , 10000.   , 11701.38 , ...,     0.   ,     0.   ,\n",
              "            0.   ],\n",
              "       [   51.   ,  6434.128,  1179.7  , ...,     0.   ,     0.   ,\n",
              "            0.   ],\n",
              "       [   56.   ,  6434.128,  8246.85 , ...,     0.   ,     0.   ,\n",
              "            0.   ],\n",
              "       ...,\n",
              "       [   43.   ,  6434.128,  1387.04 , ...,     0.   ,     0.   ,\n",
              "            0.   ],\n",
              "       [   53.   ,  6434.128,   187.5  , ...,     0.   ,     0.   ,\n",
              "            0.   ],\n",
              "       [   57.   ,   680.   ,  6191.85 , ...,     0.   ,     0.   ,\n",
              "            0.   ]], dtype=float32)"
            ]
          },
          "execution_count": 33,
          "metadata": {},
          "output_type": "execute_result"
        }
      ],
      "source": [
        "#len(m_dados.columns)\n",
        "dados_final = m_dados.values\n",
        "X = dados_final[:,0:161].astype('float32')\n",
        "X\n"
      ]
    },
    {
      "cell_type": "code",
      "execution_count": null,
      "metadata": {
        "id": "xYrz1L9ZqpKN"
      },
      "outputs": [],
      "source": [
        "Y=dados_final[:,161] #Atenção ainda esta com tipo string.\n",
        "#Y"
      ]
    },
    {
      "cell_type": "markdown",
      "metadata": {
        "id": "213EQGr53luz"
      },
      "source": [
        "##Ao modelar problemas de classificação multiclasse usando redes neurais, é uma boa prática remodelar o atributo de saída de um vetor que contém valores para cada valor de classe para ser uma matriz com um booleano para cada valor de classe e se uma determinada instância tem ou não isso valor da classe ou não."
      ]
    },
    {
      "cell_type": "code",
      "execution_count": null,
      "metadata": {
        "id": "td34PWtBbVPC"
      },
      "outputs": [],
      "source": [
        "encoder = LabelEncoder()\n",
        "encoder.fit(Y)\n",
        "encoded_Y = encoder.transform(Y)"
      ]
    },
    {
      "cell_type": "markdown",
      "metadata": {
        "id": "-lADPBCt-CkW"
      },
      "source": [
        "##Podemos fazer isso primeiro codificando as strings de forma consistente para inteiros usando a classe LabelEncoder do scikit-learn. Depois podemos converter o vetor de inteiros em uma codificação única usando a função Keras to_categorical ()."
      ]
    },
    {
      "cell_type": "code",
      "execution_count": null,
      "metadata": {
        "colab": {
          "base_uri": "https://localhost:8080/"
        },
        "id": "DBI9anxDrBKr",
        "outputId": "20d11604-9787-4a59-b3ca-c6033b1cd5fb"
      },
      "outputs": [
        {
          "data": {
            "text/plain": [
              "array([[0., 0., 1.],\n",
              "       [0., 0., 1.],\n",
              "       [0., 0., 1.],\n",
              "       ...,\n",
              "       [0., 1., 0.],\n",
              "       [0., 1., 0.],\n",
              "       [0., 0., 1.]], dtype=float32)"
            ]
          },
          "execution_count": 36,
          "metadata": {},
          "output_type": "execute_result"
        }
      ],
      "source": [
        "dummy_y = np_utils.to_categorical(encoded_Y)\n",
        "dummy_y"
      ]
    },
    {
      "cell_type": "markdown",
      "metadata": {
        "id": "aPzxXFyv-TSi"
      },
      "source": [
        "# Agora minha variável Y está pronta, tive que fazer isso pois o modelo terá  3 saídas pois temos multivalores possíveis."
      ]
    },
    {
      "cell_type": "code",
      "execution_count": null,
      "metadata": {
        "id": "zm2B5PpEAv6c"
      },
      "outputs": [],
      "source": [
        "checkpoint_dir = './training_checkpoints'\n",
        "checkpoint_prefix = os.path.join(checkpoint_dir, 'ckpt_{epoch}')\n",
        "checkpoint_callback = tf.keras.callbacks.ModelCheckpoint(filepath=checkpoint_prefix, save_weights_only=True)"
      ]
    },
    {
      "cell_type": "code",
      "execution_count": null,
      "metadata": {
        "colab": {
          "base_uri": "https://localhost:8080/"
        },
        "id": "CfiPTyFx9kns",
        "outputId": "b0e8ed65-803b-45ba-a098-869a37cf850b"
      },
      "outputs": [
        {
          "name": "stdout",
          "output_type": "stream",
          "text": [
            "[[0.6140351  0.0938732  0.10905632 ... 0.         0.         0.        ]\n",
            " [0.5438596  0.06036907 0.01070098 ... 0.         0.         0.        ]\n",
            " [0.6315789  0.06036907 0.0767638  ... 0.         0.         0.        ]\n",
            " ...\n",
            " [0.40350875 0.06036907 0.01263917 ... 0.         0.         0.        ]\n",
            " [0.5789474  0.06036907 0.00142602 ... 0.         0.         0.        ]\n",
            " [0.64912283 0.00630457 0.05755392 ... 0.         0.         0.        ]]\n"
          ]
        }
      ],
      "source": [
        "min_max_scaler = preprocessing.MinMaxScaler()\n",
        "X_scale = min_max_scaler.fit_transform(X)\n",
        "print(X_scale)"
      ]
    },
    {
      "cell_type": "markdown",
      "metadata": {
        "id": "ZMQHudx7Sc0i"
      },
      "source": [
        "# Aplicarei o SMOTE(Synthetic Minority Over-sampling Technique) que irá gerar dados sintéticos para classe minoritária, no caso, a variável ELEITO, temos que fazer isso para deixar nossa análise balanceada e não \"viciar\" nosso algoritmo."
      ]
    },
    {
      "cell_type": "code",
      "execution_count": null,
      "metadata": {
        "id": "9pL-7_MQPSDk"
      },
      "outputs": [],
      "source": [
        "from imblearn.over_sampling import SMOTE \n",
        "smt = SMOTE()\n",
        "X_scale, dummy_y = smt.fit_resample(X_scale, dummy_y)"
      ]
    },
    {
      "cell_type": "markdown",
      "metadata": {
        "id": "aYvPl8r6-2iw"
      },
      "source": [
        "# Agora irei separar dados de Treino, Teste e o de validação, pois no final vou conferir o quanto esse algoritmo está coerente em relação aos dados de treino."
      ]
    },
    {
      "cell_type": "code",
      "execution_count": null,
      "metadata": {
        "colab": {
          "base_uri": "https://localhost:8080/"
        },
        "id": "krCBltKQRI8D",
        "outputId": "d21df671-3d30-4d27-fb5b-2bd0e01557f1"
      },
      "outputs": [
        {
          "name": "stdout",
          "output_type": "stream",
          "text": [
            "(1037, 161) (222, 161) (223, 161) (1037, 3) (222, 3) (223, 3)\n"
          ]
        }
      ],
      "source": [
        "X_train, X_val_and_test, Y_train, Y_val_and_test = train_test_split(X_scale, dummy_y, test_size=0.3)\n",
        "X_val, X_test, Y_val, Y_test = train_test_split(X_val_and_test, Y_val_and_test, test_size=0.5)\n",
        "print(X_train.shape, X_val.shape, X_test.shape, Y_train.shape, Y_val.shape, Y_test.shape)\n"
      ]
    },
    {
      "cell_type": "code",
      "execution_count": null,
      "metadata": {
        "id": "4lB1_g5WQRZ6"
      },
      "outputs": [],
      "source": [
        "model = Sequential([\n",
        "    Dense(4, activation='relu', input_dim=161),\n",
        "    Dense(1, activation='relu'),\n",
        "    Dense(3, activation='softmax'),\n",
        "])\n",
        "model.compile(loss='categorical_crossentropy', optimizer='adam', metrics=['accuracy'])"
      ]
    },
    {
      "cell_type": "code",
      "execution_count": null,
      "metadata": {
        "colab": {
          "base_uri": "https://localhost:8080/"
        },
        "id": "Uo9PpPAUDoHX",
        "outputId": "43d53483-17e1-4fd5-8bc3-52fe912951c5"
      },
      "outputs": [
        {
          "name": "stdout",
          "output_type": "stream",
          "text": [
            "Model: \"sequential\"\n",
            "_________________________________________________________________\n",
            " Layer (type)                Output Shape              Param #   \n",
            "=================================================================\n",
            " dense (Dense)               (None, 4)                 648       \n",
            "                                                                 \n",
            " dense_1 (Dense)             (None, 1)                 5         \n",
            "                                                                 \n",
            " dense_2 (Dense)             (None, 3)                 6         \n",
            "                                                                 \n",
            "=================================================================\n",
            "Total params: 659\n",
            "Trainable params: 659\n",
            "Non-trainable params: 0\n",
            "_________________________________________________________________\n"
          ]
        }
      ],
      "source": [
        "model.summary()"
      ]
    },
    {
      "cell_type": "code",
      "execution_count": null,
      "metadata": {
        "id": "qg5E4Io0_wnJ"
      },
      "outputs": [],
      "source": [
        "checkpoint_dir = './training_checkpoints'\n",
        "checkpoint_prefix = os.path.join(checkpoint_dir, 'ckpt_{epoch}')\n",
        "checkpoint_callback = tf.keras.callbacks.ModelCheckpoint(filepath=checkpoint_prefix, save_weights_only=True)"
      ]
    },
    {
      "cell_type": "code",
      "execution_count": null,
      "metadata": {
        "colab": {
          "base_uri": "https://localhost:8080/"
        },
        "id": "2kKV0lbdQLWK",
        "outputId": "1366a32a-c828-47e8-eae1-34707c99c378"
      },
      "outputs": [
        {
          "name": "stdout",
          "output_type": "stream",
          "text": [
            "Epoch 1/80\n",
            "104/104 [==============================] - 1s 4ms/step - loss: 1.0970 - accuracy: 0.3578 - val_loss: 1.0820 - val_accuracy: 0.4144\n",
            "Epoch 2/80\n",
            "104/104 [==============================] - 0s 3ms/step - loss: 1.0660 - accuracy: 0.4349 - val_loss: 1.0586 - val_accuracy: 0.4595\n",
            "Epoch 3/80\n",
            "104/104 [==============================] - 0s 2ms/step - loss: 1.0287 - accuracy: 0.4831 - val_loss: 1.0177 - val_accuracy: 0.5000\n",
            "Epoch 4/80\n",
            "104/104 [==============================] - 0s 3ms/step - loss: 0.9751 - accuracy: 0.5391 - val_loss: 0.9597 - val_accuracy: 0.5405\n",
            "Epoch 5/80\n",
            "104/104 [==============================] - 0s 2ms/step - loss: 0.9152 - accuracy: 0.5911 - val_loss: 0.9090 - val_accuracy: 0.6126\n",
            "Epoch 6/80\n",
            "104/104 [==============================] - 0s 2ms/step - loss: 0.8624 - accuracy: 0.6451 - val_loss: 0.8620 - val_accuracy: 0.6441\n",
            "Epoch 7/80\n",
            "104/104 [==============================] - 0s 3ms/step - loss: 0.8217 - accuracy: 0.6567 - val_loss: 0.8289 - val_accuracy: 0.6712\n",
            "Epoch 8/80\n",
            "104/104 [==============================] - 0s 3ms/step - loss: 0.7877 - accuracy: 0.6885 - val_loss: 0.7956 - val_accuracy: 0.6982\n",
            "Epoch 9/80\n",
            "104/104 [==============================] - 0s 3ms/step - loss: 0.7601 - accuracy: 0.6991 - val_loss: 0.7704 - val_accuracy: 0.6306\n",
            "Epoch 10/80\n",
            "104/104 [==============================] - 0s 2ms/step - loss: 0.7375 - accuracy: 0.7059 - val_loss: 0.7553 - val_accuracy: 0.7252\n",
            "Epoch 11/80\n",
            "104/104 [==============================] - 0s 3ms/step - loss: 0.7173 - accuracy: 0.7242 - val_loss: 0.7356 - val_accuracy: 0.6712\n",
            "Epoch 12/80\n",
            "104/104 [==============================] - 0s 3ms/step - loss: 0.7009 - accuracy: 0.7454 - val_loss: 0.7209 - val_accuracy: 0.6847\n",
            "Epoch 13/80\n",
            "104/104 [==============================] - 0s 2ms/step - loss: 0.6868 - accuracy: 0.7551 - val_loss: 0.7121 - val_accuracy: 0.7297\n",
            "Epoch 14/80\n",
            "104/104 [==============================] - 0s 2ms/step - loss: 0.6742 - accuracy: 0.7647 - val_loss: 0.7029 - val_accuracy: 0.6667\n",
            "Epoch 15/80\n",
            "104/104 [==============================] - 0s 2ms/step - loss: 0.6622 - accuracy: 0.7985 - val_loss: 0.6921 - val_accuracy: 0.7477\n",
            "Epoch 16/80\n",
            "104/104 [==============================] - 0s 2ms/step - loss: 0.6514 - accuracy: 0.8129 - val_loss: 0.6841 - val_accuracy: 0.7703\n",
            "Epoch 17/80\n",
            "104/104 [==============================] - 0s 3ms/step - loss: 0.6401 - accuracy: 0.8284 - val_loss: 0.6757 - val_accuracy: 0.8108\n",
            "Epoch 18/80\n",
            "104/104 [==============================] - 0s 2ms/step - loss: 0.6300 - accuracy: 0.8689 - val_loss: 0.6639 - val_accuracy: 0.8288\n",
            "Epoch 19/80\n",
            "104/104 [==============================] - 0s 2ms/step - loss: 0.6188 - accuracy: 0.8824 - val_loss: 0.6625 - val_accuracy: 0.8153\n",
            "Epoch 20/80\n",
            "104/104 [==============================] - 0s 3ms/step - loss: 0.6065 - accuracy: 0.8930 - val_loss: 0.6450 - val_accuracy: 0.8604\n",
            "Epoch 21/80\n",
            "104/104 [==============================] - 0s 2ms/step - loss: 0.5930 - accuracy: 0.8910 - val_loss: 0.6337 - val_accuracy: 0.8468\n",
            "Epoch 22/80\n",
            "104/104 [==============================] - 0s 3ms/step - loss: 0.5782 - accuracy: 0.8997 - val_loss: 0.6219 - val_accuracy: 0.8604\n",
            "Epoch 23/80\n",
            "104/104 [==============================] - 0s 3ms/step - loss: 0.5640 - accuracy: 0.9142 - val_loss: 0.6110 - val_accuracy: 0.8468\n",
            "Epoch 24/80\n",
            "104/104 [==============================] - 0s 2ms/step - loss: 0.5476 - accuracy: 0.9257 - val_loss: 0.6011 - val_accuracy: 0.8514\n",
            "Epoch 25/80\n",
            "104/104 [==============================] - 0s 2ms/step - loss: 0.5323 - accuracy: 0.9257 - val_loss: 0.5834 - val_accuracy: 0.8694\n",
            "Epoch 26/80\n",
            "104/104 [==============================] - 0s 3ms/step - loss: 0.5161 - accuracy: 0.9335 - val_loss: 0.5758 - val_accuracy: 0.8739\n",
            "Epoch 27/80\n",
            "104/104 [==============================] - 0s 2ms/step - loss: 0.5022 - accuracy: 0.9296 - val_loss: 0.5642 - val_accuracy: 0.8739\n",
            "Epoch 28/80\n",
            "104/104 [==============================] - 0s 2ms/step - loss: 0.4885 - accuracy: 0.9325 - val_loss: 0.5501 - val_accuracy: 0.8829\n",
            "Epoch 29/80\n",
            "104/104 [==============================] - 0s 3ms/step - loss: 0.4760 - accuracy: 0.9325 - val_loss: 0.5399 - val_accuracy: 0.8874\n",
            "Epoch 30/80\n",
            "104/104 [==============================] - 0s 3ms/step - loss: 0.4616 - accuracy: 0.9364 - val_loss: 0.5308 - val_accuracy: 0.9054\n",
            "Epoch 31/80\n",
            "104/104 [==============================] - 0s 3ms/step - loss: 0.4501 - accuracy: 0.9392 - val_loss: 0.5166 - val_accuracy: 0.8964\n",
            "Epoch 32/80\n",
            "104/104 [==============================] - 0s 2ms/step - loss: 0.4379 - accuracy: 0.9392 - val_loss: 0.5109 - val_accuracy: 0.8964\n",
            "Epoch 33/80\n",
            "104/104 [==============================] - 0s 2ms/step - loss: 0.4277 - accuracy: 0.9392 - val_loss: 0.5000 - val_accuracy: 0.8964\n",
            "Epoch 34/80\n",
            "104/104 [==============================] - 0s 3ms/step - loss: 0.4185 - accuracy: 0.9383 - val_loss: 0.4988 - val_accuracy: 0.8919\n",
            "Epoch 35/80\n",
            "104/104 [==============================] - 0s 2ms/step - loss: 0.4104 - accuracy: 0.9392 - val_loss: 0.4878 - val_accuracy: 0.8919\n",
            "Epoch 36/80\n",
            "104/104 [==============================] - 0s 3ms/step - loss: 0.4016 - accuracy: 0.9354 - val_loss: 0.4841 - val_accuracy: 0.8919\n",
            "Epoch 37/80\n",
            "104/104 [==============================] - 0s 3ms/step - loss: 0.3952 - accuracy: 0.9373 - val_loss: 0.4852 - val_accuracy: 0.8919\n",
            "Epoch 38/80\n",
            "104/104 [==============================] - 0s 2ms/step - loss: 0.3869 - accuracy: 0.9373 - val_loss: 0.4806 - val_accuracy: 0.8874\n",
            "Epoch 39/80\n",
            "104/104 [==============================] - 0s 3ms/step - loss: 0.3809 - accuracy: 0.9364 - val_loss: 0.4758 - val_accuracy: 0.8874\n",
            "Epoch 40/80\n",
            "104/104 [==============================] - 0s 3ms/step - loss: 0.3732 - accuracy: 0.9354 - val_loss: 0.4752 - val_accuracy: 0.8874\n",
            "Epoch 41/80\n",
            "104/104 [==============================] - 0s 2ms/step - loss: 0.3682 - accuracy: 0.9306 - val_loss: 0.4741 - val_accuracy: 0.8874\n",
            "Epoch 42/80\n",
            "104/104 [==============================] - 0s 3ms/step - loss: 0.3625 - accuracy: 0.9344 - val_loss: 0.4652 - val_accuracy: 0.8784\n",
            "Epoch 43/80\n",
            "104/104 [==============================] - 0s 3ms/step - loss: 0.3559 - accuracy: 0.9344 - val_loss: 0.4628 - val_accuracy: 0.8784\n",
            "Epoch 44/80\n",
            "104/104 [==============================] - 0s 3ms/step - loss: 0.3517 - accuracy: 0.9335 - val_loss: 0.4566 - val_accuracy: 0.8829\n",
            "Epoch 45/80\n",
            "104/104 [==============================] - 0s 3ms/step - loss: 0.3460 - accuracy: 0.9364 - val_loss: 0.4657 - val_accuracy: 0.8784\n",
            "Epoch 46/80\n",
            "104/104 [==============================] - 0s 2ms/step - loss: 0.3430 - accuracy: 0.9364 - val_loss: 0.4699 - val_accuracy: 0.8829\n",
            "Epoch 47/80\n",
            "104/104 [==============================] - 0s 3ms/step - loss: 0.3396 - accuracy: 0.9354 - val_loss: 0.4531 - val_accuracy: 0.8829\n",
            "Epoch 48/80\n",
            "104/104 [==============================] - 0s 3ms/step - loss: 0.3354 - accuracy: 0.9325 - val_loss: 0.4523 - val_accuracy: 0.8874\n",
            "Epoch 49/80\n",
            "104/104 [==============================] - 0s 2ms/step - loss: 0.3311 - accuracy: 0.9335 - val_loss: 0.4521 - val_accuracy: 0.8829\n",
            "Epoch 50/80\n",
            "104/104 [==============================] - 0s 3ms/step - loss: 0.3254 - accuracy: 0.9364 - val_loss: 0.4608 - val_accuracy: 0.8739\n",
            "Epoch 51/80\n",
            "104/104 [==============================] - 0s 3ms/step - loss: 0.3227 - accuracy: 0.9354 - val_loss: 0.4580 - val_accuracy: 0.8874\n",
            "Epoch 52/80\n",
            "104/104 [==============================] - 0s 3ms/step - loss: 0.3184 - accuracy: 0.9325 - val_loss: 0.4550 - val_accuracy: 0.8829\n",
            "Epoch 53/80\n",
            "104/104 [==============================] - 0s 3ms/step - loss: 0.3153 - accuracy: 0.9344 - val_loss: 0.4514 - val_accuracy: 0.8874\n",
            "Epoch 54/80\n",
            "104/104 [==============================] - 0s 2ms/step - loss: 0.3119 - accuracy: 0.9354 - val_loss: 0.4473 - val_accuracy: 0.8784\n",
            "Epoch 55/80\n",
            "104/104 [==============================] - 0s 2ms/step - loss: 0.3082 - accuracy: 0.9364 - val_loss: 0.4535 - val_accuracy: 0.8874\n",
            "Epoch 56/80\n",
            "104/104 [==============================] - 0s 3ms/step - loss: 0.3051 - accuracy: 0.9354 - val_loss: 0.4471 - val_accuracy: 0.8829\n",
            "Epoch 57/80\n",
            "104/104 [==============================] - 0s 3ms/step - loss: 0.3031 - accuracy: 0.9364 - val_loss: 0.4536 - val_accuracy: 0.8964\n",
            "Epoch 58/80\n",
            "104/104 [==============================] - 0s 2ms/step - loss: 0.3002 - accuracy: 0.9364 - val_loss: 0.4500 - val_accuracy: 0.8874\n",
            "Epoch 59/80\n",
            "104/104 [==============================] - 0s 2ms/step - loss: 0.2985 - accuracy: 0.9344 - val_loss: 0.4462 - val_accuracy: 0.8829\n",
            "Epoch 60/80\n",
            "104/104 [==============================] - 0s 3ms/step - loss: 0.2960 - accuracy: 0.9364 - val_loss: 0.4509 - val_accuracy: 0.8919\n",
            "Epoch 61/80\n",
            "104/104 [==============================] - 0s 2ms/step - loss: 0.2919 - accuracy: 0.9373 - val_loss: 0.4544 - val_accuracy: 0.8829\n",
            "Epoch 62/80\n",
            "104/104 [==============================] - 0s 3ms/step - loss: 0.2896 - accuracy: 0.9373 - val_loss: 0.4540 - val_accuracy: 0.8874\n",
            "Epoch 63/80\n",
            "104/104 [==============================] - 0s 3ms/step - loss: 0.2868 - accuracy: 0.9373 - val_loss: 0.4476 - val_accuracy: 0.8829\n",
            "Epoch 64/80\n",
            "104/104 [==============================] - 0s 2ms/step - loss: 0.2826 - accuracy: 0.9373 - val_loss: 0.4379 - val_accuracy: 0.8829\n",
            "Epoch 65/80\n",
            "104/104 [==============================] - 0s 2ms/step - loss: 0.2727 - accuracy: 0.9392 - val_loss: 0.4356 - val_accuracy: 0.8964\n",
            "Epoch 66/80\n",
            "104/104 [==============================] - 0s 3ms/step - loss: 0.2619 - accuracy: 0.9412 - val_loss: 0.4444 - val_accuracy: 0.8964\n",
            "Epoch 67/80\n",
            "104/104 [==============================] - 0s 2ms/step - loss: 0.2598 - accuracy: 0.9450 - val_loss: 0.4383 - val_accuracy: 0.8964\n",
            "Epoch 68/80\n",
            "104/104 [==============================] - 0s 2ms/step - loss: 0.2543 - accuracy: 0.9431 - val_loss: 0.4371 - val_accuracy: 0.8964\n",
            "Epoch 69/80\n",
            "104/104 [==============================] - 0s 2ms/step - loss: 0.2521 - accuracy: 0.9479 - val_loss: 0.4303 - val_accuracy: 0.8964\n",
            "Epoch 70/80\n",
            "104/104 [==============================] - 0s 3ms/step - loss: 0.2514 - accuracy: 0.9441 - val_loss: 0.4309 - val_accuracy: 0.8919\n",
            "Epoch 71/80\n",
            "104/104 [==============================] - 0s 2ms/step - loss: 0.2478 - accuracy: 0.9470 - val_loss: 0.4254 - val_accuracy: 0.8964\n",
            "Epoch 72/80\n",
            "104/104 [==============================] - 0s 3ms/step - loss: 0.2445 - accuracy: 0.9470 - val_loss: 0.4271 - val_accuracy: 0.8964\n",
            "Epoch 73/80\n",
            "104/104 [==============================] - 0s 2ms/step - loss: 0.2428 - accuracy: 0.9489 - val_loss: 0.4358 - val_accuracy: 0.9054\n",
            "Epoch 74/80\n",
            "104/104 [==============================] - 0s 2ms/step - loss: 0.2401 - accuracy: 0.9460 - val_loss: 0.4349 - val_accuracy: 0.9054\n",
            "Epoch 75/80\n",
            "104/104 [==============================] - 0s 2ms/step - loss: 0.2380 - accuracy: 0.9460 - val_loss: 0.4252 - val_accuracy: 0.9099\n",
            "Epoch 76/80\n",
            "104/104 [==============================] - 0s 2ms/step - loss: 0.2365 - accuracy: 0.9499 - val_loss: 0.4351 - val_accuracy: 0.9144\n",
            "Epoch 77/80\n",
            "104/104 [==============================] - 0s 3ms/step - loss: 0.2339 - accuracy: 0.9479 - val_loss: 0.4542 - val_accuracy: 0.9054\n",
            "Epoch 78/80\n",
            "104/104 [==============================] - 0s 2ms/step - loss: 0.2333 - accuracy: 0.9508 - val_loss: 0.4264 - val_accuracy: 0.9054\n",
            "Epoch 79/80\n",
            "104/104 [==============================] - 0s 3ms/step - loss: 0.2306 - accuracy: 0.9518 - val_loss: 0.4504 - val_accuracy: 0.9099\n",
            "Epoch 80/80\n",
            "104/104 [==============================] - 0s 4ms/step - loss: 0.2298 - accuracy: 0.9489 - val_loss: 0.4364 - val_accuracy: 0.9144\n",
            "CPU times: user 21.2 s, sys: 1.58 s, total: 22.8 s\n",
            "Wall time: 22 s\n"
          ]
        }
      ],
      "source": [
        "%%time\n",
        "hist = model.fit(X_train, Y_train,\n",
        "          batch_size=10, epochs=80,\n",
        "          validation_data=(X_val, Y_val),callbacks=[checkpoint_callback])"
      ]
    },
    {
      "cell_type": "code",
      "execution_count": null,
      "metadata": {
        "colab": {
          "base_uri": "https://localhost:8080/",
          "height": 35
        },
        "id": "ZxJPUNqG_qvO",
        "outputId": "289bb55a-e25d-4664-c7ef-4c2f6c97377a"
      },
      "outputs": [
        {
          "data": {
            "application/vnd.google.colaboratory.intrinsic+json": {
              "type": "string"
            },
            "text/plain": [
              "'./training_checkpoints/ckpt_80'"
            ]
          },
          "execution_count": 45,
          "metadata": {},
          "output_type": "execute_result"
        }
      ],
      "source": [
        "tf.train.latest_checkpoint(checkpoint_dir)"
      ]
    },
    {
      "cell_type": "code",
      "execution_count": null,
      "metadata": {
        "colab": {
          "base_uri": "https://localhost:8080/",
          "height": 35
        },
        "id": "RTcpV5OQN9pu",
        "outputId": "176bedba-be42-45c7-f712-da2250ed80ea"
      },
      "outputs": [
        {
          "data": {
            "application/vnd.google.colaboratory.intrinsic+json": {
              "type": "string"
            },
            "text/plain": [
              "'./training_checkpoints/ckpt_80'"
            ]
          },
          "execution_count": 46,
          "metadata": {},
          "output_type": "execute_result"
        }
      ],
      "source": [
        "latest = tf.train.latest_checkpoint(checkpoint_dir)\n",
        "latest"
      ]
    },
    {
      "cell_type": "markdown",
      "metadata": {
        "id": "dYFLPGl-MoWP"
      },
      "source": [
        "## [[ELEITO],[NAO ELEITO],[SUPLENTE]]"
      ]
    },
    {
      "cell_type": "code",
      "execution_count": null,
      "metadata": {
        "colab": {
          "base_uri": "https://localhost:8080/"
        },
        "id": "asEY49smJBLf",
        "outputId": "6db2ec05-7a0b-470d-c5a7-f8c7d362991a"
      },
      "outputs": [
        {
          "name": "stdout",
          "output_type": "stream",
          "text": [
            "accuracy: 94.89%\n"
          ]
        }
      ],
      "source": [
        "score = model.evaluate(X_train, Y_train, verbose=0)\n",
        "print(\"%s: %.2f%%\" % (model.metrics_names[1], score[1]*100))"
      ]
    },
    {
      "cell_type": "markdown",
      "metadata": {
        "id": "hdAPeVJPUmHp"
      },
      "source": [
        "# OBS: Sem o método SMOTE ou NearMiss, por exemplo, chegariamos em uma acurácia bem parecida, mas temos que provar que o modelo está balanceado pois o algoritmo acertaria 95% apenas chutando suplente, pois suplente é a parte majoritária no dataset. Com o SMOTE reduzimos isso pois o modelo não se \"Viciou na classe majoritária\""
      ]
    },
    {
      "cell_type": "code",
      "execution_count": null,
      "metadata": {
        "colab": {
          "base_uri": "https://localhost:8080/"
        },
        "id": "4N8DuMLlU_jM",
        "outputId": "602fa63a-e3aa-4d81-8475-7ef19af7af61"
      },
      "outputs": [
        {
          "name": "stdout",
          "output_type": "stream",
          "text": [
            "              precision    recall  f1-score   support\n",
            "\n",
            "           0       0.31      0.36      0.33        73\n",
            "           1       0.32      0.29      0.31        75\n",
            "           2       0.34      0.32      0.33        71\n",
            "\n",
            "   micro avg       0.33      0.32      0.32       219\n",
            "   macro avg       0.33      0.32      0.32       219\n",
            "weighted avg       0.33      0.32      0.32       219\n",
            " samples avg       0.32      0.32      0.32       219\n",
            "\n"
          ]
        },
        {
          "name": "stderr",
          "output_type": "stream",
          "text": [
            "/usr/local/lib/python3.7/dist-packages/sklearn/metrics/_classification.py:1308: UndefinedMetricWarning: Precision and F-score are ill-defined and being set to 0.0 in samples with no predicted labels. Use `zero_division` parameter to control this behavior.\n",
            "  _warn_prf(average, modifier, msg_start, len(result))\n"
          ]
        }
      ],
      "source": [
        "from sklearn.metrics import classification_report\n",
        "prediction = model.predict(X_test[1:220])\n",
        "report = classification_report(Y_val[1:220], prediction.round())\n",
        "print(report)"
      ]
    },
    {
      "cell_type": "code",
      "execution_count": null,
      "metadata": {
        "colab": {
          "base_uri": "https://localhost:8080/"
        },
        "id": "aemH3IgwevD1",
        "outputId": "8293a065-71d0-4baf-ce5b-c95a1615390b"
      },
      "outputs": [
        {
          "name": "stdout",
          "output_type": "stream",
          "text": [
            "[[0.5615828  0.0008415  0.43757567]]\n",
            "[0.5615828]\n",
            "[0.0008415]\n",
            "[0.43757567]\n",
            "Candidato sera eleito\n"
          ]
        }
      ],
      "source": [
        "prediction = model.predict(X_test[1:2]) \n",
        "print(prediction)        # Testando para saber qual valor está em qual posição\n",
        "print(prediction[0,0:1]) # primeira é eleito\n",
        "print(prediction[0,1:2]) # segunda é não eleito\n",
        "print(prediction[0,2:])  # terceira suplente\n",
        "if prediction[0,2:]> prediction[0,0:1] and prediction[0,2:]> prediction[0,1:2]:\n",
        "  print(\"Não sera eleito mas tem chances de ser suplente\")\n",
        "elif prediction[0,0:1] > prediction[0,2:]  and prediction[0,0:1] > prediction[0,1:2]:\n",
        "  print(\"Candidato sera eleito\")\n",
        "else :\n",
        "  print(\"Não sera eleito\")\n",
        "\n"
      ]
    },
    {
      "cell_type": "markdown",
      "metadata": {
        "id": "figgxeVui-5M"
      },
      "source": []
    },
    {
      "cell_type": "markdown",
      "metadata": {
        "id": "RUo23_1YThvB"
      },
      "source": [
        "## Na predição acima provavelmente o candidato seria eleito"
      ]
    },
    {
      "cell_type": "markdown",
      "metadata": {
        "id": "8F8yWgXxDRpS"
      },
      "source": [
        "#Modelo treinado, salvo e testado, agora vou demonstrar algumas visualizações para ver se realmente está coerente com a realidade."
      ]
    },
    {
      "cell_type": "code",
      "execution_count": null,
      "metadata": {
        "colab": {
          "base_uri": "https://localhost:8080/",
          "height": 295
        },
        "id": "0ruhQrHRRX9H",
        "outputId": "a13724aa-5a16-4bec-ecf7-a9cd191d7e2e"
      },
      "outputs": [
        {
          "data": {
            "image/png": "[encoded data removed]",
            "text/plain": [
              "<Figure size 432x288 with 1 Axes>"
            ]
          },
          "metadata": {
            "needs_background": "light"
          },
          "output_type": "display_data"
        }
      ],
      "source": [
        "import matplotlib.pyplot as plt\n",
        "plt.plot(hist.history['loss'])\n",
        "plt.plot(hist.history['val_loss'])\n",
        "plt.title('Model loss')\n",
        "plt.ylabel('Loss')\n",
        "plt.xlabel('Epoch')\n",
        "plt.legend(['Train', 'Val'], loc='upper right')\n",
        "plt.show()"
      ]
    },
    {
      "cell_type": "code",
      "execution_count": null,
      "metadata": {
        "colab": {
          "base_uri": "https://localhost:8080/",
          "height": 295
        },
        "id": "yosMg-eTRkIq",
        "outputId": "959914d8-0bfd-4ec4-f865-4db92bc30efd"
      },
      "outputs": [
        {
          "data": {
            "image/png": "[encoded data removed]",
            "text/plain": [
              "<Figure size 432x288 with 1 Axes>"
            ]
          },
          "metadata": {
            "needs_background": "light"
          },
          "output_type": "display_data"
        }
      ],
      "source": [
        "plt.plot(hist.history['accuracy'])\n",
        "plt.plot(hist.history['val_accuracy'])\n",
        "plt.title('Model accuracy')\n",
        "plt.ylabel('Accuracy')\n",
        "plt.xlabel('Epoch')\n",
        "plt.legend(['Train', 'Val'], loc='lower right')\n",
        "plt.show()"
      ]
    },
    {
      "cell_type": "code",
      "execution_count": null,
      "metadata": {
        "id": "k2d4uetkjYeD"
      },
      "outputs": [],
      "source": []
    },
    {
      "cell_type": "code",
      "execution_count": null,
      "metadata": {
        "id": "MF_Xk4rrzOxD"
      },
      "outputs": [],
      "source": []
    },
    {
      "cell_type": "code",
      "execution_count": null,
      "metadata": {
        "colab": {
          "base_uri": "https://localhost:8080/"
        },
        "id": "ueVOL0FRfq3V",
        "outputId": "f4485557-9af2-4501-f8c6-00e08b2ca595"
      },
      "outputs": [
        {
          "name": "stdout",
          "output_type": "stream",
          "text": [
            "Saved model to disk\n"
          ]
        }
      ],
      "source": [
        "#SAVALNDO\n",
        "# serialize model to JSON\n",
        "model_json = model.to_json()\n",
        "with open(\"model.json\", \"w\") as json_file:\n",
        "    json_file.write(model_json)\n",
        "# serialize weights to HDF5\n",
        "model.save_weights(\"model.h5\")\n",
        "print(\"Saved model to disk\")\n",
        " \n",
        " "
      ]
    },
    {
      "cell_type": "code",
      "execution_count": null,
      "metadata": {
        "id": "XqMoBslNfvbG"
      },
      "outputs": [],
      "source": [
        "from keras.models import load_model\n",
        "from keras.models import model_from_json\n",
        "\n",
        "json_file = open('model.json', 'r')\n",
        "loaded_model_json = json_file.read()\n",
        "json_file.close()\n",
        "loaded_model = model_from_json(loaded_model_json)"
      ]
    },
    {
      "cell_type": "code",
      "execution_count": null,
      "metadata": {
        "colab": {
          "base_uri": "https://localhost:8080/"
        },
        "id": "sa7NNxz9fxnu",
        "outputId": "2b22e0f3-d81c-491d-cc06-104120e2e8e1"
      },
      "outputs": [
        {
          "name": "stdout",
          "output_type": "stream",
          "text": [
            "accuracy: 94.89%\n"
          ]
        }
      ],
      "source": [
        "\n",
        "loaded_model.load_weights(\"model.h5\")\n",
        "\n",
        "loaded_model.compile(loss='categorical_crossentropy', optimizer='adam', metrics=['accuracy'])\n",
        "score = loaded_model.evaluate(X_train, Y_train, verbose=0)\n",
        "print(\"%s: %.2f%%\" % (loaded_model.metrics_names[1], score[1]*100))\n"
      ]
    },
    {
      "cell_type": "code",
      "execution_count": null,
      "metadata": {
        "colab": {
          "base_uri": "https://localhost:8080/"
        },
        "id": "dV7Vt1gVmLVG",
        "outputId": "a2209181-a5c3-49e6-edf2-98c5ea4ae492"
      },
      "outputs": [
        {
          "name": "stdout",
          "output_type": "stream",
          "text": [
            "INFO:tensorflow:Assets written to: my_model/assets\n"
          ]
        }
      ],
      "source": [
        "model.save(\"my_model\")"
      ]
    },
    {
      "cell_type": "code",
      "execution_count": null,
      "metadata": {
        "id": "CvKvegquH9SI"
      },
      "outputs": [],
      "source": [
        "#np.save('my_history.npy',hist.history)\n",
        "#history=np.load('my_history.npy',allow_pickle='TRUE').item()\n",
        "#history\n",
        "model_cb = tf.keras.callbacks.ModelCheckpoint(filepath=checkpoint_dir)\n",
        "history_cb = tf.keras.callbacks.CSVLogger('./log.csv', separator=\",\", append=False)\n"
      ]
    }
  ],
  "metadata": {
    "colab": {
      "collapsed_sections": [],
      "name": "Eleicao_Classification_with_Keras.ipynb",
      "provenance": []
    },
    "kernelspec": {
      "display_name": "Python 3",
      "name": "python3"
    },
    "language_info": {
      "name": "python"
    }
  },
  "nbformat": 4,
  "nbformat_minor": 0
}
